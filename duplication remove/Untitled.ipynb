{
 "cells": [
  {
   "cell_type": "code",
   "execution_count": 1,
   "metadata": {},
   "outputs": [],
   "source": [
    "import os\n",
    "import re"
   ]
  },
  {
   "cell_type": "code",
   "execution_count": 11,
   "metadata": {},
   "outputs": [],
   "source": [
    "def jpg_image(dirname):\n",
    "    try:\n",
    "    \n",
    "        direct = os.listdir(dirname)\n",
    "        jpg_list = []\n",
    "        for file in direct:\n",
    "            full_file = os.path.join(dirname, file)\n",
    "\n",
    "            if os.path.isdir(full_file):\n",
    "                jpg_image(full_file)\n",
    "\n",
    "            else:\n",
    "                ext = os.path.splitext(full_file)[-1]\n",
    "\n",
    "\n",
    "                if ext == '.jpg':\n",
    "                    jpg_list.append(full_file)\n",
    "            print(jpg_list)\n",
    "\n",
    "            return jpg_list\n",
    "    \n",
    "    except PermissionError:\n",
    "        pass"
   ]
  },
  {
   "cell_type": "code",
   "execution_count": 12,
   "metadata": {},
   "outputs": [
    {
     "name": "stdout",
     "output_type": "stream",
     "text": [
      "[]\n",
      "[]\n"
     ]
    },
    {
     "data": {
      "text/plain": [
       "[]"
      ]
     },
     "execution_count": 12,
     "metadata": {},
     "output_type": "execute_result"
    }
   ],
   "source": [
    "jpg_image('D:Data_collection/mask_data/')"
   ]
  },
  {
   "cell_type": "code",
   "execution_count": null,
   "metadata": {},
   "outputs": [],
   "source": []
  }
 ],
 "metadata": {
  "kernelspec": {
   "display_name": "Python 3",
   "language": "python",
   "name": "python3"
  },
  "language_info": {
   "codemirror_mode": {
    "name": "ipython",
    "version": 3
   },
   "file_extension": ".py",
   "mimetype": "text/x-python",
   "name": "python",
   "nbconvert_exporter": "python",
   "pygments_lexer": "ipython3",
   "version": "3.7.6"
  }
 },
 "nbformat": 4,
 "nbformat_minor": 4
}
