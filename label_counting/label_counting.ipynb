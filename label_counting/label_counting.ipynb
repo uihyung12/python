{
 "cells": [
  {
   "cell_type": "code",
   "execution_count": 2,
   "metadata": {},
   "outputs": [],
   "source": [
    "import os\n",
    "import re"
   ]
  },
  {
   "cell_type": "code",
   "execution_count": 103,
   "metadata": {},
   "outputs": [],
   "source": [
    "def label_counting(dirname):\n",
    "    files = os.listdir(dirname)\n",
    "    txt_list = []\n",
    "    cnt = 0\n",
    "    cnt_list = []\n",
    "    print(cnt_list)\n",
    "    \n",
    "        \n",
    "    for file in files:\n",
    "        full_path = os.path.join(dirname, file)\n",
    "        \n",
    "        if os.path.isdir(full_path):\n",
    "            label_counting(full_path)\n",
    "            \n",
    "        else:\n",
    "            ext = os.path.splitext(full_path)[-1]\n",
    "            \n",
    "            if ext == '.txt':\n",
    "                txt_path = full_path.replace(\"\\\\\",'/')\n",
    "                \n",
    "                f1 = open(txt_path,'r')\n",
    "                while True:\n",
    "                    line = f1.readline()\n",
    "                    if not line:\n",
    "                        break\n",
    "                        \n",
    "                    label_split = line.rstrip(\"\\n\").split(' ')\n",
    "                    \n",
    "                    if label_split[0] == '9':\n",
    "                        txt_list.append(label_split[0])\n",
    "                        cnt = cnt+1\n",
    "                        cnt_list.append(cnt)\n",
    "                        \n",
    "                        \n",
    "    print(len(cnt_list))\n",
    "        \n",
    "        \n",
    "                \n",
    "                \n",
    "\n",
    "    "
   ]
  },
  {
   "cell_type": "code",
   "execution_count": 104,
   "metadata": {},
   "outputs": [
    {
     "name": "stdout",
     "output_type": "stream",
     "text": [
      "[]\n",
      "0\n"
     ]
    }
   ],
   "source": [
    "label_counting('D:/Data_collection/car_data/car_load_data/topcar_except/night/203550 (5-20-2020 3-57-31 PM)')"
   ]
  },
  {
   "cell_type": "code",
   "execution_count": null,
   "metadata": {},
   "outputs": [],
   "source": []
  }
 ],
 "metadata": {
  "kernelspec": {
   "display_name": "Python 3",
   "language": "python",
   "name": "python3"
  },
  "language_info": {
   "codemirror_mode": {
    "name": "ipython",
    "version": 3
   },
   "file_extension": ".py",
   "mimetype": "text/x-python",
   "name": "python",
   "nbconvert_exporter": "python",
   "pygments_lexer": "ipython3",
   "version": "3.7.6"
  }
 },
 "nbformat": 4,
 "nbformat_minor": 4
}
