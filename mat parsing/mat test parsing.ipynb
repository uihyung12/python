{
 "cells": [
  {
   "cell_type": "code",
   "execution_count": 1,
   "metadata": {},
   "outputs": [],
   "source": [
    "import os\n",
    "import re\n",
    "import cv2\n",
    "import numpy as np\n",
    "import re"
   ]
  },
  {
   "cell_type": "code",
   "execution_count": 2,
   "metadata": {},
   "outputs": [],
   "source": [
    "from scipy import io # mat file parsing 라이브러리"
   ]
  },
  {
   "cell_type": "code",
   "execution_count": 3,
   "metadata": {},
   "outputs": [],
   "source": [
    "mat_file = io.loadmat('D:/Data_collection/mask_data/MAFA-Label-Test/LabelTestAll.mat')#mat 파일 불러오기"
   ]
  },
  {
   "cell_type": "code",
   "execution_count": 4,
   "metadata": {
    "scrolled": true
   },
   "outputs": [
    {
     "name": "stdout",
     "output_type": "stream",
     "text": [
      "{'__header__': b'MATLAB 5.0 MAT-file, Platform: PCWIN64, Created on: Tue Sep 05 01:07:53 2017', '__version__': '1.0', '__globals__': [], 'LabelTest': array([[(array(['test_00000001.jpg'], dtype='<U17'), array([[2694, 1211,  353,  353,    1,    9,  105,  144,  337,    2,    3,\n",
      "           2,    2,    1,   -1,   -1,   -1,   -1],\n",
      "       [1754, 1449,   68,   68,    3,   -1,   -1,   -1,   -1,   -1,   -1,\n",
      "          -1,   -1,   -1,   -1,   -1,   -1,   -1]], dtype=int16)),\n",
      "        (array(['test_00000002.jpg'], dtype='<U17'), array([[113,  95, 226, 226,   1,   9,  71, 181, 221,   1,   3,   1,   2,\n",
      "          3,  -1,  -1,  -1,  -1]], dtype=int16)),\n",
      "        (array(['test_00000003.jpg'], dtype='<U17'), array([[352, 114, 151, 151,   1,  17,  45, 137, 135,   1,   3,   2,   2,\n",
      "          3,  -1,  -1,  -1,  -1],\n",
      "       [799, 217, 139, 139,   2,  -1,  -1,  -1,  -1,  -1,  -1,  -1,  -1,\n",
      "         -1,  -1,  -1,  -1,  -1]], dtype=int16)),\n",
      "        ...,\n",
      "        (array(['test_00004933.jpg'], dtype='<U17'), array([[ 80, 121, 245, 245,   1,  50,  81, 238, 242,   1,   3,   2,   2,\n",
      "          3,  -1,  -1,  -1,  -1]], dtype=int16)),\n",
      "        (array(['test_00004934.jpg'], dtype='<U17'), array([[148, 266, 276, 276,   1,  38,  68, 265, 248,   1,   3,   2,   2,\n",
      "          3,  -1,  -1,  -1,  -1]], dtype=int16)),\n",
      "        (array(['test_00004935.jpg'], dtype='<U17'), array([[110,  98, 318, 318,   1,  73, 124, 313, 302,   1,   3,   2,   2,\n",
      "          3,  -1,  -1,  -1,  -1]], dtype=int16))]],\n",
      "      dtype=[('name', 'O'), ('label', 'O')])}\n"
     ]
    }
   ],
   "source": [
    "print(mat_file)"
   ]
  },
  {
   "cell_type": "code",
   "execution_count": 5,
   "metadata": {},
   "outputs": [
    {
     "name": "stdout",
     "output_type": "stream",
     "text": [
      "__header__\n",
      "__version__\n",
      "__globals__\n",
      "LabelTest\n"
     ]
    }
   ],
   "source": [
    "for i in mat_file:#mat_file의 key 값 보기\n",
    "    print(i)"
   ]
  },
  {
   "cell_type": "code",
   "execution_count": 6,
   "metadata": {},
   "outputs": [
    {
     "data": {
      "text/plain": [
       "dict"
      ]
     },
     "execution_count": 6,
     "metadata": {},
     "output_type": "execute_result"
    }
   ],
   "source": [
    "type(mat_file)#mat 파일 형식 불러오는 것은 dict이다"
   ]
  },
  {
   "cell_type": "code",
   "execution_count": 7,
   "metadata": {},
   "outputs": [],
   "source": [
    "label_test = mat_file.get('LabelTest')# 중요한 값인 LabelTest값 가져오기"
   ]
  },
  {
   "cell_type": "code",
   "execution_count": 8,
   "metadata": {},
   "outputs": [
    {
     "name": "stdout",
     "output_type": "stream",
     "text": [
      "(1, 4935)\n"
     ]
    }
   ],
   "source": [
    "# print(type(label_test))\n",
    "print(label_test.shape)"
   ]
  },
  {
   "cell_type": "code",
   "execution_count": 33,
   "metadata": {},
   "outputs": [
    {
     "name": "stdout",
     "output_type": "stream",
     "text": [
      "2694 1211 353 353 1 9 105 144 337 2 3 2 2 1 -1 -1 -1 -1\n"
     ]
    }
   ],
   "source": [
    "a = listToStringWithoutBrackets(label_test[0][0][1]).split(']')[0].replace('[','')#4차원으로 2번째 array열을 바꾸면 index 값이 나온다\n",
    "sentence = re.sub(r\"\\s+\",\" \", a, flags=re.UNICODE)# 문자 사이에 공백제거\n",
    "print(sentence)"
   ]
  },
  {
   "cell_type": "code",
   "execution_count": 34,
   "metadata": {},
   "outputs": [
    {
     "name": "stdout",
     "output_type": "stream",
     "text": [
      "test_00000002.jpg\n"
     ]
    }
   ],
   "source": [
    "print(label_test[0][1][0][0])"
   ]
  },
  {
   "cell_type": "code",
   "execution_count": 94,
   "metadata": {},
   "outputs": [
    {
     "name": "stdout",
     "output_type": "stream",
     "text": [
      "[352 114 151 151   1  17  45 137 135   1   3   2   2   3  -1  -1  -1  -1]\n",
      "[799 217 139 139   2  -1  -1  -1  -1  -1  -1  -1  -1  -1  -1  -1  -1  -1]\n"
     ]
    }
   ],
   "source": [
    "for i in label_test[0][2][1]:\n",
    "    print(i)"
   ]
  },
  {
   "cell_type": "code",
   "execution_count": 91,
   "metadata": {},
   "outputs": [
    {
     "name": "stdout",
     "output_type": "stream",
     "text": [
      "[[352 114 151 151   1  17  45 137 135   1   3   2   2   3  -1  -1  -1  -1\n",
      " [799 217 139 139   2  -1  -1  -1  -1  -1  -1  -1  -1  -1  -1  -1  -1  -1\n",
      "\n",
      "\n"
     ]
    }
   ],
   "source": [
    "for i in listToStringWithoutBrackets(label_test[0][2][1]).split(']'):\n",
    "    print(i)"
   ]
  },
  {
   "cell_type": "code",
   "execution_count": 14,
   "metadata": {},
   "outputs": [],
   "source": [
    "def cleanText(readData):\n",
    " \n",
    "    #텍스트에 포함되어 있는 특수 문자 제거\n",
    " \n",
    "    text = re.sub('[-=+,#/\\?:^$.@*\\\"※~&%ㆍ!』\\\\‘|\\(\\)\\[\\]\\<\\>`\\'…》]', '', readData)\n",
    " \n",
    "    return text\n",
    "\n",
    "def listToStringWithoutBrackets(list1):\n",
    "    #return str(list1).replace('[','').replace(']','').replace('\\n','')\n",
    "    return str(list1).replace('\\n','')"
   ]
  },
  {
   "cell_type": "code",
   "execution_count": 98,
   "metadata": {},
   "outputs": [],
   "source": [
    "for index in range(4935):#txt 파일로 저장\n",
    "    f1 = open('D:/Data_collection/mask_data/test_matparsing/{}.txt'.format(label_test[0][index][0][0]), 'w+')\n",
    "    \n",
    "    for i in listToStringWithoutBrackets(label_test[0][index][1]).split(']'):\n",
    "#         print(\"i 부분 = {}\".format(i))\n",
    "        \n",
    "#         text = i.replace('[','').rstrip(' ')\n",
    "#         print(\"text 부분 = {}\".format(text))\n",
    "        sentence = re.sub(r\"\\s+\",\" \",i, flags=re.UNICODE)\n",
    "#         print(\"1번째 sentence 부분 = {}\".format(sentence))\n",
    "#         sentence = re.sub(r\"\\s+$\",\"\",sentence, flags=re.UNICODE)\n",
    "#         print(\"2번째 sentence 부분 = {}\".format(sentence))\n",
    "        f1.write('{}\\n'.format(sentence))\n",
    "#         f1.write(\"\")\n",
    "    f1.close()"
   ]
  },
  {
   "cell_type": "raw",
   "metadata": {},
   "source": [
    "mat_parsing = []\n",
    "\n",
    "for index in range(4935):#jpg 명과 값들 확인하기\n",
    "#     print('*'*60)\n",
    "    for i in range(2):\n",
    "        print(label_test[0][index][i])"
   ]
  },
  {
   "cell_type": "raw",
   "metadata": {},
   "source": [
    "label_test[0][0][1][0]"
   ]
  },
  {
   "cell_type": "raw",
   "metadata": {},
   "source": [
    "label_test"
   ]
  },
  {
   "cell_type": "raw",
   "metadata": {},
   "source": [
    "label_test[0][0][1][0]"
   ]
  },
  {
   "cell_type": "raw",
   "metadata": {},
   "source": [
    "len(label_test[0][0][1])"
   ]
  },
  {
   "cell_type": "raw",
   "metadata": {},
   "source": [
    "abc=listToStringWithoutBrackets(label_test)"
   ]
  },
  {
   "cell_type": "raw",
   "metadata": {},
   "source": [
    "print(abc.split(\",\"))"
   ]
  },
  {
   "cell_type": "raw",
   "metadata": {},
   "source": [
    "# print(type(label_test[0][0][1][0]))\n",
    "# print(label_test[0][0][1][0].shape)\n",
    "a = np.split(label_test[0][0][1], 2)\n",
    "# print(a[17][0])\n",
    "type(a)\n",
    "a = str(a)\n",
    "print(type(a))\n",
    "print(a.split(' '))"
   ]
  },
  {
   "cell_type": "raw",
   "metadata": {},
   "source": [
    "for index in range(4935):#txt 파일로 저장\n",
    "#     with open('D:/Data_collection/mask_data/test_matparsing/{}.txt'.format(label_test[0][index]), 'w+') as f:\n",
    "        for i in range(9870):\n",
    "            if i%2 == 1:\n",
    "                \n",
    "                list_split = np.split(label_test[0][0][i], 18)\n",
    "                print(list_split)\n",
    "#             for i in range(18):\n",
    "#                 f.write('{}'.format(list_split[i][0]))\n",
    "#                 f.write(' ')\n",
    "#         list_split = str(list_split)\n",
    "#         f.write(list_split[0][0])\n",
    "#         f.write(' ')\n",
    "#         f.write(list_split[1][0])\n",
    "        \n",
    "#         f.write('{}'.format(label_test[0][index][1][0]))\n",
    "        "
   ]
  },
  {
   "cell_type": "code",
   "execution_count": null,
   "metadata": {},
   "outputs": [],
   "source": [
    "def cleanText(readData):\n",
    " \n",
    "    #텍스트에 포함되어 있는 특수 문자 제거\n",
    " \n",
    "    text = re.sub('[-=+,#/\\?:^$.@*\\\"※~&%ㆍ!』\\\\‘|\\(\\)\\[\\]\\<\\>`\\'…》]', '', readData)\n",
    " \n",
    "    return text\n",
    "\n",
    "def listToStringWithoutBrackets(list1):\n",
    "    return str(list1).replace('[','').replace(']','')"
   ]
  },
  {
   "cell_type": "code",
   "execution_count": 65,
   "metadata": {},
   "outputs": [
    {
     "ename": "TypeError",
     "evalue": "expected string or bytes-like object",
     "output_type": "error",
     "traceback": [
      "\u001b[1;31m---------------------------------------------------------------------------\u001b[0m",
      "\u001b[1;31mTypeError\u001b[0m                                 Traceback (most recent call last)",
      "\u001b[1;32m<ipython-input-65-41266e8e8eab>\u001b[0m in \u001b[0;36m<module>\u001b[1;34m\u001b[0m\n\u001b[0;32m      7\u001b[0m         \u001b[1;32mbreak\u001b[0m\u001b[1;33m\u001b[0m\u001b[1;33m\u001b[0m\u001b[0m\n\u001b[0;32m      8\u001b[0m     \u001b[0mlabel_split\u001b[0m \u001b[1;33m=\u001b[0m \u001b[0mline\u001b[0m\u001b[1;33m.\u001b[0m\u001b[0mrstrip\u001b[0m\u001b[1;33m(\u001b[0m\u001b[1;34m\"\\n\"\u001b[0m\u001b[1;33m)\u001b[0m\u001b[1;33m.\u001b[0m\u001b[0msplit\u001b[0m\u001b[1;33m(\u001b[0m\u001b[1;34m' '\u001b[0m\u001b[1;33m)\u001b[0m\u001b[1;33m\u001b[0m\u001b[1;33m\u001b[0m\u001b[0m\n\u001b[1;32m----> 9\u001b[1;33m     \u001b[0msentence\u001b[0m \u001b[1;33m=\u001b[0m \u001b[0mre\u001b[0m\u001b[1;33m.\u001b[0m\u001b[0msub\u001b[0m\u001b[1;33m(\u001b[0m\u001b[1;34mr\"\\s+$\"\u001b[0m\u001b[1;33m,\u001b[0m\u001b[1;34m\"\"\u001b[0m\u001b[1;33m,\u001b[0m\u001b[0mlabel_split\u001b[0m\u001b[1;33m,\u001b[0m \u001b[0mflags\u001b[0m\u001b[1;33m=\u001b[0m\u001b[0mre\u001b[0m\u001b[1;33m.\u001b[0m\u001b[0mUNICODE\u001b[0m\u001b[1;33m)\u001b[0m\u001b[1;33m\u001b[0m\u001b[1;33m\u001b[0m\u001b[0m\n\u001b[0m\u001b[0;32m     10\u001b[0m     \u001b[0mprint\u001b[0m\u001b[1;33m(\u001b[0m\u001b[0msentence\u001b[0m\u001b[1;33m)\u001b[0m\u001b[1;33m\u001b[0m\u001b[1;33m\u001b[0m\u001b[0m\n\u001b[0;32m     11\u001b[0m \u001b[0mf1\u001b[0m\u001b[1;33m.\u001b[0m\u001b[0mclose\u001b[0m\u001b[1;33m(\u001b[0m\u001b[1;33m)\u001b[0m\u001b[1;33m\u001b[0m\u001b[1;33m\u001b[0m\u001b[0m\n",
      "\u001b[1;32m~\\Anaconda3\\lib\\re.py\u001b[0m in \u001b[0;36msub\u001b[1;34m(pattern, repl, string, count, flags)\u001b[0m\n\u001b[0;32m    190\u001b[0m     \u001b[0ma\u001b[0m \u001b[0mcallable\u001b[0m\u001b[1;33m,\u001b[0m \u001b[0mit\u001b[0m\u001b[0;31m'\u001b[0m\u001b[0ms\u001b[0m \u001b[0mpassed\u001b[0m \u001b[0mthe\u001b[0m \u001b[0mMatch\u001b[0m \u001b[0mobject\u001b[0m \u001b[1;32mand\u001b[0m \u001b[0mmust\u001b[0m \u001b[1;32mreturn\u001b[0m\u001b[1;33m\u001b[0m\u001b[1;33m\u001b[0m\u001b[0m\n\u001b[0;32m    191\u001b[0m     a replacement string to be used.\"\"\"\n\u001b[1;32m--> 192\u001b[1;33m     \u001b[1;32mreturn\u001b[0m \u001b[0m_compile\u001b[0m\u001b[1;33m(\u001b[0m\u001b[0mpattern\u001b[0m\u001b[1;33m,\u001b[0m \u001b[0mflags\u001b[0m\u001b[1;33m)\u001b[0m\u001b[1;33m.\u001b[0m\u001b[0msub\u001b[0m\u001b[1;33m(\u001b[0m\u001b[0mrepl\u001b[0m\u001b[1;33m,\u001b[0m \u001b[0mstring\u001b[0m\u001b[1;33m,\u001b[0m \u001b[0mcount\u001b[0m\u001b[1;33m)\u001b[0m\u001b[1;33m\u001b[0m\u001b[1;33m\u001b[0m\u001b[0m\n\u001b[0m\u001b[0;32m    193\u001b[0m \u001b[1;33m\u001b[0m\u001b[0m\n\u001b[0;32m    194\u001b[0m \u001b[1;32mdef\u001b[0m \u001b[0msubn\u001b[0m\u001b[1;33m(\u001b[0m\u001b[0mpattern\u001b[0m\u001b[1;33m,\u001b[0m \u001b[0mrepl\u001b[0m\u001b[1;33m,\u001b[0m \u001b[0mstring\u001b[0m\u001b[1;33m,\u001b[0m \u001b[0mcount\u001b[0m\u001b[1;33m=\u001b[0m\u001b[1;36m0\u001b[0m\u001b[1;33m,\u001b[0m \u001b[0mflags\u001b[0m\u001b[1;33m=\u001b[0m\u001b[1;36m0\u001b[0m\u001b[1;33m)\u001b[0m\u001b[1;33m:\u001b[0m\u001b[1;33m\u001b[0m\u001b[1;33m\u001b[0m\u001b[0m\n",
      "\u001b[1;31mTypeError\u001b[0m: expected string or bytes-like object"
     ]
    }
   ],
   "source": [
    "f1 = open(\"D:/Data_collection/mask_data/test_matparsing/test_00000001.jpg.txt\",'r')\n",
    "label = ''\n",
    "labels = ''\n",
    "while True:\n",
    "    line = f1.readline()\n",
    "    if not line:\n",
    "        break\n",
    "    label_split = line.rstrip(\"\\n\").split(' ')\n",
    "    sentence = re.sub(r\"\\s+$\",\"\",label_split, flags=re.UNICODE)\n",
    "    print(sentence)\n",
    "f1.close()"
   ]
  },
  {
   "cell_type": "code",
   "execution_count": null,
   "metadata": {},
   "outputs": [],
   "source": [
    "print(type(label))"
   ]
  },
  {
   "cell_type": "code",
   "execution_count": null,
   "metadata": {},
   "outputs": [],
   "source": [
    "print(type(labels))"
   ]
  },
  {
   "cell_type": "code",
   "execution_count": null,
   "metadata": {},
   "outputs": [],
   "source": [
    "print(labels[2])"
   ]
  },
  {
   "cell_type": "code",
   "execution_count": null,
   "metadata": {},
   "outputs": [],
   "source": [
    "label_split = listToStringWithoutBrackets(labels)\n",
    "print(type(label_split))"
   ]
  },
  {
   "cell_type": "code",
   "execution_count": null,
   "metadata": {},
   "outputs": [],
   "source": [
    "print(label_split.split(\"\\'\")[1])"
   ]
  },
  {
   "cell_type": "code",
   "execution_count": null,
   "metadata": {},
   "outputs": [],
   "source": [
    "f2 = open(\"D:/test_matparsing/test_00000124.txt\")\n",
    "label2 = ''\n",
    "labels2 = ''\n",
    "while True:\n",
    "    line = f2.readline()\n",
    "    if not line:\n",
    "        break\n",
    "    label2 = label2 + line\n",
    "    labels2 = label2.split()"
   ]
  },
  {
   "cell_type": "code",
   "execution_count": null,
   "metadata": {},
   "outputs": [],
   "source": [
    "print(type(label2))"
   ]
  },
  {
   "cell_type": "code",
   "execution_count": null,
   "metadata": {},
   "outputs": [],
   "source": [
    "print(label2)"
   ]
  },
  {
   "cell_type": "code",
   "execution_count": null,
   "metadata": {},
   "outputs": [],
   "source": [
    "print(label2.split(' ')[1])"
   ]
  },
  {
   "cell_type": "code",
   "execution_count": null,
   "metadata": {},
   "outputs": [],
   "source": [
    "print(type(labels2))\n",
    "print(labels2)\n",
    "# labels2 = listToStringWithoutBrackets(labels2)\n",
    "label_str = listToStringWithoutBrackets(labels2)\n",
    "print(type(label_str))\n",
    "# print(label_str)\n",
    "# print(label_str.replace('[','').replace(']',''))\n",
    "# print(label_str)\n",
    "label_convert = label_str.replace('[','').replace(']','')\n",
    "print(label_convert.replace(\"'\",'').replace(' ','').split(','))\n",
    "type(label_convert.replace(\"'\",'').replace(' ','').split(','))\n"
   ]
  },
  {
   "cell_type": "code",
   "execution_count": null,
   "metadata": {},
   "outputs": [],
   "source": [
    "def file_parsing(dirname):\n",
    "    try:\n",
    "        txt_lists = os.listdir(dirname)\n",
    "        \n",
    "        for file in txt_lists:\n",
    "            full_path = os.path.join(dirname, file)\n",
    "            \n",
    "            if os.path.isdir(full_path):\n",
    "                file_txt(full_path)\n",
    "                \n",
    "            else:\n",
    "                \n",
    "                ext = os.path.splitext(full_path)[-1]\n",
    "                \n",
    "                if ext == '.txt':\n",
    "                    f1 = open('{}'.format(full_path), 'w+')\n",
    "                    label = ''\n",
    "                    labels = ''\n",
    "                    while True:\n",
    "                        line = f1.readline()\n",
    "                        if not line:\n",
    "                            break\n",
    "                        label = label + line\n",
    "                        labels = label.split()\n",
    "                        \n",
    "                    label_str = listToStringWithoutBrackets(labels)\n",
    "                    label_convert = label_str.replace('[','').replace(']','')\n",
    "                    label_convert = label_convert.replace(\"'\",'').replace(' ','').split(',')\n",
    "                    f1.write(label_convert[])\n",
    "                    f1.close()\n",
    "                        \n",
    "                         \n",
    "        \n",
    "        \n",
    "    except PermissionError:\n",
    "        pass"
   ]
  },
  {
   "cell_type": "code",
   "execution_count": null,
   "metadata": {},
   "outputs": [],
   "source": [
    "file_parsing('D:/test_matparsing')"
   ]
  },
  {
   "cell_type": "code",
   "execution_count": null,
   "metadata": {},
   "outputs": [],
   "source": [
    "labels2 = listToStringWithoutBrackets(labels2)\n",
    "print(labels2)"
   ]
  },
  {
   "cell_type": "code",
   "execution_count": null,
   "metadata": {},
   "outputs": [],
   "source": [
    "print(labels2.split('\\'')[3])"
   ]
  },
  {
   "cell_type": "code",
   "execution_count": null,
   "metadata": {},
   "outputs": [],
   "source": [
    "f1 = open(\"D:/test_matparsing/test_00000001.txt\")\n",
    "label = ''\n",
    "labels = ''\n",
    "while True:\n",
    "    line = f1.readline()\n",
    "    if not line:\n",
    "        break\n",
    "    label = label + line\n",
    "    labels = label.split()"
   ]
  },
  {
   "cell_type": "code",
   "execution_count": null,
   "metadata": {},
   "outputs": [],
   "source": [
    "f2 = open(\"D:/test_matparsing/test_00000124.txt\")\n",
    "label2 = ''\n",
    "labels2 = ''\n",
    "while True:\n",
    "    line = f2.readline()\n",
    "    if not line:\n",
    "        break\n",
    "    label2 = label2 + line\n",
    "    labels2 = label2.split()"
   ]
  },
  {
   "cell_type": "code",
   "execution_count": null,
   "metadata": {},
   "outputs": [],
   "source": [
    "f4 = open(\"D:/test_matparsing/test_00000206.txt\")\n",
    "label4 = ''\n",
    "labels4 = ''\n",
    "while True:\n",
    "    line = f4.readline()\n",
    "    if not line:\n",
    "        break\n",
    "    label4 = label4 + line\n",
    "    labels4 = label3.split()"
   ]
  },
  {
   "cell_type": "code",
   "execution_count": null,
   "metadata": {},
   "outputs": [],
   "source": [
    "print(label2[1])"
   ]
  },
  {
   "cell_type": "code",
   "execution_count": null,
   "metadata": {},
   "outputs": [],
   "source": [
    "print(label3[1])"
   ]
  },
  {
   "cell_type": "code",
   "execution_count": null,
   "metadata": {},
   "outputs": [],
   "source": [
    "print(label[1])"
   ]
  },
  {
   "cell_type": "code",
   "execution_count": null,
   "metadata": {},
   "outputs": [],
   "source": [
    "labels = listToStringWithoutBrackets(labels)#1000단위\n",
    "labels2 = listToStringWithoutBrackets(labels2)#1단위\n",
    "labels3 = listToStringWithoutBrackets(labels3)#100단위\n",
    "labels4 = listToStringWithoutBrackets(labels4)#10단위"
   ]
  },
  {
   "cell_type": "code",
   "execution_count": null,
   "metadata": {},
   "outputs": [],
   "source": [
    "print(labels)"
   ]
  },
  {
   "cell_type": "code",
   "execution_count": null,
   "metadata": {},
   "outputs": [],
   "source": [
    "print(type(labels3))"
   ]
  },
  {
   "cell_type": "code",
   "execution_count": null,
   "metadata": {},
   "outputs": [],
   "source": [
    "print(labels3.split('\\'')[1])#100단위"
   ]
  },
  {
   "cell_type": "code",
   "execution_count": null,
   "metadata": {},
   "outputs": [],
   "source": [
    "print(labels2.split('\\'')[1])#1단위"
   ]
  },
  {
   "cell_type": "code",
   "execution_count": null,
   "metadata": {},
   "outputs": [],
   "source": [
    "print(labels4.split('\\'')[1])#10단위"
   ]
  },
  {
   "cell_type": "code",
   "execution_count": null,
   "metadata": {},
   "outputs": [],
   "source": [
    "print(labels.split('\\'')[1])#1000단위"
   ]
  },
  {
   "cell_type": "markdown",
   "metadata": {},
   "source": [
    "### 이미지 추가"
   ]
  },
  {
   "cell_type": "code",
   "execution_count": null,
   "metadata": {},
   "outputs": [],
   "source": [
    "image_list = os.listdir(\"C:/Users/power/Desktop/mask_data/images\")\n",
    "jpg_image = []\n",
    "# ext = os.path.splitext(image_list)[-1]\n",
    "for image in image_list:\n",
    "    ext = os.path.splitext(image)[-1]\n",
    "    \n",
    "    if ext == '.jpg':\n",
    "        jpg_image.append(image)   \n",
    "        \n",
    "# print(jpg_image[0])  \n",
    "\n",
    "\n",
    "# print(ext)\n",
    "# print('{}'.format(image_list))"
   ]
  },
  {
   "cell_type": "code",
   "execution_count": null,
   "metadata": {},
   "outputs": [],
   "source": [
    "txt_images = []\n",
    "\n",
    "txt_image = os.listdir('D:/test_matparsing')\n",
    "for txt in txt_image:\n",
    "    ext = os.path.splitext(txt)[-1]\n",
    "    \n",
    "    if ext == '.txt':\n",
    "        txt_images.append(txt)\n",
    "#         print(txt.split('.')[0])\n",
    "    \n",
    "        \n",
    "print(txt_images[0])"
   ]
  },
  {
   "cell_type": "code",
   "execution_count": null,
   "metadata": {},
   "outputs": [],
   "source": [
    "for i in txt_images:\n",
    "#     print(i.split('.')[0])\n",
    "    for j in jpg_image:\n",
    "        if i.split('.')[0] == j.split('.')[0]:\n",
    "            \n",
    "            \n",
    "            img_ori = cv2.imread('C:/Users/power/Desktop/mask_data/images/{}'.format(j))\n",
    "#             print(img_ori)\n",
    "            height, width, channel = img_ori.shape\n",
    "#             print(width)\n",
    "#             print(height)\n",
    "            with open('D:/test_matparsing/{}'.format(i), 'a') as f:\n",
    "                \n",
    "                f.write('{}'.format(width))\n",
    "                f.write(' ')\n",
    "                f.write('{}'.format(height))\n",
    "                \n",
    "           \n",
    "            \n",
    "        \n",
    "# type(txt_images[0].split('.')[0])"
   ]
  }
 ],
 "metadata": {
  "kernelspec": {
   "display_name": "Python 3",
   "language": "python",
   "name": "python3"
  },
  "language_info": {
   "codemirror_mode": {
    "name": "ipython",
    "version": 3
   },
   "file_extension": ".py",
   "mimetype": "text/x-python",
   "name": "python",
   "nbconvert_exporter": "python",
   "pygments_lexer": "ipython3",
   "version": "3.7.6"
  }
 },
 "nbformat": 4,
 "nbformat_minor": 4
}
