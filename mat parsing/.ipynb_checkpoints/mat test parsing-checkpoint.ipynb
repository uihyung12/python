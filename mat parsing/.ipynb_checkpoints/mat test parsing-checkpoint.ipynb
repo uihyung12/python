{
 "cells": [
  {
   "cell_type": "code",
   "execution_count": 1,
   "metadata": {},
   "outputs": [],
   "source": [
    "import os\n",
    "import re\n",
    "import cv2"
   ]
  },
  {
   "cell_type": "code",
   "execution_count": 2,
   "metadata": {},
   "outputs": [],
   "source": [
    "from scipy import io # mat file parsing 라이브러리"
   ]
  },
  {
   "cell_type": "code",
   "execution_count": 4,
   "metadata": {},
   "outputs": [],
   "source": [
    "mat_file = io.loadmat('C:/Users/power/Desktop/mask_data/MAFA-Label-Test/LabelTestAll.mat')#mat 파일 불러오기"
   ]
  },
  {
   "cell_type": "code",
   "execution_count": 5,
   "metadata": {},
   "outputs": [
    {
     "name": "stdout",
     "output_type": "stream",
     "text": [
      "{'__header__': b'MATLAB 5.0 MAT-file, Platform: PCWIN64, Created on: Tue Sep 05 01:07:53 2017', '__version__': '1.0', '__globals__': [], 'LabelTest': array([[(array(['test_00000001.jpg'], dtype='<U17'), array([[2694, 1211,  353,  353,    1,    9,  105,  144,  337,    2,    3,\n",
      "           2,    2,    1,   -1,   -1,   -1,   -1],\n",
      "       [1754, 1449,   68,   68,    3,   -1,   -1,   -1,   -1,   -1,   -1,\n",
      "          -1,   -1,   -1,   -1,   -1,   -1,   -1]], dtype=int16)),\n",
      "        (array(['test_00000002.jpg'], dtype='<U17'), array([[113,  95, 226, 226,   1,   9,  71, 181, 221,   1,   3,   1,   2,\n",
      "          3,  -1,  -1,  -1,  -1]], dtype=int16)),\n",
      "        (array(['test_00000003.jpg'], dtype='<U17'), array([[352, 114, 151, 151,   1,  17,  45, 137, 135,   1,   3,   2,   2,\n",
      "          3,  -1,  -1,  -1,  -1],\n",
      "       [799, 217, 139, 139,   2,  -1,  -1,  -1,  -1,  -1,  -1,  -1,  -1,\n",
      "         -1,  -1,  -1,  -1,  -1]], dtype=int16)),\n",
      "        ...,\n",
      "        (array(['test_00004933.jpg'], dtype='<U17'), array([[ 80, 121, 245, 245,   1,  50,  81, 238, 242,   1,   3,   2,   2,\n",
      "          3,  -1,  -1,  -1,  -1]], dtype=int16)),\n",
      "        (array(['test_00004934.jpg'], dtype='<U17'), array([[148, 266, 276, 276,   1,  38,  68, 265, 248,   1,   3,   2,   2,\n",
      "          3,  -1,  -1,  -1,  -1]], dtype=int16)),\n",
      "        (array(['test_00004935.jpg'], dtype='<U17'), array([[110,  98, 318, 318,   1,  73, 124, 313, 302,   1,   3,   2,   2,\n",
      "          3,  -1,  -1,  -1,  -1]], dtype=int16))]],\n",
      "      dtype=[('name', 'O'), ('label', 'O')])}\n"
     ]
    }
   ],
   "source": [
    "print(mat_file)"
   ]
  },
  {
   "cell_type": "code",
   "execution_count": 6,
   "metadata": {},
   "outputs": [
    {
     "name": "stdout",
     "output_type": "stream",
     "text": [
      "__header__\n",
      "__version__\n",
      "__globals__\n",
      "LabelTest\n"
     ]
    }
   ],
   "source": [
    "for i in mat_file:#mat_file의 key 값 보기\n",
    "    print(i)"
   ]
  },
  {
   "cell_type": "code",
   "execution_count": 7,
   "metadata": {},
   "outputs": [
    {
     "data": {
      "text/plain": [
       "dict"
      ]
     },
     "execution_count": 7,
     "metadata": {},
     "output_type": "execute_result"
    }
   ],
   "source": [
    "type(mat_file)#mat 파일 형식 불러오는 것은 dict이다"
   ]
  },
  {
   "cell_type": "code",
   "execution_count": 8,
   "metadata": {},
   "outputs": [],
   "source": [
    "label_test = mat_file.get('LabelTest')# 중요한 값인 LabelTest값 가져오기"
   ]
  },
  {
   "cell_type": "code",
   "execution_count": 15,
   "metadata": {},
   "outputs": [
    {
     "name": "stdout",
     "output_type": "stream",
     "text": [
      "[2694 1211  353  353    1    9  105  144  337    2    3    2    2    1\n",
      "   -1   -1   -1   -1]\n"
     ]
    }
   ],
   "source": [
    "print(label_test[0][0][1][0])#4차원으로 2번째 array열을 바꾸면 index 값이 나온다"
   ]
  },
  {
   "cell_type": "code",
   "execution_count": null,
   "metadata": {},
   "outputs": [],
   "source": []
  }
 ],
 "metadata": {
  "kernelspec": {
   "display_name": "Python 3",
   "language": "python",
   "name": "python3"
  },
  "language_info": {
   "codemirror_mode": {
    "name": "ipython",
    "version": 3
   },
   "file_extension": ".py",
   "mimetype": "text/x-python",
   "name": "python",
   "nbconvert_exporter": "python",
   "pygments_lexer": "ipython3",
   "version": "3.7.6"
  }
 },
 "nbformat": 4,
 "nbformat_minor": 4
}
