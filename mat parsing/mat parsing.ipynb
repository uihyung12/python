{
 "cells": [
  {
   "cell_type": "code",
   "execution_count": 1,
   "metadata": {},
   "outputs": [],
   "source": [
    "from scipy import io"
   ]
  },
  {
   "cell_type": "code",
   "execution_count": 2,
   "metadata": {},
   "outputs": [],
   "source": [
    "mat_file = io.loadmat('C:/Users/power/Desktop/지워버릴 파일/MAFA-Label-Train/LabelTrainAll.mat')"
   ]
  },
  {
   "cell_type": "code",
   "execution_count": null,
   "metadata": {},
   "outputs": [],
   "source": [
    "mat_file"
   ]
  },
  {
   "cell_type": "code",
   "execution_count": null,
   "metadata": {},
   "outputs": [],
   "source": [
    "print(mat_file)"
   ]
  },
  {
   "cell_type": "code",
   "execution_count": 3,
   "metadata": {},
   "outputs": [
    {
     "name": "stdout",
     "output_type": "stream",
     "text": [
      "[[(array(['add_1.jpg'], dtype='<U9'), array(['train_00000001.jpg'], dtype='<U18'), array([[ 95, 160,  91,  91, 113, 177, 158, 172,   7,  26,  82,  89,   1,\n",
      "          3,   1,   1,   3,  -1,  -1,  -1,  -1]], dtype=int16))\n",
      "  (array(['add_10.jpg'], dtype='<U10'), array(['train_00000002.jpg'], dtype='<U18'), array([[107,  82,  66,  66, 129,  95, 156,  96,   5,  17,  65,  56,   2,\n",
      "          3,   1,   1,   3,  -1,  -1,  -1,  -1]], dtype=int16))\n",
      "  (array(['add_11.jpg'], dtype='<U10'), array(['train_00000003.jpg'], dtype='<U18'), array([[ 56, 170, 185, 185, 140, 198, 196, 208,  41,  56, 147, 182,   1,\n",
      "          3,   1,   1,   4,  -1,  -1,  -1,  -1]], dtype=int16))\n",
      "  ...\n",
      "  (array(['weibo_997.jpg'], dtype='<U13'), array(['train_00025874.jpg'], dtype='<U18'), array([[14, 28, 83, 83, 33, 51, 72, 56,  4, 53, 80, 87,  2,  2,  2,  2,\n",
      "         3, -1, -1, -1, -1]], dtype=int16))\n",
      "  (array(['weibo_998.jpg'], dtype='<U13'), array(['train_00025875.jpg'], dtype='<U18'), array([[38,  4, 72, 72, 60, 23, 93, 21,  2, 29, 65, 77,  2,  3,  2,  2,\n",
      "         3, -1, -1, -1, -1]], dtype=int16))\n",
      "  (array(['weibo_999.jpg'], dtype='<U13'), array(['train_00025876.jpg'], dtype='<U18'), array([[ 72,  16,  34,  34,  79,  26,  96,  26,   4,  15,  32,  36,   2,\n",
      "          3,   1,   2,   3,  76,  20, 104,  31]], dtype=uint8))]]\n"
     ]
    }
   ],
   "source": [
    "label_train = mat_file['label_train']\n",
    "print(label_train)"
   ]
  },
  {
   "cell_type": "code",
   "execution_count": null,
   "metadata": {},
   "outputs": [],
   "source": [
    "print(label_train)"
   ]
  },
  {
   "cell_type": "code",
   "execution_count": 4,
   "metadata": {},
   "outputs": [],
   "source": [
    "import scipy.io\n",
    "import csv\n",
    "import pandas as pd\n",
    "import sys"
   ]
  },
  {
   "cell_type": "code",
   "execution_count": null,
   "metadata": {},
   "outputs": [],
   "source": [
    "filename = 'C:/Users/power/Desktop/지워버릴 파일/MAFA-Label-Train/LabelTrainAll.mat'\n",
    "\n",
    "mat = scipy.io.loadmat(filename)\n",
    "for row in mat:\n",
    "    print(row)"
   ]
  },
  {
   "cell_type": "code",
   "execution_count": null,
   "metadata": {},
   "outputs": [],
   "source": [
    "# print(mat.get('label_train'))\n",
    "label_train = mat['label_train']\n",
    "# test_results = mat['test_results']\n",
    "\n",
    "print(label_train)\n",
    "# print(test_results)"
   ]
  },
  {
   "cell_type": "code",
   "execution_count": null,
   "metadata": {},
   "outputs": [],
   "source": [
    "print(mat.get('label_train'))"
   ]
  },
  {
   "cell_type": "code",
   "execution_count": null,
   "metadata": {},
   "outputs": [],
   "source": [
    "type(label_train)"
   ]
  },
  {
   "cell_type": "code",
   "execution_count": null,
   "metadata": {},
   "outputs": [],
   "source": [
    "label_train"
   ]
  },
  {
   "cell_type": "code",
   "execution_count": null,
   "metadata": {},
   "outputs": [],
   "source": [
    "label_train[0][0][2][0]"
   ]
  },
  {
   "cell_type": "code",
   "execution_count": null,
   "metadata": {},
   "outputs": [],
   "source": [
    "for first in range(25876):\n",
    "    print('*'*60)\n",
    "    print(label_train[0][first][1][0])#파일 저장\n",
    "    print(label_train[0][first][2][0])#안에 값들 계산\n",
    "    f = open('D:/matpar/{}.txt'.format(label_train[0][first][1][0],'w')\n",
    "    f.write('{}'.format(label_train[0][first][2][0])\n",
    "             \n",
    "#     f.write(label_train[0][first][2][0])\n",
    "    f.close()         \n",
    "    \n",
    "#         for second in first:\n",
    "#         print('*'*60)\n",
    "#         print(label_train[0][])"
   ]
  },
  {
   "cell_type": "code",
   "execution_count": null,
   "metadata": {},
   "outputs": [],
   "source": [
    "for index in range(25876):\n",
    "    with open('D:/matpar/{}.txt'.format(label_train[0][index][1][0]), 'w') as f:\n",
    "        f.write('{}'.format(label_train[0][index][2][0]))\n",
    "        \n",
    "    "
   ]
  },
  {
   "cell_type": "raw",
   "metadata": {},
   "source": [
    "(x,y,w,h, x1,y1,x2,y2, x3,y3,w3,h3, occ_type, occ_degree, gender, race, orientation, x4,y4,w4,h4)\n",
    "[ 95 160  91  91 113 177 158 172   7  26  82  89   1   3   1   1   3  -1"
   ]
  },
  {
   "cell_type": "code",
   "execution_count": 5,
   "metadata": {},
   "outputs": [],
   "source": [
    "import os\n",
    "import re\n"
   ]
  },
  {
   "cell_type": "code",
   "execution_count": null,
   "metadata": {},
   "outputs": [],
   "source": [
    "def txt_lists(dirname):    \n",
    "    try:\n",
    "        txt_list = os.listdir(dirname)\n",
    "        \n",
    "        for txt in txt_list:\n",
    "            full_files = os.path.join(dirname, txt)\n",
    "        \n",
    "            if os.path.isdir(full_files):\n",
    "                txt_lists(full_files)\n",
    "            \n",
    "            else:\n",
    "                \n",
    "                ext = os.path.splitext(full_files)[-1]\n",
    "                \n",
    "                if ext == '.txt':\n",
    "                    patten = '.jpg'\n",
    "                    repl = ''\n",
    "                    text = '{}'.format(txt)\n",
    "                    \n",
    "                    m = re.sub(pattern=patten, repl = repl, string = text)\n",
    "                    \n",
    "                    os.rename('D:/matpar/'+txt, 'D:/matpar/'+m)\n",
    "                    \n",
    "                \n",
    "    except PermissionError:\n",
    "        pass\n",
    "    \n",
    "    "
   ]
  },
  {
   "cell_type": "code",
   "execution_count": null,
   "metadata": {},
   "outputs": [],
   "source": [
    "def txt_convert(dirname):    \n",
    "    try:\n",
    "        txt_list = os.listdir(dirname)\n",
    "        \n",
    "        for txt in txt_list:\n",
    "            full_files = os.path.join(dirname, txt)\n",
    "        \n",
    "            if os.path.isdir(full_files):\n",
    "                txt_lists(full_files)\n",
    "            \n",
    "            else:\n",
    "                \n",
    "                ext = os.path.splitext(full_files)[-1]\n",
    "                \n",
    "                if ext == '.txt':\n",
    "                    patten = '.jpg'\n",
    "                    repl = ''\n",
    "                    text = '{}'.format(txt)\n",
    "                    \n",
    "                    m = re.sub(pattern=patten, repl = repl, string = text)\n",
    "                    \n",
    "                    os.rename('D:/matpar/'+txt, 'D:/matpar/'+m)\n",
    "                    \n",
    "                \n",
    "    except PermissionError:\n",
    "        pass\n",
    "    \n",
    "    "
   ]
  },
  {
   "cell_type": "code",
   "execution_count": null,
   "metadata": {},
   "outputs": [],
   "source": [
    "def convert(filename):\n",
    "    label = ''\n",
    "    \n",
    "    f1 = open(filename, 'r')\n",
    "    while True:\n",
    "        line = f1.readline()\n",
    "        \n",
    "        if not line:\n",
    "            break\n",
    "        label = label + line\n",
    "        \n",
    "        label_spl\n",
    "        \n",
    "        \n",
    "        \n",
    "        \n",
    "       "
   ]
  },
  {
   "cell_type": "code",
   "execution_count": null,
   "metadata": {},
   "outputs": [],
   "source": [
    "convert('D:/matpar/train_00000002.txt')"
   ]
  },
  {
   "cell_type": "raw",
   "metadata": {},
   "source": [
    "[107  82  66  66 129  95 156  96   5  17  65  56   2   3   1   1   3  -1\n",
    "  -1  -1  -1]"
   ]
  },
  {
   "cell_type": "code",
   "execution_count": 68,
   "metadata": {},
   "outputs": [
    {
     "name": "stdout",
     "output_type": "stream",
     "text": [
      "[ 56 170 185 185 140 198 196 208  41  56 147 182   1   3   1   1   4  -1\n",
      "  -1  -1  -1]\n"
     ]
    }
   ],
   "source": [
    "f1 = open('D:/matpar/train_00000003.txt', 'r')\n",
    "label = ''\n",
    "labels = ''\n",
    "for i in range(2):\n",
    "    line = f1.readline()\n",
    "    label = label + line\n",
    "#     label = label.split()\n",
    "#     labels1 = labels.split['[']\n",
    "#     m = re.sub(pattern= '[', repl='', string = labels)\n",
    "#     label = ' '.join(label)\n",
    "    labels =  label.split()\n",
    "    \n",
    "print(label)"
   ]
  },
  {
   "cell_type": "code",
   "execution_count": 69,
   "metadata": {},
   "outputs": [
    {
     "data": {
      "text/plain": [
       "list"
      ]
     },
     "execution_count": 69,
     "metadata": {},
     "output_type": "execute_result"
    }
   ],
   "source": [
    "type(labels)"
   ]
  },
  {
   "cell_type": "code",
   "execution_count": 70,
   "metadata": {},
   "outputs": [
    {
     "data": {
      "text/plain": [
       "str"
      ]
     },
     "execution_count": 70,
     "metadata": {},
     "output_type": "execute_result"
    }
   ],
   "source": [
    "type(label)"
   ]
  },
  {
   "cell_type": "code",
   "execution_count": 71,
   "metadata": {},
   "outputs": [
    {
     "name": "stdout",
     "output_type": "stream",
     "text": [
      "['[', '56', '170', '185', '185', '140', '198', '196', '208', '41', '56', '147', '182', '1', '3', '1', '1', '4', '-1', '-1', '-1', '-1]']\n"
     ]
    }
   ],
   "source": [
    "print(labels)"
   ]
  },
  {
   "cell_type": "code",
   "execution_count": 72,
   "metadata": {},
   "outputs": [
    {
     "name": "stdout",
     "output_type": "stream",
     "text": [
      "[ 56 170 185 185 140 198 196 208  41  56 147 182   1   3   1   1   4  -1\n",
      "  -1  -1  -1]\n"
     ]
    }
   ],
   "source": [
    "print(label)"
   ]
  },
  {
   "cell_type": "code",
   "execution_count": null,
   "metadata": {},
   "outputs": [],
   "source": [
    "print(labels[-1])"
   ]
  },
  {
   "cell_type": "code",
   "execution_count": null,
   "metadata": {},
   "outputs": [],
   "source": [
    "print(type(label))\n",
    "print(label[10])"
   ]
  },
  {
   "cell_type": "code",
   "execution_count": null,
   "metadata": {},
   "outputs": [],
   "source": [
    "def cleanText(readData):\n",
    " \n",
    "    #텍스트에 포함되어 있는 특수 문자 제거\n",
    " \n",
    "    text = re.sub('[-=+,#/\\?:^$.@*\\\"※~&%ㆍ!』\\\\‘|\\(\\)\\[\\]\\<\\>`\\'…》]', '', readData)\n",
    " \n",
    "    return text"
   ]
  },
  {
   "cell_type": "code",
   "execution_count": 11,
   "metadata": {},
   "outputs": [],
   "source": [
    "def listToStringWithoutBrackets(list1):\n",
    "    return str(list1).replace('[','').replace(']','')"
   ]
  },
  {
   "cell_type": "code",
   "execution_count": 73,
   "metadata": {},
   "outputs": [
    {
     "name": "stdout",
     "output_type": "stream",
     "text": [
      "<class 'str'>\n"
     ]
    }
   ],
   "source": [
    "lts = listToStringWithoutBrackets(labels)\n",
    "print(type(lts))"
   ]
  },
  {
   "cell_type": "code",
   "execution_count": 74,
   "metadata": {},
   "outputs": [
    {
     "name": "stdout",
     "output_type": "stream",
     "text": [
      "[ 56 170 185 185 140 198 196 208  41  56 147 182   1   3   1   1   4  -1\n",
      "  -1  -1  -1]\n"
     ]
    }
   ],
   "source": [
    "print(label)"
   ]
  },
  {
   "cell_type": "code",
   "execution_count": 75,
   "metadata": {},
   "outputs": [
    {
     "name": "stdout",
     "output_type": "stream",
     "text": [
      "'', '56', '170', '185', '185', '140', '198', '196', '208', '41', '56', '147', '182', '1', '3', '1', '1', '4', '-1', '-1', '-1', '-1'\n"
     ]
    }
   ],
   "source": [
    "print(lts)"
   ]
  },
  {
   "cell_type": "code",
   "execution_count": 81,
   "metadata": {},
   "outputs": [
    {
     "name": "stdout",
     "output_type": "stream",
     "text": [
      "[ 56 170 185 185 140 198 196 208  41  56 147 182   1   3   1   1   4  -1\n",
      "  -1  -1  -1]\n"
     ]
    }
   ],
   "source": [
    "print(label)"
   ]
  },
  {
   "cell_type": "code",
   "execution_count": 95,
   "metadata": {},
   "outputs": [
    {
     "name": "stdout",
     "output_type": "stream",
     "text": [
      "208\n"
     ]
    }
   ],
   "source": [
    "print(label.split()[8])"
   ]
  },
  {
   "cell_type": "code",
   "execution_count": 92,
   "metadata": {},
   "outputs": [
    {
     "name": "stdout",
     "output_type": "stream",
     "text": [
      "56\n"
     ]
    }
   ],
   "source": [
    "print(lts.split(\"\\'\")[3])"
   ]
  },
  {
   "cell_type": "code",
   "execution_count": null,
   "metadata": {},
   "outputs": [],
   "source": [
    "# print(lts.split('\\'')[1] +' ' +lts.split('\\'')[3]+' '+lts.split['\\''][5])\n",
    "# pase = \n",
    "pase = lts.split('\\'')[1]+' '+lts.split('\\'')[3]+' '+lts.split('\\'')[5]+' '+lts.split('\\'')[7]+' '+lts.split('\\'')[9]+' '+lts.split('\\'')[11]+' '+lts.split('\\'')[13]+' '+lts.split('\\'')[15]+' '+lts.split('\\'')[25]\n",
    "print(pase)\n",
    "print(lts.split('\\'')[3])"
   ]
  },
  {
   "cell_type": "code",
   "execution_count": null,
   "metadata": {},
   "outputs": [],
   "source": [
    "print(lts)"
   ]
  },
  {
   "cell_type": "code",
   "execution_count": null,
   "metadata": {},
   "outputs": [],
   "source": [
    "print(lts.split(\"''\"))\n",
    "print('*'*60)\n",
    "print(lts.split(\"''\")[1][4])\n",
    "print('*'*60)\n",
    "print(lts.split(\"\\'\"))"
   ]
  },
  {
   "cell_type": "code",
   "execution_count": null,
   "metadata": {
    "scrolled": true
   },
   "outputs": [],
   "source": []
  },
  {
   "cell_type": "code",
   "execution_count": null,
   "metadata": {},
   "outputs": [],
   "source": [
    "print((lts.split('\\'')[1]))"
   ]
  },
  {
   "cell_type": "code",
   "execution_count": null,
   "metadata": {},
   "outputs": [],
   "source": [
    "print(int(lts.split('\\'')[1]) + int(lts.split('\\'')[3]))"
   ]
  },
  {
   "cell_type": "code",
   "execution_count": null,
   "metadata": {},
   "outputs": [],
   "source": [
    "print(lts.split['\\''][1]+ lts.split['\\''][3])"
   ]
  },
  {
   "cell_type": "code",
   "execution_count": null,
   "metadata": {},
   "outputs": [],
   "source": []
  }
 ],
 "metadata": {
  "kernelspec": {
   "display_name": "Python 3",
   "language": "python",
   "name": "python3"
  },
  "language_info": {
   "codemirror_mode": {
    "name": "ipython",
    "version": 3
   },
   "file_extension": ".py",
   "mimetype": "text/x-python",
   "name": "python",
   "nbconvert_exporter": "python",
   "pygments_lexer": "ipython3",
   "version": "3.7.6"
  }
 },
 "nbformat": 4,
 "nbformat_minor": 4
}
