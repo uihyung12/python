{
 "cells": [
  {
   "cell_type": "code",
   "execution_count": 1,
   "metadata": {},
   "outputs": [],
   "source": [
    "# USAGE\n",
    "# python detect_and_remove.py --dataset dataset\n",
    "# python detect_and_remove.py --dataset dataset --remove 1\n",
    "\n",
    "# import the necessary packages\n",
    "from imutils import paths\n",
    "import numpy as np\n",
    "import argparse\n",
    "import cv2\n",
    "import os\n",
    "import easydict"
   ]
  },
  {
   "cell_type": "code",
   "execution_count": 2,
   "metadata": {},
   "outputs": [],
   "source": [
    "def dhash(image, hashSize=8):\n",
    "\t# convert the image to grayscale and resize the grayscale image,\n",
    "\t# adding a single column (width) so we can compute the horizontal\n",
    "\t# gradient\n",
    "\tgray = cv2.cvtColor(image, cv2.COLOR_BGR2GRAY)\n",
    "\tresized = cv2.resize(gray, (hashSize + 1, hashSize))\n",
    "\n",
    "\t# compute the (relative) horizontal gradient between adjacent\n",
    "\t# column pixels\n",
    "\tdiff = resized[:, 1:] > resized[:, :-1]\n",
    "\n",
    "\t# convert the difference image to a hash and return it\n",
    "\treturn sum([2 ** i for (i, v) in enumerate(diff.flatten()) if v])"
   ]
  },
  {
   "cell_type": "code",
   "execution_count": 8,
   "metadata": {},
   "outputs": [],
   "source": [
    "args = easydict.EasyDict({\n",
    "    \"dataset\":\"C:/Users/power/finance/python/detect-duplicate-dataset/dataset\",\n",
    "    \"remove\":1\n",
    "})"
   ]
  },
  {
   "cell_type": "code",
   "execution_count": null,
   "metadata": {},
   "outputs": [],
   "source": [
    "# construct the argument parser and parse the arguments\n",
    "ap = argparse.ArgumentParser()\n",
    "ap.add_argument(\"-d\", \"-dataset\", required=True,\n",
    "\thelp=\"C:/Users/power/finance/python/detect-duplicate-dataset/dataset\")\n",
    "ap.add_argument(\"-r\", \"--remove\", type=int, default=-1,\n",
    "\thelp=\"-remove\")\n",
    "args = vars(ap.parse_args())\n",
    "\n",
    "# grab the paths to all images in our input dataset directory and\n",
    "# then initialize our hashes dictionary"
   ]
  },
  {
   "cell_type": "code",
   "execution_count": 4,
   "metadata": {},
   "outputs": [
    {
     "name": "stdout",
     "output_type": "stream",
     "text": [
      "[INFO] computing image hashes...\n"
     ]
    }
   ],
   "source": [
    "print(\"[INFO] computing image hashes...\")\n",
    "imagePaths = list(paths.list_images(args[\"dataset\"]))\n",
    "hashes = {}"
   ]
  },
  {
   "cell_type": "code",
   "execution_count": 9,
   "metadata": {},
   "outputs": [
    {
     "ename": "FileNotFoundError",
     "evalue": "[WinError 2] 지정된 파일을 찾을 수 없습니다: 'D:/load/KakaoTalk_Video_20200306_1327_48_343 (3-6-2020 1-40-06 PM)\\\\KakaoTalk_Video_20200306_1327_48_343 014.jpg'",
     "output_type": "error",
     "traceback": [
      "\u001b[1;31m---------------------------------------------------------------------------\u001b[0m",
      "\u001b[1;31mFileNotFoundError\u001b[0m                         Traceback (most recent call last)",
      "\u001b[1;32m<ipython-input-9-c1bec1a43cc1>\u001b[0m in \u001b[0;36m<module>\u001b[1;34m\u001b[0m\n\u001b[0;32m     47\u001b[0m                         \u001b[1;31m# one, and only one, of the duplicate images)\u001b[0m\u001b[1;33m\u001b[0m\u001b[1;33m\u001b[0m\u001b[1;33m\u001b[0m\u001b[0m\n\u001b[0;32m     48\u001b[0m                         \u001b[1;32mfor\u001b[0m \u001b[0mp\u001b[0m \u001b[1;32min\u001b[0m \u001b[0mhashedPaths\u001b[0m\u001b[1;33m[\u001b[0m\u001b[1;36m1\u001b[0m\u001b[1;33m:\u001b[0m\u001b[1;33m]\u001b[0m\u001b[1;33m:\u001b[0m\u001b[1;33m\u001b[0m\u001b[1;33m\u001b[0m\u001b[0m\n\u001b[1;32m---> 49\u001b[1;33m                                 \u001b[0mos\u001b[0m\u001b[1;33m.\u001b[0m\u001b[0mremove\u001b[0m\u001b[1;33m(\u001b[0m\u001b[0mp\u001b[0m\u001b[1;33m)\u001b[0m\u001b[1;33m\u001b[0m\u001b[1;33m\u001b[0m\u001b[0m\n\u001b[0m",
      "\u001b[1;31mFileNotFoundError\u001b[0m: [WinError 2] 지정된 파일을 찾을 수 없습니다: 'D:/load/KakaoTalk_Video_20200306_1327_48_343 (3-6-2020 1-40-06 PM)\\\\KakaoTalk_Video_20200306_1327_48_343 014.jpg'"
     ]
    }
   ],
   "source": [
    "# loop over our image paths\n",
    "for imagePath in imagePaths:\n",
    "\t# load the input image and compute the hash\n",
    "\timage = cv2.imread(imagePath)\n",
    "\th = dhash(image)\n",
    "    \n",
    "\t# grab all image paths with that hash, add the current image\n",
    "\t# path to it, and store the list back in the hashes dictionary\n",
    "\tp = hashes.get(h, [])\n",
    "\tp.append(imagePath)\n",
    "\thashes[h] = p\n",
    "\n",
    "# loop over the image hashes\n",
    "for (h, hashedPaths) in hashes.items():\n",
    "\t# check to see if there is more than one image with the same hash\n",
    "\tif len(hashedPaths) > 1:\n",
    "\t\t# check to see if this is a dry run\n",
    "\t\tif args[\"remove\"] <= 0:\n",
    "\t\t\t# initialize a montage to store all images with the same\n",
    "\t\t\t# hash\n",
    "\t\t\tmontage = None\n",
    "\n",
    "\t\t\t# loop over all image paths with the same hash\n",
    "\t\t\tfor p in hashedPaths:\n",
    "\t\t\t\t# load the input image and resize it to a fixed width\n",
    "\t\t\t\t# and height\n",
    "\t\t\t\timage = cv2.imread(p)\n",
    "\t\t\t\timage = cv2.resize(image, (150, 150))\n",
    "\n",
    "\t\t\t\t# if our montage is None, initialize it\n",
    "\t\t\t\tif montage is None:\n",
    "\t\t\t\t\tmontage = image\n",
    "\n",
    "\t\t\t\t# otherwise, horizontally stack the images\n",
    "\t\t\t\telse:\n",
    "\t\t\t\t\tmontage = np.hstack([montage, image])\n",
    "\n",
    "\t\t\t# show the montage for the hash\n",
    "\t\t\tprint(\"[INFO] hash: {}\".format(h))\n",
    "\t\t\tcv2.imshow(\"Montage\", montage)\n",
    "\t\t\tcv2.waitKey(0)\n",
    "\n",
    "\t\t# otherwise, we'll be removing the duplicate images\n",
    "\t\telse:\n",
    "\t\t\t# loop over all image paths with the same hash *except*\n",
    "\t\t\t# for the first image in the list (since we want to keep\n",
    "\t\t\t# one, and only one, of the duplicate images)\n",
    "\t\t\tfor p in hashedPaths[1:]:\n",
    "\t\t\t\tos.remove(p)"
   ]
  },
  {
   "cell_type": "code",
   "execution_count": null,
   "metadata": {},
   "outputs": [],
   "source": []
  }
 ],
 "metadata": {
  "kernelspec": {
   "display_name": "Python 3",
   "language": "python",
   "name": "python3"
  },
  "language_info": {
   "codemirror_mode": {
    "name": "ipython",
    "version": 3
   },
   "file_extension": ".py",
   "mimetype": "text/x-python",
   "name": "python",
   "nbconvert_exporter": "python",
   "pygments_lexer": "ipython3",
   "version": "3.7.6"
  }
 },
 "nbformat": 4,
 "nbformat_minor": 4
}
