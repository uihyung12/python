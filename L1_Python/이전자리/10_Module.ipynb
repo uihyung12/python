{
 "cells": [
  {
   "cell_type": "code",
   "execution_count": 1,
   "metadata": {},
   "outputs": [
    {
     "name": "stdout",
     "output_type": "stream",
     "text": [
      "X:21\n",
      "Y:2\n"
     ]
    },
    {
     "data": {
      "text/plain": [
       "23"
      ]
     },
     "execution_count": 1,
     "metadata": {},
     "output_type": "execute_result"
    }
   ],
   "source": [
    "x = int(input('X:'))\n",
    "y = int(input('Y:'))\n",
    "\n",
    "add = x + y \n",
    "add"
   ]
  },
  {
   "cell_type": "code",
   "execution_count": 2,
   "metadata": {},
   "outputs": [
    {
     "name": "stdout",
     "output_type": "stream",
     "text": [
      "A:2\n",
      "B:2\n"
     ]
    }
   ],
   "source": [
    "a = int(input('A:'))\n",
    "b = int(input('B:'))\n",
    "add = a + b"
   ]
  },
  {
   "cell_type": "markdown",
   "metadata": {},
   "source": [
    "- var1, var2 입력받아서 더한 결과를 출력해보세요."
   ]
  },
  {
   "cell_type": "markdown",
   "metadata": {},
   "source": [
    "- 함수로 만들자."
   ]
  },
  {
   "cell_type": "code",
   "execution_count": 3,
   "metadata": {},
   "outputs": [],
   "source": [
    "def add_1():\n",
    "    num1 = int(input('{}:'.format('num1')))\n",
    "    num2 = int(input('{}:'.format('num2')))\n",
    "    \n",
    "    add = num1 + num2\n",
    "    \n",
    "    return add"
   ]
  },
  {
   "cell_type": "code",
   "execution_count": 4,
   "metadata": {},
   "outputs": [
    {
     "name": "stdout",
     "output_type": "stream",
     "text": [
      "num1:3\n",
      "num2:4\n"
     ]
    }
   ],
   "source": [
    "result = add_1()"
   ]
  },
  {
   "cell_type": "code",
   "execution_count": 5,
   "metadata": {},
   "outputs": [
    {
     "name": "stdout",
     "output_type": "stream",
     "text": [
      "7\n"
     ]
    }
   ],
   "source": [
    "print(result)"
   ]
  },
  {
   "cell_type": "markdown",
   "metadata": {},
   "source": [
    "- a, b를 곱한 결과를 뽑아보세요."
   ]
  },
  {
   "cell_type": "code",
   "execution_count": 6,
   "metadata": {},
   "outputs": [],
   "source": [
    "def mul_1():\n",
    "    num1 = int(input('{}:'.format('num1')))\n",
    "    num2 = int(input('{}:'.format('num2')))\n",
    "    \n",
    "    mul = num1*num2\n",
    "    \n",
    "    return mul"
   ]
  },
  {
   "cell_type": "code",
   "execution_count": 7,
   "metadata": {
    "scrolled": true
   },
   "outputs": [
    {
     "name": "stdout",
     "output_type": "stream",
     "text": [
      "num1:2\n",
      "num2:4\n"
     ]
    }
   ],
   "source": [
    "result = mul_1()"
   ]
  },
  {
   "cell_type": "code",
   "execution_count": 8,
   "metadata": {},
   "outputs": [
    {
     "name": "stdout",
     "output_type": "stream",
     "text": [
      "8\n"
     ]
    }
   ],
   "source": [
    "print(result)"
   ]
  },
  {
   "cell_type": "code",
   "execution_count": 9,
   "metadata": {},
   "outputs": [],
   "source": [
    "def sub_1():\n",
    "    num1 = int(input('{}:'.format('num1')))\n",
    "    num2 = int(input('{}:'.format('num2')))\n",
    "    \n",
    "    sub = num1 - num2\n",
    "    \n",
    "    return sub"
   ]
  },
  {
   "cell_type": "code",
   "execution_count": 10,
   "metadata": {},
   "outputs": [
    {
     "name": "stdout",
     "output_type": "stream",
     "text": [
      "num1:\n"
     ]
    },
    {
     "ename": "ValueError",
     "evalue": "invalid literal for int() with base 10: ''",
     "output_type": "error",
     "traceback": [
      "\u001b[1;31m---------------------------------------------------------------------------\u001b[0m",
      "\u001b[1;31mValueError\u001b[0m                                Traceback (most recent call last)",
      "\u001b[1;32m<ipython-input-10-84e179b0dede>\u001b[0m in \u001b[0;36m<module>\u001b[1;34m\u001b[0m\n\u001b[1;32m----> 1\u001b[1;33m \u001b[0mresult\u001b[0m \u001b[1;33m=\u001b[0m \u001b[0msub_1\u001b[0m\u001b[1;33m(\u001b[0m\u001b[1;33m)\u001b[0m\u001b[1;33m\u001b[0m\u001b[1;33m\u001b[0m\u001b[0m\n\u001b[0m",
      "\u001b[1;32m<ipython-input-9-d5b8a416a265>\u001b[0m in \u001b[0;36msub_1\u001b[1;34m()\u001b[0m\n\u001b[0;32m      1\u001b[0m \u001b[1;32mdef\u001b[0m \u001b[0msub_1\u001b[0m\u001b[1;33m(\u001b[0m\u001b[1;33m)\u001b[0m\u001b[1;33m:\u001b[0m\u001b[1;33m\u001b[0m\u001b[1;33m\u001b[0m\u001b[0m\n\u001b[1;32m----> 2\u001b[1;33m     \u001b[0mnum1\u001b[0m \u001b[1;33m=\u001b[0m \u001b[0mint\u001b[0m\u001b[1;33m(\u001b[0m\u001b[0minput\u001b[0m\u001b[1;33m(\u001b[0m\u001b[1;34m'{}:'\u001b[0m\u001b[1;33m.\u001b[0m\u001b[0mformat\u001b[0m\u001b[1;33m(\u001b[0m\u001b[1;34m'num1'\u001b[0m\u001b[1;33m)\u001b[0m\u001b[1;33m)\u001b[0m\u001b[1;33m)\u001b[0m\u001b[1;33m\u001b[0m\u001b[1;33m\u001b[0m\u001b[0m\n\u001b[0m\u001b[0;32m      3\u001b[0m     \u001b[0mnum2\u001b[0m \u001b[1;33m=\u001b[0m \u001b[0mint\u001b[0m\u001b[1;33m(\u001b[0m\u001b[0minput\u001b[0m\u001b[1;33m(\u001b[0m\u001b[1;34m'{}:'\u001b[0m\u001b[1;33m.\u001b[0m\u001b[0mformat\u001b[0m\u001b[1;33m(\u001b[0m\u001b[1;34m'num2'\u001b[0m\u001b[1;33m)\u001b[0m\u001b[1;33m)\u001b[0m\u001b[1;33m)\u001b[0m\u001b[1;33m\u001b[0m\u001b[1;33m\u001b[0m\u001b[0m\n\u001b[0;32m      4\u001b[0m \u001b[1;33m\u001b[0m\u001b[0m\n\u001b[0;32m      5\u001b[0m     \u001b[0msub\u001b[0m \u001b[1;33m=\u001b[0m \u001b[0mnum1\u001b[0m \u001b[1;33m-\u001b[0m \u001b[0mnum2\u001b[0m\u001b[1;33m\u001b[0m\u001b[1;33m\u001b[0m\u001b[0m\n",
      "\u001b[1;31mValueError\u001b[0m: invalid literal for int() with base 10: ''"
     ]
    }
   ],
   "source": [
    "result = sub_1()"
   ]
  },
  {
   "cell_type": "code",
   "execution_count": null,
   "metadata": {},
   "outputs": [],
   "source": [
    "print(result)"
   ]
  },
  {
   "cell_type": "code",
   "execution_count": null,
   "metadata": {},
   "outputs": [],
   "source": [
    "def div_1():\n",
    "    num1 = int(input('{}:'.format('num1')))\n",
    "    num2 = int(input('{}:'.format('num2')))\n",
    "    \n",
    "    div = num1/num2\n",
    "    \n",
    "    return div"
   ]
  },
  {
   "cell_type": "code",
   "execution_count": null,
   "metadata": {},
   "outputs": [],
   "source": [
    "%%writefile calculate.py   \n",
    "\n",
    "#아래 코드를 모듈로 만들 수 있음.\n",
    "\n",
    "def add_1():\n",
    "    num1 = int(input('{}:'.format('num1')))\n",
    "    num2 = int(input('{}:'.format('num2')))\n",
    "    \n",
    "    add = num1 + num2\n",
    "    \n",
    "    return add\n",
    "\n",
    "def sub_1():\n",
    "    num1 = int(input('{}:'.format('num1')))\n",
    "    num2 = int(input('{}:'.format('num2')))\n",
    "    \n",
    "    sub = num1 - num2\n",
    "    \n",
    "    return sub\n",
    "\n",
    "def mul_1():\n",
    "    num1 = int(input('{}:'.format('num1')))\n",
    "    num2 = int(input('{}:'.format('num2')))\n",
    "    \n",
    "    mul = num1*num2\n",
    "    \n",
    "    return mul\n",
    "\n",
    "def div_1():\n",
    "    num1 = int(input('{}:'.format('num1')))\n",
    "    num2 = int(input('{}:'.format('num2')))\n",
    "    \n",
    "    div = num1/num2\n",
    "    \n",
    "    return div"
   ]
  },
  {
   "cell_type": "code",
   "execution_count": null,
   "metadata": {},
   "outputs": [],
   "source": [
    "import calculate as cal"
   ]
  },
  {
   "cell_type": "markdown",
   "metadata": {},
   "source": [
    "- 만약에, import가 되지 않았다면 모듈이 있는 경로가 환경변수에 포함되어 있지 않기 때문이다. "
   ]
  },
  {
   "cell_type": "markdown",
   "metadata": {},
   "source": [
    "- 모듈이 있는 경로를 환경변수에 추가해주면 된다."
   ]
  },
  {
   "cell_type": "code",
   "execution_count": null,
   "metadata": {},
   "outputs": [],
   "source": [
    "import os\n",
    "import sys"
   ]
  },
  {
   "cell_type": "code",
   "execution_count": null,
   "metadata": {},
   "outputs": [],
   "source": [
    "sys.path  #현재 경로 목록들"
   ]
  },
  {
   "cell_type": "markdown",
   "metadata": {},
   "source": [
    "- sys.path 목록에 My Modules도 추가하면 됨.  \n",
    "  \n",
    "- sys.path 가 리스트로 되어있다.  \n",
    "   \n",
    "- sys.path.append(My Modules 의 (절대)경로!)"
   ]
  },
  {
   "cell_type": "markdown",
   "metadata": {},
   "source": [
    "#### 절대경로와 상대경로 "
   ]
  },
  {
   "cell_type": "markdown",
   "metadata": {},
   "source": [
    "- 경로 = 파일의 위치\n",
    "- 절대경로 : 파일 위치의 전체 주소\n",
    "- 상대경로 : 기준점(보통 현재 파일의 위치)으로부터의 주소"
   ]
  },
  {
   "cell_type": "code",
   "execution_count": null,
   "metadata": {},
   "outputs": [],
   "source": [
    "os.getcwd()  #현재 파일의 절대경로"
   ]
  },
  {
   "cell_type": "markdown",
   "metadata": {},
   "source": [
    "- os.getcwd() 에다가 My Modules를 더하면 되겠다."
   ]
  },
  {
   "cell_type": "code",
   "execution_count": null,
   "metadata": {},
   "outputs": [],
   "source": [
    "type(os.getcwd())"
   ]
  },
  {
   "cell_type": "code",
   "execution_count": null,
   "metadata": {},
   "outputs": [],
   "source": [
    "path = os.getcwd()+ '\\\\' + 'MyModules'\n",
    "path  #추가해야될 경로!"
   ]
  },
  {
   "cell_type": "code",
   "execution_count": null,
   "metadata": {},
   "outputs": [],
   "source": [
    "sys.path.append(path)"
   ]
  },
  {
   "cell_type": "code",
   "execution_count": null,
   "metadata": {},
   "outputs": [],
   "source": [
    "sys.path"
   ]
  },
  {
   "cell_type": "code",
   "execution_count": null,
   "metadata": {},
   "outputs": [],
   "source": [
    "import calculate as cal"
   ]
  },
  {
   "cell_type": "code",
   "execution_count": null,
   "metadata": {},
   "outputs": [],
   "source": [
    "cal.add_1()"
   ]
  },
  {
   "cell_type": "code",
   "execution_count": null,
   "metadata": {},
   "outputs": [],
   "source": [
    "#numpy와 비교\n",
    "import numpy as np\n",
    "\n",
    "np.arange(10)"
   ]
  },
  {
   "cell_type": "markdown",
   "metadata": {},
   "source": [
    "### 모듈 검증 (%run) "
   ]
  },
  {
   "cell_type": "code",
   "execution_count": 4,
   "metadata": {},
   "outputs": [
    {
     "name": "stdout",
     "output_type": "stream",
     "text": [
      "Overwriting C:\\\\Users\\\\student\\\\Finance\\\\L1_Python\\\\MyModules\\\\Avengers.py\n"
     ]
    }
   ],
   "source": [
    "%%writefile C:\\\\Users\\\\student\\\\Finance\\\\L1_Python\\\\MyModules\\\\Avengers.py\n",
    "\n",
    "\n",
    "class Unit():    # Unit(object) == Unit  *단, python3.x에서\n",
    "    def __init__(self, ability, level):\n",
    "        self.ability = ability\n",
    "        self.level = level\n",
    "        print('unit이 생성되었습니다.')\n",
    "        \n",
    "    def show_info(self):\n",
    "        print('ability : {}'.format(self.ability))\n",
    "        print('level : {}'.format(self.level))\n",
    "            \n",
    "class Hero(Unit):\n",
    "    def __init__(self, ability, level, weapon):\n",
    "        super().__init__(ability, level)\n",
    "        self.weapon = weapon\n",
    "        \n",
    "    def show_info(self):\n",
    "        super().show_info()\n",
    "        print('weapon: {}'.format(self.weapon))\n",
    "        \n",
    "class AvengersHero(Hero):  #속성 += hometown\n",
    "    def __init__(self, ability, level, weapon, hometown):\n",
    "        super().__init__(ability, level, weapon)\n",
    "        self.hometown = hometown\n",
    "        \n",
    "    def show_info(self):\n",
    "        super().show_info()\n",
    "        print('hometown : {}'.format(self.hometown))\n"
   ]
  },
  {
   "cell_type": "code",
   "execution_count": 5,
   "metadata": {},
   "outputs": [
    {
     "name": "stdout",
     "output_type": "stream",
     "text": [
      "C:\\Users\\student\\Finance\\L1_Python\\MyModules\n"
     ]
    }
   ],
   "source": [
    "!echo %PYTHONPATH%"
   ]
  },
  {
   "cell_type": "code",
   "execution_count": 11,
   "metadata": {
    "scrolled": true
   },
   "outputs": [],
   "source": [
    "import Avengers "
   ]
  },
  {
   "cell_type": "code",
   "execution_count": 12,
   "metadata": {},
   "outputs": [
    {
     "name": "stdout",
     "output_type": "stream",
     "text": [
      "unit이 생성되었습니다.\n"
     ]
    }
   ],
   "source": [
    "Thor = A.AvengersHero('thunder',9,'hammer','Asgard')"
   ]
  },
  {
   "cell_type": "code",
   "execution_count": 13,
   "metadata": {},
   "outputs": [
    {
     "name": "stdout",
     "output_type": "stream",
     "text": [
      "ability : thunder\n",
      "level : 9\n",
      "weapon: hammer\n",
      "hometown : Asgard\n"
     ]
    }
   ],
   "source": [
    "Thor.show_info()"
   ]
  },
  {
   "cell_type": "markdown",
   "metadata": {},
   "source": [
    "- 내가 만든 모듈이 잘 작동하는지 검증하려면 매번 이렇게 임폴트해야할까?"
   ]
  },
  {
   "cell_type": "code",
   "execution_count": 26,
   "metadata": {},
   "outputs": [
    {
     "name": "stdout",
     "output_type": "stream",
     "text": [
      "Overwriting C:\\\\Users\\\\student\\\\Finance\\\\L1_Python\\\\MyModules\\\\Avengers.py\n"
     ]
    }
   ],
   "source": [
    "%%writefile C:\\\\Users\\\\student\\\\Finance\\\\L1_Python\\\\MyModules\\\\Avengers.py\n",
    "\n",
    "\n",
    "class Unit():    # Unit(object) == Unit  *단, python3.x에서\n",
    "    def __init__(self, ability, level):\n",
    "        self.ability = ability\n",
    "        self.level = level\n",
    "        print('unit이 생성되었습니다.')\n",
    "        \n",
    "    def show_info(self):\n",
    "        print('ability : {}'.format(self.ability))\n",
    "        print('level : {}'.format(self.level))\n",
    "            \n",
    "class Hero(Unit):\n",
    "    def __init__(self, ability, level, weapon):\n",
    "        super().__init__(ability, level)\n",
    "        self.weapon = weapon\n",
    "        \n",
    "    def show_info(self):\n",
    "        super().show_info()\n",
    "        print('weapon: {}'.format(self.weapon))\n",
    "        \n",
    "class AvengersHero(Hero):  #속성 += hometown\n",
    "    def __init__(self, ability, level, weapon, hometown):\n",
    "        super().__init__(ability, level, weapon)\n",
    "        self.hometown = hometown\n",
    "        \n",
    "    def show_info(self):\n",
    "        super().show_info()\n",
    "        print('hometown : {}'.format(self.hometown))\n",
    "        \n",
    "        Thor = AvengersHero('thunder',9,'hammer','Asgard')\n",
    "        Thor.show_info()\n",
    "\n",
    "        print('AvengersHero class가 정상 작동합니다.')\n",
    "\n",
    "        batman = Avengers.Hero('money', 7, 'car')\n",
    "        batman.show_info()\n",
    "\n",
    "        print('Hero class가 정상 작동합니다.')\n"
   ]
  },
  {
   "cell_type": "code",
   "execution_count": 27,
   "metadata": {},
   "outputs": [],
   "source": [
    "%run C:\\\\Users\\\\student\\\\Finance\\\\L1_Python\\\\MyModules\\\\Avengers.py"
   ]
  },
  {
   "cell_type": "markdown",
   "metadata": {},
   "source": [
    "- 다른 파일에서 import만 해도 검증 코드가 뜨는 문제가 발생\n",
    "- 해당 파일에서 코드를 수행할때는 검증 코드가 실행되고, \n",
    "- 다른 파일에서 import할 때는 검증 코드가 실행되지 않도록 만들자."
   ]
  },
  {
   "cell_type": "code",
   "execution_count": 35,
   "metadata": {},
   "outputs": [
    {
     "name": "stdout",
     "output_type": "stream",
     "text": [
      "Overwriting MyModules\\Avengers.py\n"
     ]
    }
   ],
   "source": [
    "%%writefile MyModules\\Avengers.py\n",
    "\n",
    "\n",
    "class Unit():    # Unit(object) == Unit  *단, python3.x에서\n",
    "    def __init__(self, ability, level):\n",
    "        self.ability = ability\n",
    "        self.level = level\n",
    "        print('unit이 생성되었습니다.')\n",
    "        \n",
    "    def show_info(self):\n",
    "        print('ability : {}'.format(self.ability))\n",
    "        print('level : {}'.format(self.level))\n",
    "            \n",
    "class Hero(Unit):\n",
    "    def __init__(self, ability, level, weapon):\n",
    "        super().__init__(ability, level)\n",
    "        self.weapon = weapon\n",
    "        \n",
    "    def show_info(self):\n",
    "        super().show_info()\n",
    "        print('weapon: {}'.format(self.weapon))\n",
    "        \n",
    "class AvengersHero(Hero):  #속성 += hometown\n",
    "    def __init__(self, ability, level, weapon, hometown):\n",
    "        super().__init__(ability, level, weapon)\n",
    "        self.hometown = hometown\n",
    "        \n",
    "    def show_info(self):\n",
    "        super().show_info()\n",
    "        print('hometown : {}'.format(self.hometown))\n",
    "\n",
    "        \n",
    "if __name__ == '__main__':  #다른 파일에서 import 했을때는 해당 코드 실행 x        \n",
    "    Thor = AvengersHero('thunder',9,'hammer','Asgard')\n",
    "    Thor.show_info()\n",
    "\n",
    "    print('AvengersHero class가 정상 작동합니다.')\n",
    "\n",
    "    batman = Avengers.Hero('money', 7, 'car')\n",
    "    batman.show_info()\n",
    "\n",
    "    print('Hero class가 정상 작동합니다.')"
   ]
  },
  {
   "cell_type": "markdown",
   "metadata": {},
   "source": [
    "- 아래와 같이 해당 파일에서 %run으로 코드를 실행할때는 검증 코드가 실행된다."
   ]
  },
  {
   "cell_type": "code",
   "execution_count": 36,
   "metadata": {},
   "outputs": [
    {
     "name": "stdout",
     "output_type": "stream",
     "text": [
      "unit이 생성되었습니다.\n",
      "ability : thunder\n",
      "level : 9\n",
      "weapon: hammer\n",
      "hometown : Asgard\n",
      "AvengersHero class가 정상 작동합니다.\n"
     ]
    },
    {
     "ename": "NameError",
     "evalue": "name 'Avengers' is not defined",
     "output_type": "error",
     "traceback": [
      "\u001b[1;31m---------------------------------------------------------------------------\u001b[0m",
      "\u001b[1;31mNameError\u001b[0m                                 Traceback (most recent call last)",
      "\u001b[1;32m~\\Finance\\L1_Python\\MyModules\\Avengers.py\u001b[0m in \u001b[0;36m<module>\u001b[1;34m\u001b[0m\n\u001b[0;32m     36\u001b[0m     \u001b[0mprint\u001b[0m\u001b[1;33m(\u001b[0m\u001b[1;34m'AvengersHero class가 정상 작동합니다.'\u001b[0m\u001b[1;33m)\u001b[0m\u001b[1;33m\u001b[0m\u001b[1;33m\u001b[0m\u001b[0m\n\u001b[0;32m     37\u001b[0m \u001b[1;33m\u001b[0m\u001b[0m\n\u001b[1;32m---> 38\u001b[1;33m     \u001b[0mbatman\u001b[0m \u001b[1;33m=\u001b[0m \u001b[0mAvengers\u001b[0m\u001b[1;33m.\u001b[0m\u001b[0mHero\u001b[0m\u001b[1;33m(\u001b[0m\u001b[1;34m'money'\u001b[0m\u001b[1;33m,\u001b[0m \u001b[1;36m7\u001b[0m\u001b[1;33m,\u001b[0m \u001b[1;34m'car'\u001b[0m\u001b[1;33m)\u001b[0m\u001b[1;33m\u001b[0m\u001b[1;33m\u001b[0m\u001b[0m\n\u001b[0m\u001b[0;32m     39\u001b[0m     \u001b[0mbatman\u001b[0m\u001b[1;33m.\u001b[0m\u001b[0mshow_info\u001b[0m\u001b[1;33m(\u001b[0m\u001b[1;33m)\u001b[0m\u001b[1;33m\u001b[0m\u001b[1;33m\u001b[0m\u001b[0m\n\u001b[0;32m     40\u001b[0m \u001b[1;33m\u001b[0m\u001b[0m\n",
      "\u001b[1;31mNameError\u001b[0m: name 'Avengers' is not defined"
     ]
    }
   ],
   "source": [
    "%run MyModules\\Avengers.py"
   ]
  },
  {
   "cell_type": "code",
   "execution_count": 30,
   "metadata": {},
   "outputs": [],
   "source": [
    "import Avengers"
   ]
  },
  {
   "cell_type": "markdown",
   "metadata": {},
   "source": [
    "### 패키지 만들기 "
   ]
  },
  {
   "cell_type": "markdown",
   "metadata": {},
   "source": [
    "#### 폴더 생성(mkdir) "
   ]
  },
  {
   "cell_type": "code",
   "execution_count": 39,
   "metadata": {
    "scrolled": true
   },
   "outputs": [
    {
     "name": "stderr",
     "output_type": "stream",
     "text": [
      "하위 디렉터리 또는 파일 MyPackages이(가) 이미 있습니다.\n"
     ]
    }
   ],
   "source": [
    "mkdir MyPackages"
   ]
  },
  {
   "cell_type": "code",
   "execution_count": 40,
   "metadata": {},
   "outputs": [],
   "source": [
    "mkdir MyPackages\\Hero\\Avengers"
   ]
  },
  {
   "cell_type": "code",
   "execution_count": 2,
   "metadata": {},
   "outputs": [
    {
     "name": "stdout",
     "output_type": "stream",
     "text": [
      "Writing MyPackages\\Hero\\Avengers\\Avengers2.py\n"
     ]
    }
   ],
   "source": [
    "%%writefile MyPackages\\Hero\\Avengers\\Avengers2.py\n",
    "\n",
    "\n",
    "class Unit():    # Unit(object) == Unit  *단, python3.x에서\n",
    "    def __init__(self, ability, level):\n",
    "        self.ability = ability\n",
    "        self.level = level\n",
    "        print('unit이 생성되었습니다.')\n",
    "        \n",
    "    def show_info(self):\n",
    "        print('ability : {}'.format(self.ability))\n",
    "        print('level : {}'.format(self.level))\n",
    "            \n",
    "class Hero(Unit):\n",
    "    def __init__(self, ability, level, weapon):\n",
    "        super().__init__(ability, level)\n",
    "        self.weapon = weapon\n",
    "        \n",
    "    def show_info(self):\n",
    "        super().show_info()\n",
    "        print('weapon: {}'.format(self.weapon))\n",
    "        \n",
    "class AvengersHero(Hero):  #속성 += hometown\n",
    "    def __init__(self, ability, level, weapon, hometown):\n",
    "        super().__init__(ability, level, weapon)\n",
    "        self.hometown = hometown\n",
    "        \n",
    "    def show_info(self):\n",
    "        super().show_info()\n",
    "        print('hometown : {}'.format(self.hometown))\n",
    "\n",
    "        \n",
    "if __name__ == '__main__':  #다른 파일에서 import 했을때는 해당 코드 실행 x        \n",
    "    Thor = AvengersHero('thunder',9,'hammer','Asgard')\n",
    "    Thor.show_info()\n",
    "\n",
    "    print('AvengersHero class가 정상 작동합니다.')\n",
    "\n",
    "    batman = Avengers.Hero('money', 7, 'car')\n",
    "    batman.show_info()\n",
    "\n",
    "    print('Hero class가 정상 작동합니다.')"
   ]
  },
  {
   "cell_type": "code",
   "execution_count": 3,
   "metadata": {},
   "outputs": [
    {
     "name": "stdout",
     "output_type": "stream",
     "text": [
      "C:\\Users\\student\\Finance\\L1_Python\\MyPackages;C:\\Users\\student\\Finance\\L1_Python\\MyModules\n"
     ]
    }
   ],
   "source": [
    "!echo %PYTHONPATH%"
   ]
  },
  {
   "cell_type": "code",
   "execution_count": 4,
   "metadata": {},
   "outputs": [],
   "source": [
    "from Hero.Avengers import Avengers2"
   ]
  },
  {
   "cell_type": "code",
   "execution_count": 6,
   "metadata": {},
   "outputs": [
    {
     "name": "stdout",
     "output_type": "stream",
     "text": [
      "unit이 생성되었습니다.\n"
     ]
    }
   ],
   "source": [
    "iron_man = Avengers2.AvengersHero('아크로',9,'수트','지구')"
   ]
  },
  {
   "cell_type": "code",
   "execution_count": 8,
   "metadata": {},
   "outputs": [
    {
     "name": "stdout",
     "output_type": "stream",
     "text": [
      "ability : 아크로\n",
      "level : 9\n",
      "weapon: 수트\n",
      "hometown : 지구\n"
     ]
    }
   ],
   "source": [
    "iron_man.show_info()"
   ]
  },
  {
   "cell_type": "code",
   "execution_count": 11,
   "metadata": {},
   "outputs": [
    {
     "name": "stderr",
     "output_type": "stream",
     "text": [
      "하위 디렉터리 또는 파일 MyPackages\\Hero\\__init__.py이(가) 이미 있습니다.\n",
      "다음 내용 진행 중 오류 발생: MyPackages\\Hero\\__init__.py.\n"
     ]
    }
   ],
   "source": [
    "mkdir MyPackages\\Hero\\__init__.py    #초기화 파일 만들기"
   ]
  },
  {
   "cell_type": "code",
   "execution_count": null,
   "metadata": {},
   "outputs": [],
   "source": []
  }
 ],
 "metadata": {
  "kernelspec": {
   "display_name": "Python 3",
   "language": "python",
   "name": "python3"
  },
  "language_info": {
   "codemirror_mode": {
    "name": "ipython",
    "version": 3
   },
   "file_extension": ".py",
   "mimetype": "text/x-python",
   "name": "python",
   "nbconvert_exporter": "python",
   "pygments_lexer": "ipython3",
   "version": "3.7.3"
  }
 },
 "nbformat": 4,
 "nbformat_minor": 2
}
