{
 "cells": [
  {
   "cell_type": "markdown",
   "metadata": {},
   "source": [
    "# 조건제어(if, if elif, if else, if if)"
   ]
  },
  {
   "cell_type": "markdown",
   "metadata": {},
   "source": [
    "### if(만약에말야)"
   ]
  },
  {
   "cell_type": "code",
   "execution_count": 1,
   "metadata": {},
   "outputs": [],
   "source": [
    "THI = 3"
   ]
  },
  {
   "cell_type": "markdown",
   "metadata": {},
   "source": [
    "quiz) 불쾌지수가 5 이상일 때는 \"달달한 레몬에이드 한 잔 어떠세요?\" 라고 출력해주세요."
   ]
  },
  {
   "cell_type": "code",
   "execution_count": 2,
   "metadata": {},
   "outputs": [
    {
     "name": "stdout",
     "output_type": "stream",
     "text": [
      "오늘도 화이팅!\n"
     ]
    }
   ],
   "source": [
    "if THI >= 5:     #주절:\n",
    "    print(\"달달쓰?\")   #    종속절\n",
    "print(\"오늘도 화이팅!\")    #print는 아무 조건 없이 출력됨"
   ]
  },
  {
   "cell_type": "markdown",
   "metadata": {},
   "source": [
    "### if else(그렇지않다면)"
   ]
  },
  {
   "cell_type": "markdown",
   "metadata": {},
   "source": [
    "quiz) THI >= 5 : \"달달쓰?\"  /  THI < 5 : \"아아쓰?\""
   ]
  },
  {
   "cell_type": "code",
   "execution_count": 3,
   "metadata": {},
   "outputs": [
    {
     "name": "stdout",
     "output_type": "stream",
     "text": [
      "아아?\n",
      "오늘도 화이팅!\n"
     ]
    }
   ],
   "source": [
    "if THI >= 5:\n",
    "    print(\"달달?\")\n",
    "else:\n",
    "    print(\"아아?\")\n",
    "print(\"오늘도 화이팅!\")"
   ]
  },
  {
   "cell_type": "code",
   "execution_count": 4,
   "metadata": {},
   "outputs": [],
   "source": [
    "THI, SI = 7, 3"
   ]
  },
  {
   "cell_type": "markdown",
   "metadata": {},
   "source": [
    "quiz) THI >= 5 and SI >= 5 : \"Go home\", else : \"함께하자\""
   ]
  },
  {
   "cell_type": "code",
   "execution_count": 5,
   "metadata": {},
   "outputs": [
    {
     "name": "stdout",
     "output_type": "stream",
     "text": [
      "together\n"
     ]
    }
   ],
   "source": [
    "if THI >= 5 and SI >= 5:\n",
    "    print(\"Go home\")\n",
    "else:\n",
    "    print(\"together\")"
   ]
  },
  {
   "cell_type": "markdown",
   "metadata": {},
   "source": [
    "### if elif(그렇지않고!) "
   ]
  },
  {
   "cell_type": "markdown",
   "metadata": {},
   "source": [
    "quiz)THI >= 5 and SI >= 5 : \"Go home\"\n",
    "그렇지않고, THI <5 : \"Go sleep\"\n",
    "else : \"Go study\""
   ]
  },
  {
   "cell_type": "code",
   "execution_count": 6,
   "metadata": {},
   "outputs": [
    {
     "name": "stdout",
     "output_type": "stream",
     "text": [
      "Go study\n"
     ]
    }
   ],
   "source": [
    "if THI >= 5 and SI >= 5:\n",
    "    print(\"Go home\")\n",
    "elif THI < 5:\n",
    "    print(\"Go sleep\")\n",
    "else:\n",
    "    print(\"Go study\")"
   ]
  },
  {
   "cell_type": "code",
   "execution_count": 7,
   "metadata": {},
   "outputs": [
    {
     "name": "stdout",
     "output_type": "stream",
     "text": [
      "달달\n"
     ]
    }
   ],
   "source": [
    "if THI >= 5 and SI >= 5:\n",
    "    print(\"home\")\n",
    "elif THI >=5 and SI < 5 :\n",
    "    print(\"달달\")\n",
    "elif THI < 5 and SI >= 5:\n",
    "    print(\"sleep\")\n",
    "else:\n",
    "    print(\"study\")"
   ]
  },
  {
   "cell_type": "markdown",
   "metadata": {},
   "source": [
    "### if if (만약에, 만약에말야) "
   ]
  },
  {
   "cell_type": "markdown",
   "metadata": {},
   "source": [
    "quiz)THI >= 5 and SI >= 5 : \"Go home\" 그렇지않고, THI <5 : \"Go sleep\" else : \"Go study\""
   ]
  },
  {
   "cell_type": "code",
   "execution_count": 8,
   "metadata": {},
   "outputs": [
    {
     "name": "stdout",
     "output_type": "stream",
     "text": [
      "달달\n"
     ]
    }
   ],
   "source": [
    "if SI >= 5:\n",
    "    if THI >= 5:\n",
    "        print(\"HOME\")\n",
    "    else:\n",
    "        print(\"Sleep\")\n",
    "else:\n",
    "    if THI >= 5:\n",
    "        print(\"달달\")\n",
    "    else:\n",
    "        print(\"study\")"
   ]
  },
  {
   "cell_type": "markdown",
   "metadata": {},
   "source": [
    "### if 제어문에 대한 고찰"
   ]
  },
  {
   "cell_type": "markdown",
   "metadata": {},
   "source": [
    "if (조건) : #(조건)이 참이면 = (조건)의 return값이 1(True)이면  \n",
    "    (종속절)  #(종속절) 실행된다."
   ]
  },
  {
   "cell_type": "markdown",
   "metadata": {},
   "source": [
    "- (조건) -> 논리/비교연산 : 결과가 True = return 값이 1(True)\n",
    "- (조건) -> 숫자 자체 : 0이 아닌 숫자 = return 값이 1(True)\n",
    "- (조건) -> 문자 자체 : ''이 아닌 문자 = return 값이 1(true)"
   ]
  },
  {
   "cell_type": "code",
   "execution_count": 9,
   "metadata": {},
   "outputs": [
    {
     "name": "stdout",
     "output_type": "stream",
     "text": [
      "너 0이 아니구나! 트루!\n"
     ]
    }
   ],
   "source": [
    "if 10:\n",
    "    print(\"너 0이 아니구나! 트루!\")"
   ]
  },
  {
   "cell_type": "code",
   "execution_count": 10,
   "metadata": {},
   "outputs": [
    {
     "name": "stdout",
     "output_type": "stream",
     "text": [
      "너 ''이구나 펄스!\n"
     ]
    }
   ],
   "source": [
    "if '':\n",
    "    print(\"너 '이 아니구나! 트루!'\")\n",
    "else:\n",
    "    print(\"너 ''이구나 펄스!\")"
   ]
  },
  {
   "cell_type": "markdown",
   "metadata": {},
   "source": [
    "quiz) a의 값이 짝수면 \"짝수\", 홀수면 \"홀수\"  \n",
    "라고 출력하는 코드를 최대한 단순하게 작성해보세요."
   ]
  },
  {
   "cell_type": "code",
   "execution_count": 11,
   "metadata": {},
   "outputs": [
    {
     "name": "stdout",
     "output_type": "stream",
     "text": [
      "짝수\n"
     ]
    }
   ],
   "source": [
    "a = 20\n",
    "if a%2 == 0:\n",
    "    print(\"짝수\")\n",
    "else:\n",
    "    print(\"홀수\")"
   ]
  },
  {
   "cell_type": "code",
   "execution_count": 12,
   "metadata": {},
   "outputs": [
    {
     "name": "stdout",
     "output_type": "stream",
     "text": [
      "짝수\n"
     ]
    }
   ],
   "source": [
    "a = 20\n",
    "if a%2:\n",
    "    print(\"홀수\")\n",
    "else:\n",
    "    print(\"짝수\")"
   ]
  },
  {
   "cell_type": "markdown",
   "metadata": {},
   "source": [
    "# For 제어문(반복제어문) "
   ]
  },
  {
   "cell_type": "markdown",
   "metadata": {},
   "source": [
    "quiz) 1, 2, 3, ~~~ 10까지 출력해보세요. 한 줄에 한 숫자만"
   ]
  },
  {
   "cell_type": "code",
   "execution_count": 13,
   "metadata": {},
   "outputs": [
    {
     "name": "stdout",
     "output_type": "stream",
     "text": [
      "1 2 3 4 5 6 7 8 9 10\n"
     ]
    }
   ],
   "source": [
    "print(1,2,3,4,5,6,7,8,9,10)"
   ]
  },
  {
   "cell_type": "code",
   "execution_count": 14,
   "metadata": {},
   "outputs": [
    {
     "name": "stdout",
     "output_type": "stream",
     "text": [
      "1\n",
      "2\n",
      "3\n"
     ]
    }
   ],
   "source": [
    "print(1)\n",
    "print(2)\n",
    "print(3)   #귀찮.."
   ]
  },
  {
   "cell_type": "code",
   "execution_count": 15,
   "metadata": {},
   "outputs": [
    {
     "name": "stdout",
     "output_type": "stream",
     "text": [
      "1\n",
      "2\n",
      "3\n",
      "4\n",
      "5\n",
      "6\n",
      "7\n",
      "8\n",
      "9\n",
      "10\n",
      "11\n",
      "12\n",
      "13\n",
      "14\n",
      "15\n",
      "16\n",
      "17\n",
      "18\n",
      "19\n",
      "20\n",
      "21\n",
      "22\n",
      "23\n",
      "24\n",
      "25\n",
      "26\n",
      "27\n",
      "28\n",
      "29\n",
      "30\n",
      "31\n",
      "32\n",
      "33\n",
      "34\n",
      "35\n",
      "36\n",
      "37\n",
      "38\n",
      "39\n",
      "40\n",
      "41\n",
      "42\n",
      "43\n",
      "44\n",
      "45\n",
      "46\n",
      "47\n",
      "48\n",
      "49\n",
      "50\n",
      "51\n",
      "52\n",
      "53\n",
      "54\n",
      "55\n",
      "56\n",
      "57\n",
      "58\n",
      "59\n",
      "60\n",
      "61\n",
      "62\n",
      "63\n",
      "64\n",
      "65\n",
      "66\n",
      "67\n",
      "68\n",
      "69\n",
      "70\n",
      "71\n",
      "72\n",
      "73\n",
      "74\n",
      "75\n",
      "76\n",
      "77\n",
      "78\n",
      "79\n",
      "80\n",
      "81\n",
      "82\n",
      "83\n",
      "84\n",
      "85\n",
      "86\n",
      "87\n",
      "88\n",
      "89\n",
      "90\n",
      "91\n",
      "92\n",
      "93\n",
      "94\n",
      "95\n",
      "96\n",
      "97\n",
      "98\n",
      "99\n",
      "100\n"
     ]
    }
   ],
   "source": [
    "for i in range(1, 101, 1):  #range(시작점, 끝점+1, 증감간격)\n",
    "    print(i)"
   ]
  },
  {
   "cell_type": "code",
   "execution_count": 16,
   "metadata": {},
   "outputs": [
    {
     "name": "stdout",
     "output_type": "stream",
     "text": [
      "12345678910\n",
      "11121314151617181920\n",
      "21222324252627282930\n",
      "31323334353637383940\n",
      "41424344454647484950\n",
      "51525354555657585960\n",
      "61626364656667686970\n",
      "71727374757677787980\n",
      "81828384858687888990\n",
      "919293949596979899100\n"
     ]
    }
   ],
   "source": [
    "for i in range(1, 101, 1):\n",
    "    print(i, end='')\n",
    "    if i%10 == 0:\n",
    "        print()\n",
    "    "
   ]
  },
  {
   "cell_type": "code",
   "execution_count": 17,
   "metadata": {
    "scrolled": true
   },
   "outputs": [
    {
     "name": "stdout",
     "output_type": "stream",
     "text": [
      "1 2 3 4 5 6 7 8 9 10\n",
      "11 12 13 14 15 16 17 18 19 20\n",
      "21 22 23 24 25 26 27 28 29 30\n",
      "31 32 33 34 35 36 37 38 39 40\n",
      "41 42 43 44 45 46 47 48 49 50\n",
      "51 52 53 54 55 56 57 58 59 60\n",
      "61 62 63 64 65 66 67 68 69 70\n",
      "71 72 73 74 75 76 77 78 79 80\n",
      "81 82 83 84 85 86 87 88 89 90\n",
      "91 92 93 94 95 96 97 98 99 100\n"
     ]
    }
   ],
   "source": [
    "for i in range(1, 101, 1):\n",
    "    if i%10: \n",
    "        print(i, end=' ')\n",
    "    else:\n",
    "        print(i)\n",
    "    "
   ]
  },
  {
   "cell_type": "markdown",
   "metadata": {},
   "source": [
    "#### for문에 대한 고찰 "
   ]
  },
  {
   "cell_type": "markdown",
   "metadata": {},
   "source": [
    "for i in range(시작, 끝+1, 간격):  \n",
    "    종속절\n",
    "    \n",
    "i가 (시작)부터 (끝)까지 도달할 때까지 (종속절)을 반복\n",
    "\n",
    "- 시작: 쓰지 않아도 됨. 대신 시작 = 0 으로 간주\n",
    "- 끝+1: 무조건 써야함.  \n",
    "- 간격: 쓰지 않아도 됨. 대신 간격 = 1 로 간주"
   ]
  },
  {
   "cell_type": "code",
   "execution_count": 18,
   "metadata": {},
   "outputs": [
    {
     "name": "stdout",
     "output_type": "stream",
     "text": [
      "0 1 2 3 4 5 6 7 8 9 10 11 12 13 14 15 16 17 18 19 20 21 22 23 24 25 26 27 28 29 30 31 32 33 34 35 36 37 38 39 40 41 42 43 44 45 46 47 48 49 50 51 52 53 54 55 56 57 58 59 60 61 62 63 64 65 66 67 68 69 70 71 72 73 74 75 76 77 78 79 80 81 82 83 84 85 86 87 88 89 90 91 92 93 94 95 96 97 98 99 "
     ]
    }
   ],
   "source": [
    "for i in range(100):  #시작=0, 끝+1=100(끝=99), 간격=1\n",
    "    print(i, end=' ')"
   ]
  },
  {
   "cell_type": "markdown",
   "metadata": {},
   "source": [
    "quiz) print(i, end=' ')는 총 몇번 실행되었을까?'"
   ]
  },
  {
   "cell_type": "markdown",
   "metadata": {},
   "source": [
    "ans: 100번"
   ]
  },
  {
   "cell_type": "raw",
   "metadata": {},
   "source": [
    "quiz) * 피라미드 쌓기  \n",
    "     *\n",
    "    * *\n",
    "   * * *\n",
    "  * * * *\n",
    "    ...\n",
    "*          * 10개"
   ]
  },
  {
   "cell_type": "code",
   "execution_count": 19,
   "metadata": {},
   "outputs": [
    {
     "name": "stdout",
     "output_type": "stream",
     "text": [
      "         * \n",
      "        * * \n",
      "       * * * \n",
      "      * * * * \n",
      "     * * * * * \n",
      "    * * * * * * \n",
      "   * * * * * * * \n",
      "  * * * * * * * * \n",
      " * * * * * * * * * \n",
      "* * * * * * * * * * \n"
     ]
    }
   ],
   "source": [
    "for i in range(1, 11):\n",
    "    print(' '*(10-i) + '* '*(i))"
   ]
  },
  {
   "cell_type": "code",
   "execution_count": 20,
   "metadata": {},
   "outputs": [
    {
     "name": "stdout",
     "output_type": "stream",
     "text": [
      "        * \n",
      "       * * \n",
      "      * * * \n",
      "     * * * * \n",
      "      * * * \n",
      "       * * \n",
      "        * \n"
     ]
    }
   ],
   "source": [
    "for i in range(7):\n",
    "    if i <= 3:  #i=0,1,2,3\n",
    "        print(' '*(7-i), '* '*(i+1))\n",
    "    else:  #i=4,5,6\n",
    "        print(' '*(i+1), '* '*(7-i))"
   ]
  },
  {
   "cell_type": "markdown",
   "metadata": {},
   "source": [
    "#### while문(반복제어문)"
   ]
  },
  {
   "cell_type": "markdown",
   "metadata": {},
   "source": [
    "while (조건):  #조건이 참이라면  \n",
    "    (종속절)  #종속절 실행(반복)"
   ]
  },
  {
   "cell_type": "raw",
   "metadata": {},
   "source": [
    "while 1:#무한반복. 왜? 조건이 계속 참일 수 밖에 없으니까\n",
    "    print('지문찍고가')\n",
    "    "
   ]
  },
  {
   "cell_type": "code",
   "execution_count": null,
   "metadata": {},
   "outputs": [],
   "source": [
    "while 0:\n",
    "    print('출력')  #실행안됨"
   ]
  },
  {
   "cell_type": "code",
   "execution_count": 22,
   "metadata": {},
   "outputs": [
    {
     "name": "stdout",
     "output_type": "stream",
     "text": [
      "0 1 2 3 4 5 6 7 8 9 "
     ]
    }
   ],
   "source": [
    "number = 0\n",
    "while number < 10:\n",
    "    print(number, end=' ')\n",
    "    number += 1  # number = number + 1"
   ]
  },
  {
   "cell_type": "markdown",
   "metadata": {},
   "source": [
    "### 무한반복 + continue/break 사용하기"
   ]
  },
  {
   "cell_type": "code",
   "execution_count": 1,
   "metadata": {},
   "outputs": [
    {
     "name": "stdout",
     "output_type": "stream",
     "text": [
      "0 1 2 3 4 5 6 7 8 9 "
     ]
    }
   ],
   "source": [
    "number = 0\n",
    "while 1:\n",
    "    print(number, end=' ')\n",
    "    number += 1\n",
    "    \n",
    "    if number == 10:\n",
    "        break"
   ]
  },
  {
   "cell_type": "code",
   "execution_count": 4,
   "metadata": {},
   "outputs": [
    {
     "name": "stdout",
     "output_type": "stream",
     "text": [
      "0 1 2 3 4 5 6 7 8 9 10 "
     ]
    }
   ],
   "source": [
    "number = 0\n",
    "while 1:\n",
    "    print(number, end=' ')\n",
    "    number += 1\n",
    "    \n",
    "    if number <= 10:\n",
    "        continue    #continue는 현재시행을 여기서 끝내고, 다음 시행으로 바로 넘어감.\n",
    "    else:\n",
    "        break       #반복시행을 종료함.\n",
    "        \n",
    "    print('-')"
   ]
  },
  {
   "cell_type": "markdown",
   "metadata": {},
   "source": [
    "### 컴프리헨션(내포) "
   ]
  },
  {
   "cell_type": "markdown",
   "metadata": {},
   "source": [
    "- 제어문을 리스트와 같은 자료형에 내포시켜 사용하는 것을 말함"
   ]
  },
  {
   "cell_type": "markdown",
   "metadata": {},
   "source": [
    "#### 리스트 컴프리헨션\n",
    "data=['<종속절=리스트의 구성원>'for i in range()]"
   ]
  },
  {
   "cell_type": "code",
   "execution_count": 10,
   "metadata": {},
   "outputs": [
    {
     "name": "stdout",
     "output_type": "stream",
     "text": [
      "0 1 2 3 4 5 6 7 8 9 \n",
      "[0, 1, 2, 3, 4, 5, 6, 7, 8, 9]\n"
     ]
    }
   ],
   "source": [
    "# 일반적인 for 문과 비교\n",
    "for i in range(10):\n",
    "    print(i, end=' ')\n",
    "\n",
    "print()\n",
    "\n",
    "#리스트 컴프리헨션(내포)\n",
    "data = [0,1,2,3,4,5,6,7,8,9]\n",
    "\n",
    "data_com = [i for i in range(10)]\n",
    "print(data_com)"
   ]
  },
  {
   "cell_type": "markdown",
   "metadata": {},
   "source": [
    "quiz) 1,2,3,....19,20 으로 구성되는 리스트 a를 만들어보세요."
   ]
  },
  {
   "cell_type": "code",
   "execution_count": 14,
   "metadata": {},
   "outputs": [
    {
     "data": {
      "text/plain": [
       "[1, 2, 3, 4, 5, 6, 7, 8, 9, 10, 11, 12, 13, 14, 15, 16, 17, 18, 19, 20]"
      ]
     },
     "execution_count": 14,
     "metadata": {},
     "output_type": "execute_result"
    }
   ],
   "source": [
    "a = [i for i in range(1,21)]\n",
    "a"
   ]
  },
  {
   "cell_type": "markdown",
   "metadata": {},
   "source": [
    "quiz) 5,10,15,20,25,30...100으로 구성되는 리스트 data를 만들어보세요."
   ]
  },
  {
   "cell_type": "code",
   "execution_count": 17,
   "metadata": {},
   "outputs": [
    {
     "name": "stdout",
     "output_type": "stream",
     "text": [
      "[5, 10, 15, 20, 25, 30, 35, 40, 45, 50, 55, 60, 65, 70, 75, 80, 85, 90, 95, 100]\n"
     ]
    }
   ],
   "source": [
    "data = [i for i in range(5,101,5)]\n",
    "print(data)"
   ]
  },
  {
   "cell_type": "code",
   "execution_count": 15,
   "metadata": {},
   "outputs": [
    {
     "name": "stdout",
     "output_type": "stream",
     "text": [
      "[5, 10, 15, 20, 25, 30, 35, 40, 45, 50, 55, 60, 65, 70, 75, 80, 85, 90, 95, 100]\n"
     ]
    }
   ],
   "source": [
    "data = [i*5 for i in range(1, 21)]\n",
    "print(data)"
   ]
  },
  {
   "cell_type": "code",
   "execution_count": 19,
   "metadata": {},
   "outputs": [
    {
     "name": "stdout",
     "output_type": "stream",
     "text": [
      "[5, 10, 15, 20, 25, 30, 35, 40, 45, 50, 55, 60, 65, 70, 75, 80, 85, 90, 95, 100]\n"
     ]
    }
   ],
   "source": [
    "data = [i for i in range(1, 101) if i%5 == 0]\n",
    "print(data)   \n",
    "\n",
    "# for i in range(1, 101):\n",
    "#    if i%5 == 0\n",
    "#        i"
   ]
  },
  {
   "cell_type": "markdown",
   "metadata": {},
   "source": [
    "### 리스트를 활용한 반복제어문 "
   ]
  },
  {
   "cell_type": "code",
   "execution_count": 29,
   "metadata": {},
   "outputs": [
    {
     "name": "stdout",
     "output_type": "stream",
     "text": [
      "0 1 2 3 4 5 6 7 8 9 "
     ]
    }
   ],
   "source": [
    "data = [i for i in range(10)]\n",
    "\n",
    "for d in data:\n",
    "    print(d, end=' ')"
   ]
  },
  {
   "cell_type": "markdown",
   "metadata": {},
   "source": [
    "quiz) data 안에 5가 들어있는지 확인하고, 5가 있다면, \"찾았다!\" 출력"
   ]
  },
  {
   "cell_type": "markdown",
   "metadata": {},
   "source": [
    "풀이) data라는 리스트의 원소를 하나씩 탐색 -> 5를 찾으면 \"찾았다\" 출력 시행"
   ]
  },
  {
   "cell_type": "code",
   "execution_count": 31,
   "metadata": {},
   "outputs": [
    {
     "name": "stdout",
     "output_type": "stream",
     "text": [
      "찾았다! 5\n"
     ]
    }
   ],
   "source": [
    "for d in data:   #data 안의 원소를 하나씩 탐색하겠다는 의미\n",
    "    if d == 5:\n",
    "        print(\"찾았다!\", d)"
   ]
  },
  {
   "cell_type": "code",
   "execution_count": 32,
   "metadata": {},
   "outputs": [
    {
     "name": "stdout",
     "output_type": "stream",
     "text": [
      "이원재\n",
      "김가영\n",
      "김강빈\n",
      "김민철\n",
      "김원중\n",
      "김홍덕\n"
     ]
    }
   ],
   "source": [
    "name = ['이원재','김가영','김강빈','김민철','김원중','김홍덕']\n",
    "\n",
    "for n in name:\n",
    "    print(n)"
   ]
  },
  {
   "cell_type": "markdown",
   "metadata": {},
   "source": [
    "quiz) name에서 '이름'과 함께 index도 같이 확인해보고 싶다면?"
   ]
  },
  {
   "cell_type": "markdown",
   "metadata": {},
   "source": [
    "#### enumerate"
   ]
  },
  {
   "cell_type": "code",
   "execution_count": 38,
   "metadata": {},
   "outputs": [
    {
     "name": "stdout",
     "output_type": "stream",
     "text": [
      "0 이원재\n",
      "1 김가영\n",
      "2 김강빈\n",
      "3 김민철\n",
      "4 김원중\n",
      "5 김홍덕\n"
     ]
    }
   ],
   "source": [
    "for i, n in enumerate(name):\n",
    "    print(i,n)"
   ]
  },
  {
   "cell_type": "markdown",
   "metadata": {},
   "source": [
    "- 2개의 리스트를 동시에 for문으로 제어할 수 있을까?"
   ]
  },
  {
   "cell_type": "markdown",
   "metadata": {},
   "source": [
    "#### zip "
   ]
  },
  {
   "cell_type": "code",
   "execution_count": 39,
   "metadata": {},
   "outputs": [
    {
     "name": "stdout",
     "output_type": "stream",
     "text": [
      "이원재 song\n",
      "김가영 movie\n",
      "김강빈 tv\n",
      "김민철 coding\n",
      "김원중 sleep\n",
      "김홍덕 cycle\n"
     ]
    }
   ],
   "source": [
    "name = ['이원재','김가영','김강빈','김민철','김원중','김홍덕']\n",
    "hobby = ['song', 'movie','tv','coding','sleep','cycle']\n",
    "\n",
    "for n, h in zip(name, hobby):\n",
    "    print(n,h)"
   ]
  },
  {
   "cell_type": "markdown",
   "metadata": {},
   "source": [
    "#### 다중 for문 "
   ]
  },
  {
   "cell_type": "code",
   "execution_count": 42,
   "metadata": {},
   "outputs": [
    {
     "name": "stdout",
     "output_type": "stream",
     "text": [
      "0 ['이원재', '김가영', '김강빈', '김민철', '김원중', '김홍덕']\n",
      "1 ['song', 'movie', 'tv', 'coding', 'sleep', 'cycle']\n"
     ]
    }
   ],
   "source": [
    "data = [['이원재','김가영','김강빈','김민철','김원중','김홍덕'],\n",
    "['song', 'movie','tv','coding','sleep','cycle']]\n",
    "\n",
    "for i,d in enumerate(data):\n",
    "    print(i,d)"
   ]
  },
  {
   "cell_type": "markdown",
   "metadata": {},
   "source": [
    "- data의 각 원소 하나하나를 지정해야 된다면?"
   ]
  },
  {
   "cell_type": "code",
   "execution_count": 48,
   "metadata": {},
   "outputs": [
    {
     "name": "stdout",
     "output_type": "stream",
     "text": [
      "data 0 : ['이원재', '김가영', '김강빈', '김민철', '김원중', '김홍덕']\n",
      "0 이원재\n",
      "1 김가영\n",
      "2 김강빈\n",
      "3 김민철\n",
      "4 김원중\n",
      "5 김홍덕\n",
      "-----\n",
      "data 1 : ['song', 'movie', 'tv', 'coding', 'sleep', 'cycle']\n",
      "0 song\n",
      "1 movie\n",
      "2 tv\n",
      "3 coding\n",
      "4 sleep\n",
      "5 cycle\n",
      "-----\n"
     ]
    }
   ],
   "source": [
    "for d_index, d in enumerate(data):\n",
    "    print(\"data\", d_index, \":\", d)\n",
    "    for i_index, i in enumerate(d):\n",
    "        print(i_index, i)\n",
    "        \n",
    "    print('-----')"
   ]
  },
  {
   "cell_type": "code",
   "execution_count": null,
   "metadata": {},
   "outputs": [],
   "source": []
  }
 ],
 "metadata": {
  "kernelspec": {
   "display_name": "Python 3",
   "language": "python",
   "name": "python3"
  },
  "language_info": {
   "codemirror_mode": {
    "name": "ipython",
    "version": 3
   },
   "file_extension": ".py",
   "mimetype": "text/x-python",
   "name": "python",
   "nbconvert_exporter": "python",
   "pygments_lexer": "ipython3",
   "version": "3.7.3"
  }
 },
 "nbformat": 4,
 "nbformat_minor": 2
}
