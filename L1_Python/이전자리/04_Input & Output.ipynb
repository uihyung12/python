{
 "cells": [
  {
   "cell_type": "markdown",
   "metadata": {},
   "source": [
    "### Screen-output (화면출력)"
   ]
  },
  {
   "cell_type": "code",
   "execution_count": 1,
   "metadata": {},
   "outputs": [
    {
     "name": "stdout",
     "output_type": "stream",
     "text": [
      "1\n"
     ]
    }
   ],
   "source": [
    "print(1)"
   ]
  },
  {
   "cell_type": "markdown",
   "metadata": {},
   "source": [
    "quiz)  \n",
    "1. print함수 3개를 이용해서 'hello, aejin'을 출력하되, 한줄에 출력해보세요.\n",
    "\n",
    "2. print함수 1개를 이용해서 'hello, multicampus'를 세개를 출력하되, 세줄에 걸쳐 출력해보세요.  "
   ]
  },
  {
   "cell_type": "code",
   "execution_count": 2,
   "metadata": {},
   "outputs": [
    {
     "name": "stdout",
     "output_type": "stream",
     "text": [
      "hello, aejin~~! hello, aejin~~! hello, aejin~~! "
     ]
    }
   ],
   "source": [
    "#1\n",
    "print('hello, aejin', end='~~! ')\n",
    "print('hello, aejin', end='~~! ')\n",
    "print('hello, aejin', end='~~! ')\n"
   ]
  },
  {
   "cell_type": "code",
   "execution_count": 3,
   "metadata": {
    "scrolled": true
   },
   "outputs": [
    {
     "name": "stdout",
     "output_type": "stream",
     "text": [
      "hello, multicampus\n",
      "hello, multicampus\n",
      "hello, multicampus\n"
     ]
    }
   ],
   "source": [
    "#2\n",
    "print('hello, multicampus', 'hello, multicampus', 'hello, multicampus', sep='\\n')"
   ]
  },
  {
   "cell_type": "code",
   "execution_count": 4,
   "metadata": {},
   "outputs": [
    {
     "name": "stdout",
     "output_type": "stream",
     "text": [
      "hello, multicampus**hello, multicampus**hello, multicampus\n"
     ]
    }
   ],
   "source": [
    "print('hello, multicampus', 'hello, multicampus', 'hello, multicampus', sep='**')"
   ]
  },
  {
   "cell_type": "code",
   "execution_count": 5,
   "metadata": {},
   "outputs": [
    {
     "name": "stdout",
     "output_type": "stream",
     "text": [
      "hello, multicampus\n",
      "hello, multicampus\n",
      "hello, multicampus\n"
     ]
    }
   ],
   "source": [
    "print('hello, multicampus\\nhello, multicampus\\nhello, multicampus')"
   ]
  },
  {
   "cell_type": "markdown",
   "metadata": {},
   "source": [
    "### format (형식 지정 출력)"
   ]
  },
  {
   "cell_type": "code",
   "execution_count": 6,
   "metadata": {},
   "outputs": [
    {
     "name": "stdout",
     "output_type": "stream",
     "text": [
      "hellomulti\n"
     ]
    }
   ],
   "source": [
    "print('hello' + 'multi')"
   ]
  },
  {
   "cell_type": "code",
   "execution_count": 7,
   "metadata": {},
   "outputs": [
    {
     "name": "stdout",
     "output_type": "stream",
     "text": [
      "hello\n"
     ]
    }
   ],
   "source": [
    "print(\"{}\".format('hello'))   #='{<'data'>}'.format('data')"
   ]
  },
  {
   "cell_type": "code",
   "execution_count": 8,
   "metadata": {},
   "outputs": [
    {
     "name": "stdout",
     "output_type": "stream",
     "text": [
      "hellomulti\n"
     ]
    }
   ],
   "source": [
    "print(\"{}{}\".format('hello','multi'))   #'{<data1>}{<data2>}'.format('data1', 'data2')}"
   ]
  },
  {
   "cell_type": "code",
   "execution_count": 9,
   "metadata": {},
   "outputs": [
    {
     "name": "stdout",
     "output_type": "stream",
     "text": [
      "multihello\n"
     ]
    }
   ],
   "source": [
    "print('{1}{0}'.format('hello','multi'))\n",
    "#순서 지정"
   ]
  },
  {
   "cell_type": "code",
   "execution_count": 10,
   "metadata": {
    "scrolled": true
   },
   "outputs": [
    {
     "name": "stdout",
     "output_type": "stream",
     "text": [
      "multi,hello~!!\n"
     ]
    }
   ],
   "source": [
    "print(\"{1},{0}~!!\".format('hello','multi'))"
   ]
  },
  {
   "cell_type": "code",
   "execution_count": 11,
   "metadata": {},
   "outputs": [
    {
     "name": "stdout",
     "output_type": "stream",
     "text": [
      " 0\n",
      " 1\n",
      " 2\n",
      " 3\n",
      " 4\n",
      " 5\n",
      " 6\n",
      " 7\n",
      " 8\n",
      " 9\n",
      "10\n",
      "11\n",
      "12\n",
      "13\n",
      "14\n"
     ]
    }
   ],
   "source": [
    "data = [i for i in range(15)]\n",
    "\n",
    "for d in data:\n",
    "    print('{:2}'.format(d)) #{}안의 2는 자릿수"
   ]
  },
  {
   "cell_type": "code",
   "execution_count": 12,
   "metadata": {},
   "outputs": [
    {
     "name": "stdout",
     "output_type": "stream",
     "text": [
      "00\n",
      "01\n",
      "02\n",
      "03\n",
      "04\n",
      "05\n",
      "06\n",
      "07\n",
      "08\n",
      "09\n",
      "10\n",
      "11\n",
      "12\n",
      "13\n",
      "14\n"
     ]
    }
   ],
   "source": [
    "data = [i for i in range(15)]\n",
    "\n",
    "for d in data:\n",
    "    print('{:02}'.format(d))"
   ]
  },
  {
   "cell_type": "markdown",
   "metadata": {},
   "source": [
    "quiz)\n",
    "1 2 3 4 ... 10  \n",
    "11 12 ... 20  \n",
    "...  \n",
    "..  \n",
    "91 92 ... 100\n",
    "\n",
    "을 출력하되, 보기 좋게 자릿수를 맞춰서 출력해보세요."
   ]
  },
  {
   "cell_type": "code",
   "execution_count": 9,
   "metadata": {},
   "outputs": [
    {
     "name": "stdout",
     "output_type": "stream",
     "text": [
      "  1  2  3  4  5  6  7  8  9 10\n",
      " 11 12 13 14 15 16 17 18 19 20\n",
      " 21 22 23 24 25 26 27 28 29 30\n",
      " 31 32 33 34 35 36 37 38 39 40\n",
      " 41 42 43 44 45 46 47 48 49 50\n",
      " 51 52 53 54 55 56 57 58 59 60\n",
      " 61 62 63 64 65 66 67 68 69 70\n",
      " 71 72 73 74 75 76 77 78 79 80\n",
      " 81 82 83 84 85 86 87 88 89 90\n",
      " 91 92 93 94 95 96 97 98 99100\n"
     ]
    }
   ],
   "source": [
    "for i in range(1,101):\n",
    "    print('{:3}'.format(i),end='')\n",
    "    if i%10 == 0:\n",
    "        print()"
   ]
  },
  {
   "cell_type": "code",
   "execution_count": 14,
   "metadata": {},
   "outputs": [
    {
     "name": "stdout",
     "output_type": "stream",
     "text": [
      "4.565\n"
     ]
    }
   ],
   "source": [
    "number = 4.5654324\n",
    "print('{:.4}'.format(number))"
   ]
  },
  {
   "cell_type": "code",
   "execution_count": 15,
   "metadata": {},
   "outputs": [
    {
     "name": "stdout",
     "output_type": "stream",
     "text": [
      "[0.0, 0.0375, 0.075, 0.1125, 0.15, 0.1875, 0.225, 0.2625, 0.3, 0.3375]\n",
      "0.00\n",
      "0.04\n",
      "0.07\n",
      "0.11\n",
      "0.15\n",
      "0.19\n",
      "0.23\n",
      "0.26\n",
      "0.30\n",
      "0.34\n"
     ]
    }
   ],
   "source": [
    "data = [i*3/80 for i in range(10)]  #실수 10개로 이루어진 리스트\n",
    "print(data)\n",
    "\n",
    "for i in data:\n",
    "    print('{:.2f}'.format(i))   #float (round; 반올림 적용)"
   ]
  },
  {
   "cell_type": "code",
   "execution_count": 16,
   "metadata": {},
   "outputs": [
    {
     "name": "stdout",
     "output_type": "stream",
     "text": [
      "1,234,058\n"
     ]
    }
   ],
   "source": [
    "print('{:,}'.format(1234058))"
   ]
  },
  {
   "cell_type": "markdown",
   "metadata": {},
   "source": [
    "### keyboard input "
   ]
  },
  {
   "cell_type": "code",
   "execution_count": 17,
   "metadata": {},
   "outputs": [
    {
     "name": "stdout",
     "output_type": "stream",
     "text": [
      "달달쓰?\n"
     ]
    }
   ],
   "source": [
    "THI =7 #0~10\n",
    "\n",
    "if THI >=5:\n",
    "    print(\"달달쓰?\")"
   ]
  },
  {
   "cell_type": "code",
   "execution_count": 18,
   "metadata": {},
   "outputs": [
    {
     "name": "stdout",
     "output_type": "stream",
     "text": [
      "당신의 불쾌지수는? 7\n",
      "<class 'int'>\n",
      "달달쓰?\n"
     ]
    }
   ],
   "source": [
    "THI = int(input(\"당신의 불쾌지수는? \"))\n",
    "print(type(THI))\n",
    "\n",
    "if THI >= 5:\n",
    "    print(\"달달쓰?\")"
   ]
  },
  {
   "cell_type": "code",
   "execution_count": 19,
   "metadata": {
    "scrolled": true
   },
   "outputs": [
    {
     "name": "stdout",
     "output_type": "stream",
     "text": [
      "너 이름이/가 뭐니?애진\n",
      "내 이름은/는 애진입니다.\n",
      "너 성별이/가 뭐니?여자\n",
      "내 성별은/는 여자입니다.\n",
      "너 나이이/가 뭐니?27\n",
      "내 나이은/는 27입니다.\n",
      "너 국적이/가 뭐니?한국\n",
      "내 국적은/는 한국입니다.\n",
      "['애진', '여자', '27', '한국']\n"
     ]
    }
   ],
   "source": [
    "data = ['이름', '성별','나이','국적']  \n",
    "\n",
    "inform = [] #empty list\n",
    "\n",
    "for i in data:\n",
    "    info = input(\"너 {}이/가 뭐니?\".format(i))\n",
    "    \n",
    "    inform.append(info)\n",
    "    \n",
    "    print(\"내 {}은/는 {}입니다.\".format(i,info))\n",
    "    \n",
    "print(inform)"
   ]
  },
  {
   "cell_type": "code",
   "execution_count": 19,
   "metadata": {},
   "outputs": [
    {
     "name": "stdout",
     "output_type": "stream",
     "text": [
      "너 이름이 뭐니?애진\n",
      "내 이름은 애진입니다.\n",
      "너 성별이 뭐니?여\n",
      "내 성별은 여입니다.\n"
     ]
    }
   ],
   "source": [
    "data =['이름','성별']\n",
    "\n",
    "for i in data:\n",
    "    info = input(\"너 {}이 뭐니?\".format(i))\n",
    "    print(\"내 {}은 {}입니다.\".format(i,info))"
   ]
  },
  {
   "cell_type": "markdown",
   "metadata": {},
   "source": [
    "### file I/O(파일 입출력)"
   ]
  },
  {
   "cell_type": "code",
   "execution_count": 20,
   "metadata": {},
   "outputs": [
    {
     "name": "stdout",
     "output_type": "stream",
     "text": [
      "가장 보고싶은 영화는 무엇인가요?기생충\n"
     ]
    },
    {
     "data": {
      "text/plain": [
       "'기생충'"
      ]
     },
     "execution_count": 20,
     "metadata": {},
     "output_type": "execute_result"
    }
   ],
   "source": [
    "data = input(\"가장 보고싶은 영화는 무엇인가요?\")\n",
    "data"
   ]
  },
  {
   "cell_type": "code",
   "execution_count": 25,
   "metadata": {},
   "outputs": [],
   "source": [
    "f = open(\"movie.txt\", 'w', encoding='UTF-8')  #읽기('r') or 쓰기('w')\n",
    "f.write(data)\n",
    "f.close()"
   ]
  },
  {
   "cell_type": "code",
   "execution_count": 28,
   "metadata": {},
   "outputs": [
    {
     "data": {
      "text/plain": [
       "'기생충'"
      ]
     },
     "execution_count": 28,
     "metadata": {},
     "output_type": "execute_result"
    }
   ],
   "source": [
    "f=open(\"movie.txt\",'r', encoding='UTF-8')\n",
    "movie = f.read()\n",
    "f.close()\n",
    "\n",
    "movie"
   ]
  },
  {
   "cell_type": "code",
   "execution_count": 30,
   "metadata": {
    "scrolled": true
   },
   "outputs": [
    {
     "data": {
      "text/plain": [
       "['avengers', 'man in black']"
      ]
     },
     "execution_count": 30,
     "metadata": {},
     "output_type": "execute_result"
    }
   ],
   "source": [
    "movie_favorite = ['avengers']\n",
    "#자동완성기능\n",
    "movie_favorite.append('man in black')\n",
    "\n",
    "movie_favorite"
   ]
  },
  {
   "cell_type": "raw",
   "metadata": {},
   "source": [
    "f = open('avengers.txt','r')\n",
    "avengers = f.readline()\n",
    "f.close()\n",
    "\n",
    "print(avengers)"
   ]
  },
  {
   "cell_type": "code",
   "execution_count": 39,
   "metadata": {},
   "outputs": [
    {
     "name": "stdout",
     "output_type": "stream",
     "text": [
      "['어번저스 엔드게임\\n', '줄거리\\n', '인피니티 워 이후 절반만 살아남은 지구\\n', '마지막 희망이 된 어벤져스\\n', '먼저 떠난 그들을 위해 모든 것을 걸었다!\\n', ' \\n', '위대한 어벤져스\\n', '운명을 바꿀 최후의 전쟁이 펼쳐진다!']\n"
     ]
    }
   ],
   "source": [
    "f = open('avengers.txt','r')\n",
    "\n",
    "avengers = []\n",
    "for i in range(8):\n",
    "    avenger = f.readline()    #한줄\n",
    "    avengers.append(avenger)\n",
    "print(avengers)\n",
    "\n",
    "f.close()"
   ]
  },
  {
   "cell_type": "code",
   "execution_count": 44,
   "metadata": {},
   "outputs": [
    {
     "name": "stdout",
     "output_type": "stream",
     "text": [
      "['어번저스 엔드게임\\n', '줄거리\\n', '인피니티 워 이후 절반만 살아남은 지구\\n', '마지막 희망이 된 어벤져스\\n', '먼저 떠난 그들을 위해 모든 것을 걸었다!\\n', ' \\n', '위대한 어벤져스\\n', '운명을 바꿀 최후의 전쟁이 펼쳐진다!']\n"
     ]
    }
   ],
   "source": [
    "f = open('avengers.txt','r')\n",
    "\n",
    "avengers = f.readlines()    #한줄씩 전부 다\n",
    "    \n",
    "print(avengers)\n",
    "\n",
    "f.close()"
   ]
  },
  {
   "cell_type": "markdown",
   "metadata": {},
   "source": [
    "- avengers.txt 파일의 복사본 avengers_2.txt를 만들고 싶다면?"
   ]
  },
  {
   "cell_type": "code",
   "execution_count": 45,
   "metadata": {},
   "outputs": [],
   "source": [
    "f2 = open('avengers_2.txt', 'w', encoding='UTF-8')\n",
    "\n",
    "f2.writelines(avengers)\n",
    "\n",
    "f2.close()"
   ]
  },
  {
   "cell_type": "markdown",
   "metadata": {},
   "source": [
    "quiz) avengers_2.txt 를 만들되, 단순히 복사본이 아니라, 결말을 스포하는 내용을 추가해서 저장해보세요."
   ]
  },
  {
   "cell_type": "code",
   "execution_count": 52,
   "metadata": {},
   "outputs": [],
   "source": [
    "f3 = open('avengers_2.txt', 'w', encoding='UTF-8')\n",
    "\n",
    "f3.writelines(avengers)\n",
    "f3.write(\"i'm iron-man\")\n",
    "\n",
    "f3.close()"
   ]
  },
  {
   "cell_type": "code",
   "execution_count": 54,
   "metadata": {},
   "outputs": [],
   "source": [
    "final_story = \"i'm iron-man\"\n",
    "\n",
    "f2 = open('avengers_2.txt', 'w', encoding='UTF-8')\n",
    "\n",
    "avengers.append(final_story)\n",
    "\n",
    "f2.writelines(avengers)\n",
    "\n",
    "f2.close()"
   ]
  },
  {
   "cell_type": "code",
   "execution_count": 55,
   "metadata": {},
   "outputs": [
    {
     "data": {
      "text/plain": [
       "['어번저스 엔드게임\\n',\n",
       " '줄거리\\n',\n",
       " '인피니티 워 이후 절반만 살아남은 지구\\n',\n",
       " '마지막 희망이 된 어벤져스\\n',\n",
       " '먼저 떠난 그들을 위해 모든 것을 걸었다!\\n',\n",
       " ' \\n',\n",
       " '위대한 어벤져스\\n',\n",
       " '운명을 바꿀 최후의 전쟁이 펼쳐진다!',\n",
       " \"i'm iron-man\"]"
      ]
     },
     "execution_count": 55,
     "metadata": {},
     "output_type": "execute_result"
    }
   ],
   "source": [
    "avengers"
   ]
  },
  {
   "cell_type": "markdown",
   "metadata": {},
   "source": [
    "#### with ~as 용법 : open과 close를 한번에 "
   ]
  },
  {
   "cell_type": "code",
   "execution_count": 57,
   "metadata": {},
   "outputs": [
    {
     "data": {
      "text/plain": [
       "\"어번저스 엔드게임\\n줄거리\\n인피니티 워 이후 절반만 살아남은 지구\\n마지막 희망이 된 어벤져스\\n먼저 떠난 그들을 위해 모든 것을 걸었다!\\n \\n위대한 어벤져스\\n운명을 바꿀 최후의 전쟁이 펼쳐진다!i'm iron-man\""
      ]
     },
     "execution_count": 57,
     "metadata": {},
     "output_type": "execute_result"
    }
   ],
   "source": [
    "#open & close와 비교\n",
    "f = open('avengers_2.txt','r',encoding='UTF-8')\n",
    "data = f.read()\n",
    "f.close()\n",
    "\n",
    "data"
   ]
  },
  {
   "cell_type": "code",
   "execution_count": 59,
   "metadata": {},
   "outputs": [
    {
     "data": {
      "text/plain": [
       "\"어번저스 엔드게임\\n줄거리\\n인피니티 워 이후 절반만 살아남은 지구\\n마지막 희망이 된 어벤져스\\n먼저 떠난 그들을 위해 모든 것을 걸었다!\\n \\n위대한 어벤져스\\n운명을 바꿀 최후의 전쟁이 펼쳐진다!i'm iron-man\""
      ]
     },
     "execution_count": 59,
     "metadata": {},
     "output_type": "execute_result"
    }
   ],
   "source": [
    "with open('avengers_2.txt','r',encoding='UTF-8') as f:  #주절\n",
    "    data = f.read()\n",
    "    \n",
    "data"
   ]
  },
  {
   "cell_type": "markdown",
   "metadata": {},
   "source": [
    "#### binary 파일 I/O "
   ]
  },
  {
   "cell_type": "markdown",
   "metadata": {},
   "source": [
    "- with open('파일명',< >) as f:\n",
    "    \n",
    "    < > :안 쓰면 -> 'r'로 간주한다. ->'rt'라고 간주한다.  \n",
    "    'r' -> 'rt'라고 간주한다.  \n",
    "    'w' -> 'wt'라고 간주한다.    \n",
    "\n",
    "- 파일을 나눠서 읽고 쓰는게 중요하다!  \n",
    "\n",
    "  bufsize : 파일을 한번에 읽어들이는 단위(우리가 직접 정한다.)"
   ]
  },
  {
   "cell_type": "code",
   "execution_count": null,
   "metadata": {},
   "outputs": [],
   "source": [
    "#binary file.  외워두기.\n",
    "\n",
    "bufsize = 1024 # = 용량 1KB  /  1 = 1Byte\n",
    "\n",
    "f_r = open('The_avengers_poster-banner.jpg', 'rb')   #'r' 대신 'rb'를 쓴다.(binary의 b)\n",
    "f_w = open('image.jpg','wb')    \n",
    "\n",
    "image = f_r.read(bufsize)\n",
    "while image:\n",
    "    f_w.write(image)        \n",
    "    image = f_r.read(bufsize)\n",
    "        \n",
    "f_r.close()\n",
    "f_w.close()"
   ]
  },
  {
   "cell_type": "code",
   "execution_count": null,
   "metadata": {},
   "outputs": [],
   "source": [
    "with open('image.jpg','wb') as f:\n",
    "    f.write(image)"
   ]
  },
  {
   "cell_type": "code",
   "execution_count": null,
   "metadata": {},
   "outputs": [],
   "source": []
  },
  {
   "cell_type": "code",
   "execution_count": null,
   "metadata": {},
   "outputs": [],
   "source": []
  }
 ],
 "metadata": {
  "kernelspec": {
   "display_name": "Python 3",
   "language": "python",
   "name": "python3"
  },
  "language_info": {
   "codemirror_mode": {
    "name": "ipython",
    "version": 3
   },
   "file_extension": ".py",
   "mimetype": "text/x-python",
   "name": "python",
   "nbconvert_exporter": "python",
   "pygments_lexer": "ipython3",
   "version": "3.7.3"
  }
 },
 "nbformat": 4,
 "nbformat_minor": 2
}
