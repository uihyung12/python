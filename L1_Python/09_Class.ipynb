{
 "cells": [
  {
   "cell_type": "code",
   "execution_count": 1,
   "metadata": {},
   "outputs": [],
   "source": [
    "class Bicycle():                       # 클래스명 시작은 대문자\n",
    "    \n",
    "    def __init__(self, wheel, color):  # 초기화 함수는 인스턴스 생성과 동시에 실행(호출)됨\n",
    "        self.wheel = wheel \n",
    "        self.color = color\n",
    "        print('Bicycle call')         # 초기화 함수는 이렇게 변수에 값넣어주는 용도니까 ㅂ \n",
    "        \n",
    "    def move(self,speed):\n",
    "        print(\"시속 {}km로 이동\".format(speed))\n",
    "    \n",
    "    def turn(self, direction):\n",
    "        print(\"{} 회전\".format(direction))\n",
    "    \n",
    "    def stop(self):\n",
    "        print(\"Bicycle({},{}) 정지\".format(self.wheel, self.color))"
   ]
  },
  {
   "cell_type": "code",
   "execution_count": 2,
   "metadata": {},
   "outputs": [
    {
     "name": "stdout",
     "output_type": "stream",
     "text": [
      "Bicycle call\n",
      "시속 200km로 이동\n",
      "우 회전\n",
      "Bicycle(26,black) 정지\n"
     ]
    }
   ],
   "source": [
    "samcheonri = Bicycle(26, 'black')  # 객체 생성( self는 객체 자신이라 input인자로 치지 않음 ) \n",
    "\n",
    "samcheonri.move(200)\n",
    "samcheonri.turn('우')\n",
    "samcheonri.stop()"
   ]
  },
  {
   "cell_type": "code",
   "execution_count": 3,
   "metadata": {},
   "outputs": [
    {
     "name": "stdout",
     "output_type": "stream",
     "text": [
      "Bicycle call\n",
      "시속 300km로 이동\n",
      "left 회전\n",
      "Bicycle(30,white) 정지\n"
     ]
    }
   ],
   "source": [
    "BMW = Bicycle(30,'white')    #객체 생성 \n",
    "\n",
    "BMW.move(300)\n",
    "BMW.turn('left')\n",
    "BMW.stop()"
   ]
  },
  {
   "cell_type": "markdown",
   "metadata": {},
   "source": [
    "### 클래스 변수와 인스턴스 변수"
   ]
  },
  {
   "cell_type": "markdown",
   "metadata": {},
   "source": [
    "- 변수 (속성)  \n",
    "    1. 클래스 변수 : 클래스 안에서 모두 사용(전역변수같이) , 클래스명으로 접근\n",
    "    2. 인스턴스 변수 : 지역변수 처럼 함수 안에 있음, 셀프로 접근"
   ]
  },
  {
   "cell_type": "code",
   "execution_count": 4,
   "metadata": {},
   "outputs": [],
   "source": [
    "class Car():\n",
    "    \n",
    "    instance_count = 0\n",
    "    \n",
    "    def __init__(self, wheel, color): \n",
    "        self.wheel = wheel      # self.변수명 = 인스턴스 변수\n",
    "        self.color = color      # 인스턴스 변수\n",
    "        Car.instance_count += 1 # 클래스명. 변수명 = 클래스변수(미리 선언해야 사용가능) #만들어진 객체의 갯수\n",
    "        print('Car call')\n",
    "        print(\"현재 객체 수: {}\".format(Car.instance_count))\n",
    "        \n",
    "    def move(self,speed):\n",
    "        print(\"시속 {}km로 이동\".format(speed))\n",
    "    \n",
    "    def turn(self, direction):\n",
    "        print(\"{} 회전\".format(direction))\n",
    "    \n",
    "    def stop(self):\n",
    "        print(\"Car({},{}) 정지\".format(self.wheel, self.color))"
   ]
  },
  {
   "cell_type": "code",
   "execution_count": 5,
   "metadata": {},
   "outputs": [
    {
     "name": "stdout",
     "output_type": "stream",
     "text": [
      "Car call\n",
      "현재 객체 수: 1\n"
     ]
    }
   ],
   "source": [
    "santafe = Car(30,'white')  #객체 생성시 인자는 초기화함수에서 요구하는 인자를 넣어줘여함"
   ]
  },
  {
   "cell_type": "code",
   "execution_count": 6,
   "metadata": {},
   "outputs": [
    {
     "name": "stdout",
     "output_type": "stream",
     "text": [
      "Car call\n",
      "현재 객체 수: 2\n"
     ]
    }
   ],
   "source": [
    "spotage = Car(29, 'black')"
   ]
  },
  {
   "cell_type": "code",
   "execution_count": 7,
   "metadata": {},
   "outputs": [
    {
     "name": "stdout",
     "output_type": "stream",
     "text": [
      "Car call\n",
      "현재 객체 수: 3\n"
     ]
    }
   ],
   "source": [
    "avante = Car(27, 'red')"
   ]
  },
  {
   "cell_type": "code",
   "execution_count": 8,
   "metadata": {},
   "outputs": [
    {
     "data": {
      "text/plain": [
       "(30, 'white')"
      ]
     },
     "execution_count": 8,
     "metadata": {},
     "output_type": "execute_result"
    }
   ],
   "source": [
    "santafe.wheel, santafe.color #self.변수명 = instance.변수명 = 객체.변수명 (인스턴스 변수)"
   ]
  },
  {
   "cell_type": "code",
   "execution_count": 9,
   "metadata": {},
   "outputs": [
    {
     "data": {
      "text/plain": [
       "(29, 'black')"
      ]
     },
     "execution_count": 9,
     "metadata": {},
     "output_type": "execute_result"
    }
   ],
   "source": [
    "spotage.wheel, spotage.color"
   ]
  },
  {
   "cell_type": "code",
   "execution_count": 10,
   "metadata": {},
   "outputs": [
    {
     "data": {
      "text/plain": [
       "3"
      ]
     },
     "execution_count": 10,
     "metadata": {},
     "output_type": "execute_result"
    }
   ],
   "source": [
    "Car.instance_count #클래스명.변수명 "
   ]
  },
  {
   "cell_type": "code",
   "execution_count": 11,
   "metadata": {},
   "outputs": [
    {
     "data": {
      "text/plain": [
       "3"
      ]
     },
     "execution_count": 11,
     "metadata": {},
     "output_type": "execute_result"
    }
   ],
   "source": [
    "santafe.instance_count # 클래스 변수는 이렇게 객체마다 값이 다르지 않다(전역변수 같은 거니까), 인스턴스변수와의 차이점"
   ]
  },
  {
   "cell_type": "code",
   "execution_count": 12,
   "metadata": {},
   "outputs": [
    {
     "data": {
      "text/plain": [
       "3"
      ]
     },
     "execution_count": 12,
     "metadata": {},
     "output_type": "execute_result"
    }
   ],
   "source": [
    "spotage.instance_count "
   ]
  },
  {
   "cell_type": "markdown",
   "metadata": {},
   "source": [
    "### 함수: 인스턴스 메서드, 클래스 메서드, 스테틱 메서드"
   ]
  },
  {
   "cell_type": "markdown",
   "metadata": {},
   "source": [
    "- 함수 (행위)  \n",
    "     1.인스턴스 메서드 : 각 객체에서 개별적으로 동작하는 함수, 첫인자로 self 사용  예) 초기화 함수  \n",
    "    2. 클래스 메서드 : 클래스변수를 사용하는 함수 , 인자로class명 사용(관습적으로 cls 사용), @(데코레이터)classmethod 표시.  \n",
    "    3. 스테틱(정적) 메서드 : 클래스 밖에 있지만 메소드의 속성상 하나의 클래스 안에 묶여야 관리가 용이한 경우, 변수로 아무것도 안사용 ,@staticmethod 표시"
   ]
  },
  {
   "cell_type": "code",
   "execution_count": 13,
   "metadata": {},
   "outputs": [],
   "source": [
    "class Car():\n",
    "    \n",
    "    instance_count = 0\n",
    "    \n",
    "    def __init__(self, wheel, color): \n",
    "        self.wheel = wheel      # self.변수명 = 인스턴스 변수\n",
    "        self.color = color      # 인스턴스 변수\n",
    "        Car.instance_count += 1 # 클래스명. 변수명 = 클래스변수(미리 선언해야 사용가능) #만들어진 객체의 갯수\n",
    "        print('Car call')\n",
    "        print(\"현재 객체 수: {}\".format(Car.instance_count))\n",
    "        \n",
    "    def move(self,speed):\n",
    "        print(\"시속 {}km로 이동\".format(speed))\n",
    "    \n",
    "    def turn(self, direction):\n",
    "        print(\"{} 회전\".format(direction))\n",
    "    \n",
    "    def stop(self):\n",
    "        print(\"Car({},{}) 정지\".format(self.wheel, self.color))\n",
    "\n",
    "#def classmethod(original_method):   # original_method에 대해 뭔가를 막 해서 리턴함\n",
    "#    return original_mtehod          # 새로운 ofiginal_method가 되었음\n",
    "#count_instance = classmethod(count_instance) #새로워진 count_instance를 가짐\n",
    "\n",
    "    @classmethod    # 위의 세줄을 해주는 역할.\n",
    "    def count_instance(cls):\n",
    "       print(\"현재 객체 수: {}\".format(Car.instance_count))\n",
    "\n",
    "    @staticmethod\n",
    "    def check_type(model_code):    \n",
    "        if(model_code >=20):\n",
    "            print(\"전기차입니다.\")\n",
    "        elif(10 <= model_code <20):\n",
    "            print(\"수소차입니다.\")\n",
    "        else:\n",
    "            print(\"디젤차입니다.\")\n",
    "        \n",
    "    "
   ]
  },
  {
   "cell_type": "code",
   "execution_count": 14,
   "metadata": {},
   "outputs": [
    {
     "name": "stdout",
     "output_type": "stream",
     "text": [
      "현재 객체 수: 0\n"
     ]
    }
   ],
   "source": [
    "Car.count_instance() #인스턴스(객제)를 만들기 전에 사용할 수도 있다."
   ]
  },
  {
   "cell_type": "code",
   "execution_count": 15,
   "metadata": {},
   "outputs": [
    {
     "name": "stdout",
     "output_type": "stream",
     "text": [
      "현재 객체 수: 0\n"
     ]
    }
   ],
   "source": [
    "Car_1 = Car.count_instance() #클래스명.클래스메서드로 객체 생성을 할 수도 있다. "
   ]
  },
  {
   "cell_type": "markdown",
   "metadata": {},
   "source": [
    "- ctrl + [ : 들여쓰기 되돌릴때 \n",
    "- ctrl + ] : tab이랑 같음 (띄어쓰기 4번 하자)"
   ]
  },
  {
   "cell_type": "code",
   "execution_count": 16,
   "metadata": {},
   "outputs": [
    {
     "name": "stdout",
     "output_type": "stream",
     "text": [
      "전기차입니다.\n"
     ]
    }
   ],
   "source": [
    "Car.check_type(25) #클래스명.스태틱메서드로 사용 -> 편의상 "
   ]
  },
  {
   "cell_type": "markdown",
   "metadata": {},
   "source": [
    "### 클래스 상속"
   ]
  },
  {
   "cell_type": "markdown",
   "metadata": {},
   "source": [
    "- 게임을 만든다고 했을때, 히어로 객체도 필요, 악당 객체도 필요\n",
    "- 게임 상의 유닛: 히어로, 악당 "
   ]
  },
  {
   "cell_type": "code",
   "execution_count": 17,
   "metadata": {},
   "outputs": [],
   "source": [
    "class hero():\n",
    "    pass\n",
    "class devil():\n",
    "    pass "
   ]
  },
  {
   "cell_type": "markdown",
   "metadata": {},
   "source": [
    "- 위의 두 클래스는 분명 속성(변수)과 행위(함수)가 겹치는게 많을 것이다.  \n",
    "  \n",
    "- 하나의 부모 클래스를 만들고, 나머지 클래스는 부모 클래스로 부터 상속받도록 하자."
   ]
  },
  {
   "cell_type": "code",
   "execution_count": 18,
   "metadata": {},
   "outputs": [],
   "source": [
    "class Unit(): #부모 클래스 \n",
    "    pass\n",
    "\n",
    "class hero(): #자식1 클래스 \n",
    "    pass\n",
    "\n",
    "class devil(): #자식2 클래스 \n",
    "    pass "
   ]
  },
  {
   "cell_type": "code",
   "execution_count": 19,
   "metadata": {},
   "outputs": [],
   "source": [
    "class FoldingBicycle():                #부모 클래스\n",
    "    \n",
    "    def __init__(self, wheel, color): \n",
    "        self.wheel = wheel \n",
    "        self.color = color\n",
    "        print('Bicycle call')        \n",
    "        \n",
    "    def move(self,speed):\n",
    "        print(\"시속 {}km로 이동\".format(speed))\n",
    "    \n",
    "    def turn(self, direction):\n",
    "        print(\"{} 회전\".format(direction))\n",
    "    \n",
    "    def stop(self):\n",
    "        print(\"Bicycle({},{}) 정지\".format(self.wheel, self.color))"
   ]
  },
  {
   "cell_type": "code",
   "execution_count": 20,
   "metadata": {},
   "outputs": [],
   "source": [
    "class FoldingBicycle():                #자식클래스\n",
    "    \n",
    "    def __init__(self, wheel, color, state):\n",
    "        Bicycle.__init__(self, wheel, color) #부모클래스의  __init__ 재사용(상속)\n",
    "        #Bicycle 대신 super()을 사용할 수 있음. \n",
    "        self.state = state\n",
    "        \n",
    "    def fold(self):\n",
    "        self.state = 'folding'\n",
    "        print(\"자전거 접기\")"
   ]
  },
  {
   "cell_type": "code",
   "execution_count": 21,
   "metadata": {},
   "outputs": [
    {
     "name": "stdout",
     "output_type": "stream",
     "text": [
      "Bicycle call\n"
     ]
    }
   ],
   "source": [
    "minibelo = FoldingBicycle(14,'white','unfolding') #print 명령어는 상속받은 것"
   ]
  },
  {
   "cell_type": "code",
   "execution_count": 22,
   "metadata": {},
   "outputs": [
    {
     "data": {
      "text/plain": [
       "<__main__.FoldingBicycle at 0x5f4d9e8>"
      ]
     },
     "execution_count": 22,
     "metadata": {},
     "output_type": "execute_result"
    }
   ],
   "source": [
    "minibelo"
   ]
  },
  {
   "cell_type": "markdown",
   "metadata": {},
   "source": [
    "Q. class FoldingBicycle() 를 모듈로 만들어서 파일로 저장"
   ]
  },
  {
   "cell_type": "markdown",
   "metadata": {},
   "source": [
    "#### hero & vilian"
   ]
  },
  {
   "cell_type": "code",
   "execution_count": 23,
   "metadata": {},
   "outputs": [],
   "source": [
    "class Unit():  # ==Unit(object)임 안쓰면 자동 상속 받음. Unit도 Object에서 상속받음. (단,python v.3에서)\n",
    "    def __init__(self, ability, level):\n",
    "        self.ability = ability\n",
    "        self.level = level\n",
    "        print('unit이 생성되었습니다.')\n",
    "        \n",
    "    def show_info(self):\n",
    "        print('ability : {}'.format(self.ability))\n",
    "        print('level : {}'.format(self.level))        \n",
    "\n",
    "        # 드래그 충동들때는? 상속받자!!\n",
    "class Hero(Unit):\n",
    "    def __init__(self, ability, level, weapon):\n",
    "        super().__init__(ability, level)   #super()는 Hero(Unit)에 있는 Unit을 참조하는것 #self는 적지않음\n",
    "        self.weapon = weapon\n",
    "        \n",
    "    def show_info(self):\n",
    "        super().show_info()\n",
    "        print('weapon : {}'.format(self.weapon))\n",
    "        \n",
    "class AvengersHero(Hero): #속성 += hometowm\n",
    "    def __init__(self, ability,level, weapon, hometown):\n",
    "        super().__init__(ability,level,weapon)   #super -> Hero 라서 weapon까지 써야함! \n",
    "        self.hometown = hometown\n",
    "        \n",
    "    def show_info(self):\n",
    "        super().show_info()\n",
    "        print('hometown : {}'.format(self.hometown))"
   ]
  },
  {
   "cell_type": "code",
   "execution_count": 24,
   "metadata": {},
   "outputs": [
    {
     "name": "stdout",
     "output_type": "stream",
     "text": [
      "unit이 생성되었습니다.\n",
      "ability : money\n",
      "level : 7\n",
      "weapon : batcar\n"
     ]
    }
   ],
   "source": [
    "batman = Hero('money', 7, 'batcar')\n",
    "batman.show_info()"
   ]
  },
  {
   "cell_type": "code",
   "execution_count": 25,
   "metadata": {},
   "outputs": [
    {
     "name": "stdout",
     "output_type": "stream",
     "text": [
      "Help on Hero in module __main__ object:\n",
      "\n",
      "class Hero(Unit)\n",
      " |  Hero(ability, level, weapon)\n",
      " |  \n",
      " |  Method resolution order:\n",
      " |      Hero\n",
      " |      Unit\n",
      " |      builtins.object\n",
      " |  \n",
      " |  Methods defined here:\n",
      " |  \n",
      " |  __init__(self, ability, level, weapon)\n",
      " |      Initialize self.  See help(type(self)) for accurate signature.\n",
      " |  \n",
      " |  show_info(self)\n",
      " |  \n",
      " |  ----------------------------------------------------------------------\n",
      " |  Data descriptors inherited from Unit:\n",
      " |  \n",
      " |  __dict__\n",
      " |      dictionary for instance variables (if defined)\n",
      " |  \n",
      " |  __weakref__\n",
      " |      list of weak references to the object (if defined)\n",
      "\n"
     ]
    }
   ],
   "source": [
    "help(batman)"
   ]
  },
  {
   "cell_type": "code",
   "execution_count": 26,
   "metadata": {},
   "outputs": [
    {
     "name": "stdout",
     "output_type": "stream",
     "text": [
      "unit이 생성되었습니다.\n",
      "ability : thunder\n",
      "level : 9\n",
      "weapon : 망치\n",
      "hometown : 아스가르드\n"
     ]
    }
   ],
   "source": [
    "Thor = AvengersHero('thunder', 9,'망치', '아스가르드')\n",
    "Thor.show_info()"
   ]
  },
  {
   "cell_type": "markdown",
   "metadata": {},
   "source": [
    "- 잠시 10_Module로 가자(  모듈 검증 )"
   ]
  },
  {
   "cell_type": "code",
   "execution_count": 38,
   "metadata": {},
   "outputs": [],
   "source": [
    "import Avengers as A"
   ]
  },
  {
   "cell_type": "code",
   "execution_count": 35,
   "metadata": {},
   "outputs": [
    {
     "name": "stdout",
     "output_type": "stream",
     "text": [
      "unit이 생성되었습니다.\n"
     ]
    }
   ],
   "source": [
    "Thor = A.AvengersHero('thunder', 9,'망치','아스가르드')"
   ]
  },
  {
   "cell_type": "code",
   "execution_count": 36,
   "metadata": {},
   "outputs": [
    {
     "name": "stdout",
     "output_type": "stream",
     "text": [
      "ability : thunder\n",
      "level : 9\n",
      "weapon : 망치\n",
      "hometown : 아스가르드\n"
     ]
    }
   ],
   "source": [
    "Thor.show_info()"
   ]
  },
  {
   "cell_type": "markdown",
   "metadata": {},
   "source": [
    "- 내가 만든 모듈이 잘 작동하는지 검증하려면 매번 이렇게 임폴트 해야할까?"
   ]
  },
  {
   "cell_type": "code",
   "execution_count": 70,
   "metadata": {},
   "outputs": [
    {
     "name": "stdout",
     "output_type": "stream",
     "text": [
      "unit이 생성되었습니다.\n",
      "ability : thunder\n",
      "level : 9\n",
      "weapon : 망치\n",
      "hometown : 아스가르드\n",
      "\n",
      "AvengersHero class가 정상 작동합니다.\n",
      "\n",
      "unit이 생성되었습니다.\n",
      "ability : money\n",
      "level : 7\n",
      "weapon : batcar\n",
      "\n",
      "Hero class가 정상 작동합니다.\n"
     ]
    }
   ],
   "source": [
    "class Unit():  # ==Unit(object)임 안쓰면 자동 상속 받음. Unit도 Object에서 상속받음. (단,python v.3에서)\n",
    "    def __init__(self, ability, level):\n",
    "        self.ability = ability\n",
    "        self.level = level\n",
    "        print('unit이 생성되었습니다.')\n",
    "        \n",
    "    def show_info(self):\n",
    "        print('ability : {}'.format(self.ability))\n",
    "        print('level : {}'.format(self.level))        \n",
    "\n",
    "        # 드래그 충동들때는? 상속받자!!\n",
    "class Hero(Unit):\n",
    "    def __init__(self, ability, level, weapon):\n",
    "        super().__init__(ability, level)   #super()는 Hero(Unit)에 있는 Unit을 참조하는것 #self는 적지않음\n",
    "        self.weapon = weapon\n",
    "        \n",
    "    def show_info(self):\n",
    "        super().show_info()\n",
    "        print('weapon : {}'.format(self.weapon))\n",
    "        \n",
    "class AvengersHero(Hero): #속성 += hometowm\n",
    "    def __init__(self, ability,level, weapon, hometown):\n",
    "        super().__init__(ability,level,weapon)   #super -> Hero 라서 weapon까지 써야함! \n",
    "        self.hometown = hometown\n",
    "        \n",
    "    def show_info(self):\n",
    "        super().show_info()\n",
    "        print('hometown : {}'.format(self.hometown))\n",
    "        \n",
    "#검증 코드까지 모듈안에 작성!!\n",
    "\n",
    "Thor = AvengersHero('thunder', 9,'망치', '아스가르드')\n",
    "Thor.show_info()\n",
    "\n",
    "print('\\nAvengersHero class가 정상 작동합니다.\\n')\n",
    "\n",
    "batman = Hero('money', 7, 'batcar')\n",
    "batman.show_info()  \n",
    "\n",
    "print('\\nHero class가 정상 작동합니다.')\n",
    "    "
   ]
  },
  {
   "cell_type": "markdown",
   "metadata": {},
   "source": [
    "- 다른 파일에서 import만 해도 검증 코드가 뜨는 문제가 발생\n",
    "- 해달 파일에서 코드를 수행할때는 검증코드가 실행되고, \n",
    "- 다른 파일에서 import 할때는 검증 코드가 실행되지 않도록 만들자.\n",
    "  \n",
    "  - 검증 코드를 if문으로 묶자!"
   ]
  },
  {
   "cell_type": "code",
   "execution_count": null,
   "metadata": {},
   "outputs": [],
   "source": [
    "%%writefile C:\\\\Users\\\\student\\\\finance\\\\L1_Python\\\\MyModules\\\\Avengers.py\n",
    "    \n",
    "class Unit():  # ==Unit(object)임 안쓰면 자동 상속 받음. Unit도 Object에서 상속받음. (단,python v.3에서)\n",
    "    def __init__(self, ability, level):\n",
    "        self.ability = ability\n",
    "        self.level = level\n",
    "        print('unit이 생성되었습니다.')\n",
    "        \n",
    "    def show_info(self):\n",
    "        print('ability : {}'.format(self.ability))\n",
    "        print('level : {}'.format(self.level))        \n",
    "\n",
    "        # 드래그 충동들때는? 상속받자!!\n",
    "class Hero(Unit):\n",
    "    def __init__(self, ability, level, weapon):\n",
    "        super().__init__(ability, level)   #super()는 Hero(Unit)에 있는 Unit을 참조하는것 #self는 적지않음\n",
    "        self.weapon = weapon\n",
    "        \n",
    "    def show_info(self):\n",
    "        super().show_info()\n",
    "        print('weapon : {}'.format(self.weapon))\n",
    "        \n",
    "class AvengersHero(Hero): #속성 += hometowm\n",
    "    def __init__(self, ability,level, weapon, hometown):\n",
    "        super().__init__(ability,level,weapon)   #super -> Hero 라서 weapon까지 써야함! \n",
    "        self.hometown = hometown\n",
    "        \n",
    "    def show_info(self):\n",
    "        super().show_info()\n",
    "        print('hometown : {}'.format(self.hometown))\n",
    "\n",
    "#검증 코드까지 모듈안에 작성!!\n",
    "#(name = main 은 이 파일 자체를 실행했을때, 다른 파일에서 import 했을때는 해당 코드(검증) 실행 X \n",
    "if __name__ == '__main__': \n",
    "    Thor = AvengersHero('thunder', 9,'망치', '아스가르드')\n",
    "    Thor.show_info()\n",
    "\n",
    "    print('\\nAvengersHero class가 정상 작동합니다.\\n')\n",
    "\n",
    "    batman = Hero('money', 7, 'batcar')\n",
    "    batman.show_info()  \n",
    "\n",
    "    print('\\nHero class가 정상 작동합니다.')"
   ]
  },
  {
   "cell_type": "markdown",
   "metadata": {},
   "source": [
    "- 아래와 같이 해당 파일에서 %run으로 코드를 실행할때는 검증 코드가 실행된다.\n",
    "- 다른파일에서 import했을때는 실행 되지 않음\n",
    "  - untitle.python 만들어서하면 'import Avengers'하면 실행되지 않음"
   ]
  },
  {
   "cell_type": "code",
   "execution_count": 73,
   "metadata": {
    "scrolled": true
   },
   "outputs": [
    {
     "name": "stdout",
     "output_type": "stream",
     "text": [
      "unit이 생성되었습니다.\n",
      "ability : thunder\n",
      "level : 9\n",
      "weapon : 망치\n",
      "hometown : 아스가르드\n",
      "\n",
      "AvengersHero class가 정상 작동합니다.\n",
      "\n",
      "unit이 생성되었습니다.\n",
      "ability : money\n",
      "level : 7\n",
      "weapon : batcar\n",
      "\n",
      "Hero class가 정상 작동합니다.\n"
     ]
    }
   ],
   "source": [
    "%run C:\\\\Users\\\\student\\\\finance\\\\L1_Python\\\\MyModules\\\\Avengers.py   #import Avengers를 이 파일안에서 하는 법"
   ]
  },
  {
   "cell_type": "code",
   "execution_count": null,
   "metadata": {},
   "outputs": [],
   "source": []
  },
  {
   "cell_type": "code",
   "execution_count": null,
   "metadata": {},
   "outputs": [],
   "source": []
  }
 ],
 "metadata": {
  "kernelspec": {
   "display_name": "Python 3",
   "language": "python",
   "name": "python3"
  },
  "language_info": {
   "codemirror_mode": {
    "name": "ipython",
    "version": 3
   },
   "file_extension": ".py",
   "mimetype": "text/x-python",
   "name": "python",
   "nbconvert_exporter": "python",
   "pygments_lexer": "ipython3",
   "version": "3.7.3"
  }
 },
 "nbformat": 4,
 "nbformat_minor": 2
}
