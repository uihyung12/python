{
 "cells": [
  {
   "cell_type": "markdown",
   "metadata": {},
   "source": [
    "# Function"
   ]
  },
  {
   "cell_type": "code",
   "execution_count": 3,
   "metadata": {},
   "outputs": [],
   "source": [
    "def sample_1(): #함수 정의 ; sample_1이라는 함수\n",
    "    THI = int(input('불쾌지수:'))\n",
    "    SI = int(input('졸림지수:'))\n",
    "\n",
    "    if THI >= 5:\n",
    "        if SI >= 5:\n",
    "            print(\"Home\")\n",
    "        else:\n",
    "            print(\"DalDal\")\n",
    "    else:\n",
    "        if SI >= 5:\n",
    "            print('Sleep')\n",
    "        else:\n",
    "            print(\"study\")"
   ]
  },
  {
   "cell_type": "markdown",
   "metadata": {},
   "source": [
    "- 위의 코드를 재사용하고 싶다면?\n",
    "\n",
    "- 드래그? No! 함수! Yes!"
   ]
  },
  {
   "cell_type": "code",
   "execution_count": 4,
   "metadata": {},
   "outputs": [
    {
     "name": "stdout",
     "output_type": "stream",
     "text": [
      "불쾌지수:4\n",
      "졸림지수:5\n",
      "Sleep\n"
     ]
    }
   ],
   "source": [
    "sample_1() #함수 호출"
   ]
  },
  {
   "cell_type": "code",
   "execution_count": 6,
   "metadata": {},
   "outputs": [
    {
     "name": "stdout",
     "output_type": "stream",
     "text": [
      "\n"
     ]
    }
   ],
   "source": [
    "print() #사실 print도 함수였다."
   ]
  },
  {
   "cell_type": "markdown",
   "metadata": {},
   "source": [
    "### 함수의 종류(4종류)\n",
    "1. input x, output x\n",
    "2. input o, output x\n",
    "3. input x, output o\n",
    "4. input o, output o"
   ]
  },
  {
   "cell_type": "code",
   "execution_count": 8,
   "metadata": {},
   "outputs": [],
   "source": [
    "def sample_2(num1, num2): # 함수 안에서 사용하는 변수(지역변수)는 \"명시적\"으로 사용하자!\n",
    "    add = num1 + num2\n",
    "    print('{0} + {1} = {2}'.format(num1, num2, add))"
   ]
  },
  {
   "cell_type": "code",
   "execution_count": 9,
   "metadata": {},
   "outputs": [
    {
     "name": "stdout",
     "output_type": "stream",
     "text": [
      "1 + 2 = 3\n"
     ]
    }
   ],
   "source": [
    "a = 1 #전역변수\n",
    "b = 2\n",
    "sample_2(a, b)"
   ]
  },
  {
   "cell_type": "code",
   "execution_count": 10,
   "metadata": {},
   "outputs": [],
   "source": [
    "def sample_3():\n",
    "    name = input('너 이름이 뭐니?')\n",
    "    return name"
   ]
  },
  {
   "cell_type": "code",
   "execution_count": 12,
   "metadata": {},
   "outputs": [
    {
     "name": "stdout",
     "output_type": "stream",
     "text": [
      "너 이름이 뭐니?dino\n"
     ]
    },
    {
     "data": {
      "text/plain": [
       "'dino'"
      ]
     },
     "execution_count": 12,
     "metadata": {},
     "output_type": "execute_result"
    }
   ],
   "source": [
    "data = sample_3()\n",
    "data"
   ]
  },
  {
   "cell_type": "code",
   "execution_count": 13,
   "metadata": {},
   "outputs": [],
   "source": [
    "def sample_4(name, age):\n",
    "    data = [name, age]\n",
    "    return data"
   ]
  },
  {
   "cell_type": "code",
   "execution_count": 15,
   "metadata": {},
   "outputs": [
    {
     "name": "stdout",
     "output_type": "stream",
     "text": [
      "['dino', 29]\n"
     ]
    }
   ],
   "source": [
    "info = sample_4('dino', 29)\n",
    "\n",
    "print(info)"
   ]
  },
  {
   "cell_type": "code",
   "execution_count": null,
   "metadata": {},
   "outputs": [],
   "source": []
  }
 ],
 "metadata": {
  "kernelspec": {
   "display_name": "Python 3",
   "language": "python",
   "name": "python3"
  },
  "language_info": {
   "codemirror_mode": {
    "name": "ipython",
    "version": 3
   },
   "file_extension": ".py",
   "mimetype": "text/x-python",
   "name": "python",
   "nbconvert_exporter": "python",
   "pygments_lexer": "ipython3",
   "version": "3.7.3"
  }
 },
 "nbformat": 4,
 "nbformat_minor": 2
}
