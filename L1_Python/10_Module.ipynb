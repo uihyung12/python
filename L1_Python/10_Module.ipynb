{
 "cells": [
  {
   "cell_type": "code",
   "execution_count": 1,
   "metadata": {},
   "outputs": [
    {
     "name": "stdout",
     "output_type": "stream",
     "text": [
      "X: 5\n",
      "Y: 5\n"
     ]
    },
    {
     "data": {
      "text/plain": [
       "10"
      ]
     },
     "execution_count": 1,
     "metadata": {},
     "output_type": "execute_result"
    }
   ],
   "source": [
    "x = int(input('X: '))\n",
    "y = int(input('Y: '))\n",
    "\n",
    "add = x + y \n",
    "add "
   ]
  },
  {
   "cell_type": "code",
   "execution_count": 2,
   "metadata": {},
   "outputs": [
    {
     "name": "stdout",
     "output_type": "stream",
     "text": [
      "A: 5\n",
      "B: 5\n"
     ]
    }
   ],
   "source": [
    "a = int(input('A: '))\n",
    "b = int(input('B: '))\n",
    "\n",
    "add = a+b"
   ]
  },
  {
   "cell_type": "markdown",
   "metadata": {},
   "source": [
    "Q. var1, var2 입력받아서 더한 결과를 출력해보세요."
   ]
  },
  {
   "cell_type": "markdown",
   "metadata": {},
   "source": [
    "- (속마음) 귀찮다.\n",
    "- (결론) 함수로 만들자. "
   ]
  },
  {
   "cell_type": "code",
   "execution_count": 3,
   "metadata": {},
   "outputs": [
    {
     "name": "stdout",
     "output_type": "stream",
     "text": [
      "Overwriting calculate.py\n"
     ]
    }
   ],
   "source": [
    "%%writefile calculate.py   \n",
    "def add_1():\n",
    "    num1 = int(input('{}: '.format('num1')))\n",
    "    num2 = int(input('{}: '.format('num2')))\n",
    "\n",
    "    add = num1 + num2\n",
    "    \n",
    "    return add \n",
    "\n",
    "def sub_1():\n",
    "    num1 = int(input('{}: '.format('num1')))\n",
    "    num2 = int(input('{}: '.format('num2')))\n",
    "\n",
    "    sub = num1 - num2\n",
    "    \n",
    "    return sub\n",
    "\n",
    "def mul_1():\n",
    "    num1 = int(input('{}: '.format('num1')))\n",
    "    num2 = int(input('{}: '.format('num2')))\n",
    "\n",
    "    mul = num1*num2\n",
    "    \n",
    "    return mul \n",
    "\n",
    "def div_1():\n",
    "    num1 = int(input('{}: '.format('num1')))\n",
    "    num2 = int(input('{}: '.format('num2')))\n",
    "\n",
    "    div = num1/num2\n",
    "    \n",
    "    return div\n",
    "\n",
    "# %%writefile 모듈이름.ㅔㅛ -> 우리가 짠 함수를 모듈로 만들어서 파일처럼 관리가능\n"
   ]
  },
  {
   "cell_type": "code",
   "execution_count": 4,
   "metadata": {},
   "outputs": [
    {
     "ename": "NameError",
     "evalue": "name 'add_1' is not defined",
     "output_type": "error",
     "traceback": [
      "\u001b[1;31m---------------------------------------------------------------------------\u001b[0m",
      "\u001b[1;31mNameError\u001b[0m                                 Traceback (most recent call last)",
      "\u001b[1;32m<ipython-input-4-d38c4321af57>\u001b[0m in \u001b[0;36m<module>\u001b[1;34m\u001b[0m\n\u001b[1;32m----> 1\u001b[1;33m \u001b[0madd_1\u001b[0m\u001b[1;33m(\u001b[0m\u001b[1;33m)\u001b[0m\u001b[1;33m\u001b[0m\u001b[1;33m\u001b[0m\u001b[0m\n\u001b[0m",
      "\u001b[1;31mNameError\u001b[0m: name 'add_1' is not defined"
     ]
    }
   ],
   "source": [
    "add_1()"
   ]
  },
  {
   "cell_type": "markdown",
   "metadata": {},
   "source": [
    "Q. a,b를 곱한 결과를 뽑아보세요."
   ]
  },
  {
   "cell_type": "code",
   "execution_count": null,
   "metadata": {
    "scrolled": true
   },
   "outputs": [],
   "source": [
    "mul_1()"
   ]
  },
  {
   "cell_type": "code",
   "execution_count": null,
   "metadata": {},
   "outputs": [],
   "source": [
    "import calculate as cal\n",
    "cal.add_1()"
   ]
  },
  {
   "cell_type": "markdown",
   "metadata": {},
   "source": [
    "- 모듈은 같은 폴더 안에 있으면 그냥 import해서 사용  \n",
    "  \n",
    "  \n",
    "- 만약에, 경로가 같지 않아 import 되지 않았다면 환경변수에 포함되어 있지 않기 때문 \n",
    "- 모듈이 있는 경로를 환경변수에 추가해주면 된다."
   ]
  },
  {
   "cell_type": "code",
   "execution_count": 6,
   "metadata": {},
   "outputs": [],
   "source": [
    "import os\n",
    "import sys "
   ]
  },
  {
   "cell_type": "code",
   "execution_count": 7,
   "metadata": {},
   "outputs": [
    {
     "data": {
      "text/plain": [
       "['C:\\\\Users\\\\student\\\\finance\\\\L1_Python',\n",
       " 'C:\\\\Users\\\\student\\\\finance\\\\L1_Python\\\\MyPackages',\n",
       " 'C:\\\\Users\\\\student\\\\finance\\\\L1_Python\\\\MyModules',\n",
       " 'C:\\\\ProgramData\\\\Anaconda3\\\\envs\\\\finance\\\\python37.zip',\n",
       " 'C:\\\\ProgramData\\\\Anaconda3\\\\envs\\\\finance\\\\DLLs',\n",
       " 'C:\\\\ProgramData\\\\Anaconda3\\\\envs\\\\finance\\\\lib',\n",
       " 'C:\\\\ProgramData\\\\Anaconda3\\\\envs\\\\finance',\n",
       " '',\n",
       " 'C:\\\\ProgramData\\\\Anaconda3\\\\envs\\\\finance\\\\lib\\\\site-packages',\n",
       " 'C:\\\\ProgramData\\\\Anaconda3\\\\envs\\\\finance\\\\lib\\\\site-packages\\\\win32',\n",
       " 'C:\\\\ProgramData\\\\Anaconda3\\\\envs\\\\finance\\\\lib\\\\site-packages\\\\win32\\\\lib',\n",
       " 'C:\\\\ProgramData\\\\Anaconda3\\\\envs\\\\finance\\\\lib\\\\site-packages\\\\Pythonwin',\n",
       " 'C:\\\\ProgramData\\\\Anaconda3\\\\envs\\\\finance\\\\lib\\\\site-packages\\\\IPython\\\\extensions',\n",
       " 'C:\\\\Users\\\\student\\\\.ipython']"
      ]
     },
     "execution_count": 7,
     "metadata": {},
     "output_type": "execute_result"
    }
   ],
   "source": [
    "sys.path #현재 경로 목록들 "
   ]
  },
  {
   "cell_type": "markdown",
   "metadata": {},
   "source": [
    "- sys.path 목록에 MyModules도 추가하면 되겠군! \n",
    "- 어! sys.path가 리스트로 되어있다!\n",
    "- sys.path.append(MyModules의 (절대)경로!)"
   ]
  },
  {
   "cell_type": "markdown",
   "metadata": {},
   "source": [
    "#### 절대경로와 상대경로"
   ]
  },
  {
   "cell_type": "markdown",
   "metadata": {},
   "source": [
    "- 절대경로 : 파일 위치의 전체 주소 (C:\\Users\\student\\finance\\L1_Python\\MyModules) \n",
    "- 상대경로 : 기준점(보통 현재 파일의 위치)으로부터의 주소 "
   ]
  },
  {
   "cell_type": "code",
   "execution_count": 5,
   "metadata": {},
   "outputs": [
    {
     "ename": "NameError",
     "evalue": "name 'os' is not defined",
     "output_type": "error",
     "traceback": [
      "\u001b[1;31m---------------------------------------------------------------------------\u001b[0m",
      "\u001b[1;31mNameError\u001b[0m                                 Traceback (most recent call last)",
      "\u001b[1;32m<ipython-input-5-ce55b75e99e6>\u001b[0m in \u001b[0;36m<module>\u001b[1;34m\u001b[0m\n\u001b[1;32m----> 1\u001b[1;33m \u001b[0mos\u001b[0m\u001b[1;33m.\u001b[0m\u001b[0mgetcwd\u001b[0m\u001b[1;33m(\u001b[0m\u001b[1;33m)\u001b[0m \u001b[1;31m#현재 파일의 절대경로\u001b[0m\u001b[1;33m\u001b[0m\u001b[1;33m\u001b[0m\u001b[0m\n\u001b[0m",
      "\u001b[1;31mNameError\u001b[0m: name 'os' is not defined"
     ]
    }
   ],
   "source": [
    "os.getcwd() #현재 파일의 절대경로 "
   ]
  },
  {
   "cell_type": "markdown",
   "metadata": {},
   "source": [
    "- 아! os.getcwd() 에다가 MyModules를 더하면 되겠다. "
   ]
  },
  {
   "cell_type": "code",
   "execution_count": 8,
   "metadata": {},
   "outputs": [
    {
     "data": {
      "text/plain": [
       "str"
      ]
     },
     "execution_count": 8,
     "metadata": {},
     "output_type": "execute_result"
    }
   ],
   "source": [
    "type(os.getcwd())"
   ]
  },
  {
   "cell_type": "code",
   "execution_count": 9,
   "metadata": {},
   "outputs": [
    {
     "data": {
      "text/plain": [
       "'C:\\\\Users\\\\student\\\\finance\\\\L1_Python\\\\MyModules'"
      ]
     },
     "execution_count": 9,
     "metadata": {},
     "output_type": "execute_result"
    }
   ],
   "source": [
    "path = os.getcwd() + '\\\\' + 'MyModules'\n",
    "path  #추가해야될 경로! "
   ]
  },
  {
   "cell_type": "code",
   "execution_count": 10,
   "metadata": {},
   "outputs": [],
   "source": [
    "sys.path.append(path)"
   ]
  },
  {
   "cell_type": "code",
   "execution_count": 11,
   "metadata": {},
   "outputs": [
    {
     "data": {
      "text/plain": [
       "['C:\\\\Users\\\\student\\\\finance\\\\L1_Python',\n",
       " 'C:\\\\Users\\\\student\\\\finance\\\\L1_Python\\\\MyPackages',\n",
       " 'C:\\\\Users\\\\student\\\\finance\\\\L1_Python\\\\MyModules',\n",
       " 'C:\\\\ProgramData\\\\Anaconda3\\\\envs\\\\finance\\\\python37.zip',\n",
       " 'C:\\\\ProgramData\\\\Anaconda3\\\\envs\\\\finance\\\\DLLs',\n",
       " 'C:\\\\ProgramData\\\\Anaconda3\\\\envs\\\\finance\\\\lib',\n",
       " 'C:\\\\ProgramData\\\\Anaconda3\\\\envs\\\\finance',\n",
       " '',\n",
       " 'C:\\\\ProgramData\\\\Anaconda3\\\\envs\\\\finance\\\\lib\\\\site-packages',\n",
       " 'C:\\\\ProgramData\\\\Anaconda3\\\\envs\\\\finance\\\\lib\\\\site-packages\\\\win32',\n",
       " 'C:\\\\ProgramData\\\\Anaconda3\\\\envs\\\\finance\\\\lib\\\\site-packages\\\\win32\\\\lib',\n",
       " 'C:\\\\ProgramData\\\\Anaconda3\\\\envs\\\\finance\\\\lib\\\\site-packages\\\\Pythonwin',\n",
       " 'C:\\\\ProgramData\\\\Anaconda3\\\\envs\\\\finance\\\\lib\\\\site-packages\\\\IPython\\\\extensions',\n",
       " 'C:\\\\Users\\\\student\\\\.ipython',\n",
       " 'C:\\\\Users\\\\student\\\\finance\\\\L1_Python\\\\MyModules']"
      ]
     },
     "execution_count": 11,
     "metadata": {},
     "output_type": "execute_result"
    }
   ],
   "source": [
    "sys.path"
   ]
  },
  {
   "cell_type": "markdown",
   "metadata": {},
   "source": [
    "- Spider 프로그램- 파이썬모양 - Mymodules 파일안까지 들어가서 - 싱크로나이즈 한후 - 주피터 다시 실행! 해야함!"
   ]
  },
  {
   "cell_type": "code",
   "execution_count": 12,
   "metadata": {},
   "outputs": [
    {
     "name": "stdout",
     "output_type": "stream",
     "text": [
      "num1: 4\n",
      "num2: 5\n"
     ]
    },
    {
     "data": {
      "text/plain": [
       "9"
      ]
     },
     "execution_count": 12,
     "metadata": {},
     "output_type": "execute_result"
    }
   ],
   "source": [
    "import calculate as cal  #된당~!~!~!~!\n",
    "cal.add_1()"
   ]
  },
  {
   "cell_type": "code",
   "execution_count": 13,
   "metadata": {},
   "outputs": [
    {
     "data": {
      "text/plain": [
       "array([0, 1, 2, 3, 4, 5, 6, 7, 8, 9])"
      ]
     },
     "execution_count": 13,
     "metadata": {},
     "output_type": "execute_result"
    }
   ],
   "source": [
    "#numpy와 비교하면 모듈 임포트하고 사용하는 방법이 똑같음\n",
    "import numpy as np \n",
    "\n",
    "np.arange(10)"
   ]
  },
  {
   "cell_type": "markdown",
   "metadata": {},
   "source": [
    "- 모듈(함수들 있음) 사용하는 이유는   \n",
    "  1. 재사용    \n",
    "  2. 관리용이(협업에 좋음)"
   ]
  },
  {
   "cell_type": "markdown",
   "metadata": {},
   "source": [
    "#### 09.class ->10.Module"
   ]
  },
  {
   "cell_type": "markdown",
   "metadata": {},
   "source": [
    "모듈검증 (%run)"
   ]
  },
  {
   "cell_type": "markdown",
   "metadata": {},
   "source": [
    "- hero 유닛 모듈로 만들기"
   ]
  },
  {
   "cell_type": "markdown",
   "metadata": {},
   "source": [
    "- 모듈 만들때 \n",
    "    - 같은 폴더라면 \n",
    "      - %%writefile 파일명.py \n",
    "    - 다른 폴더라면   \n",
    "      -%%writefile  파일절대경로.py"
   ]
  },
  {
   "cell_type": "code",
   "execution_count": 14,
   "metadata": {},
   "outputs": [
    {
     "name": "stdout",
     "output_type": "stream",
     "text": [
      "Overwriting C:\\\\Users\\\\student\\\\finance\\\\L1_Python\\\\MyModules\\\\Avengers.py\n"
     ]
    }
   ],
   "source": [
    "%%writefile C:\\\\Users\\\\student\\\\finance\\\\L1_Python\\\\MyModules\\\\Avengers.py\n",
    "    \n",
    "class Unit():  # ==Unit(object)임 안쓰면 자동 상속 받음. Unit도 Object에서 상속받음. (단,python v.3에서)\n",
    "    def __init__(self, ability, level):\n",
    "        self.ability = ability\n",
    "        self.level = level\n",
    "        print('unit이 생성되었습니다.')\n",
    "        \n",
    "    def show_info(self):\n",
    "        print('ability : {}'.format(self.ability))\n",
    "        print('level : {}'.format(self.level))        \n",
    "\n",
    "        # 드래그 충동들때는? 상속받자!!\n",
    "class Hero(Unit):\n",
    "    def __init__(self, ability, level, weapon):\n",
    "        super().__init__(ability, level)   #super()는 Hero(Unit)에 있는 Unit을 참조하는것 #self는 적지않음\n",
    "        self.weapon = weapon\n",
    "        \n",
    "    def show_info(self):\n",
    "        super().show_info()\n",
    "        print('weapon : {}'.format(self.weapon))\n",
    "        \n",
    "class AvengersHero(Hero): #속성 += hometowm\n",
    "    def __init__(self, ability,level, weapon, hometown):\n",
    "        super().__init__(ability,level,weapon)   #super -> Hero 라서 weapon까지 써야함! \n",
    "        self.hometown = hometown\n",
    "        \n",
    "    def show_info(self):\n",
    "        super().show_info()\n",
    "        print('hometown : {}'.format(self.hometown))\n",
    "\n",
    "#검증 코드까지 모듈안에 작성!!\n",
    "#(name = main 은 이 파일 자체를 실행했을때, 다른 파일에서 import 했을때는 해당 코드(검증) 실행 X \n",
    "if __name__ == '__main__': \n",
    "    Thor = AvengersHero('thunder', 9,'망치', '아스가르드')\n",
    "    Thor.show_info()\n",
    "\n",
    "    print('\\nAvengersHero class가 정상 작동합니다.\\n')\n",
    "\n",
    "    batman = Hero('money', 7, 'batcar')\n",
    "    batman.show_info()  \n",
    "\n",
    "    print('\\nHero class가 정상 작동합니다.')"
   ]
  },
  {
   "cell_type": "code",
   "execution_count": 15,
   "metadata": {},
   "outputs": [],
   "source": [
    "import Avengers"
   ]
  },
  {
   "cell_type": "markdown",
   "metadata": {},
   "source": [
    "### 패키지 만들기"
   ]
  },
  {
   "cell_type": "markdown",
   "metadata": {},
   "source": [
    "#### 폴더 생성(mkdir)"
   ]
  },
  {
   "cell_type": "code",
   "execution_count": null,
   "metadata": {},
   "outputs": [],
   "source": [
    "mkdir MyPackages"
   ]
  },
  {
   "cell_type": "code",
   "execution_count": null,
   "metadata": {},
   "outputs": [],
   "source": [
    "mkdir MyPackages\\Hero\\Avengers"
   ]
  },
  {
   "cell_type": "code",
   "execution_count": 20,
   "metadata": {},
   "outputs": [
    {
     "name": "stdout",
     "output_type": "stream",
     "text": [
      "Writing MyPackages\\Hero\\Avengers\\Avengers2.py\n"
     ]
    }
   ],
   "source": [
    "%%writefile MyPackages\\Hero\\Avengers\\Avengers2.py #Avengers2 로 바꾸기!\n",
    "    \n",
    "class Unit():  # ==Unit(object)임 안쓰면 자동 상속 받음. Unit도 Object에서 상속받음. (단,python v.3에서)\n",
    "    def __init__(self, ability, level):\n",
    "        self.ability = ability\n",
    "        self.level = level\n",
    "        print('unit이 생성되었습니다.')\n",
    "        \n",
    "    def show_info(self):\n",
    "        print('ability : {}'.format(self.ability))\n",
    "        print('level : {}'.format(self.level))        \n",
    "\n",
    "        # 드래그 충동들때는? 상속받자!!\n",
    "class Hero(Unit):\n",
    "    def __init__(self, ability, level, weapon):\n",
    "        super().__init__(ability, level)   #super()는 Hero(Unit)에 있는 Unit을 참조하는것 #self는 적지않음\n",
    "        self.weapon = weapon\n",
    "        \n",
    "    def show_info(self):\n",
    "        super().show_info()\n",
    "        print('weapon : {}'.format(self.weapon))\n",
    "        \n",
    "class AvengersHero(Hero): #속성 += hometowm\n",
    "    def __init__(self, ability,level, weapon, hometown):\n",
    "        super().__init__(ability,level,weapon)   #super -> Hero 라서 weapon까지 써야함! \n",
    "        self.hometown = hometown\n",
    "        \n",
    "    def show_info(self):\n",
    "        super().show_info()\n",
    "        print('hometown : {}'.format(self.hometown))\n",
    "\n",
    "#검증 코드까지 모듈안에 작성!!\n",
    "#(name = main 은 이 파일 자체를 실행했을때, 다른 파일에서 import 했을때는 해당 코드(검증) 실행 X \n",
    "if __name__ == '__main__': \n",
    "    Thor = AvengersHero('thunder', 9,'망치', '아스가르드')\n",
    "    Thor.show_info()\n",
    "\n",
    "    print('\\nAvengersHero class가 정상 작동합니다.\\n')\n",
    "\n",
    "    batman = Hero('money', 7, 'batcar')\n",
    "    batman.show_info()  \n",
    "    print('\\nHero class가 정상 작동합니다.')"
   ]
  },
  {
   "cell_type": "code",
   "execution_count": 17,
   "metadata": {
    "scrolled": true
   },
   "outputs": [
    {
     "name": "stdout",
     "output_type": "stream",
     "text": [
      "C:\\Users\\student\\finance\\L1_Python\\MyPackages;C:\\Users\\student\\finance\\L1_Python\\MyModules\n"
     ]
    }
   ],
   "source": [
    "!echo %PYTHONPATH%"
   ]
  },
  {
   "cell_type": "code",
   "execution_count": 21,
   "metadata": {
    "scrolled": true
   },
   "outputs": [],
   "source": [
    "from Hero.Avengers import Avengers2"
   ]
  },
  {
   "cell_type": "code",
   "execution_count": 23,
   "metadata": {},
   "outputs": [
    {
     "name": "stdout",
     "output_type": "stream",
     "text": [
      "unit이 생성되었습니다.\n"
     ]
    }
   ],
   "source": [
    "iron_man = Avengers2.AvengersHero('아크로원자',9,'수트','지구')"
   ]
  },
  {
   "cell_type": "code",
   "execution_count": 24,
   "metadata": {},
   "outputs": [
    {
     "name": "stdout",
     "output_type": "stream",
     "text": [
      "ability : 아크로원자\n",
      "level : 9\n",
      "weapon : 수트\n",
      "hometown : 지구\n"
     ]
    }
   ],
   "source": [
    "iron_man.show_info()"
   ]
  },
  {
   "cell_type": "code",
   "execution_count": 25,
   "metadata": {},
   "outputs": [],
   "source": [
    "mkdir MyPackages\\Hero\\__init__.py  #초기화파일만들기(책210) => 파이썬 v.3 부터는 안해도 됨~!~!!~!~!"
   ]
  }
 ],
 "metadata": {
  "kernelspec": {
   "display_name": "Python 3",
   "language": "python",
   "name": "python3"
  },
  "language_info": {
   "codemirror_mode": {
    "name": "ipython",
    "version": 3
   },
   "file_extension": ".py",
   "mimetype": "text/x-python",
   "name": "python",
   "nbconvert_exporter": "python",
   "pygments_lexer": "ipython3",
   "version": "3.7.3"
  }
 },
 "nbformat": 4,
 "nbformat_minor": 2
}
