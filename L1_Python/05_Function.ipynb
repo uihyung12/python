{
 "cells": [
  {
   "cell_type": "markdown",
   "metadata": {},
   "source": [
    "# Function"
   ]
  },
  {
   "cell_type": "code",
   "execution_count": 2,
   "metadata": {},
   "outputs": [
    {
     "name": "stdout",
     "output_type": "stream",
     "text": [
      "불쾌지수: 6\n",
      "졸림지수: 4\n",
      "DalDal\n"
     ]
    }
   ],
   "source": [
    "THI = int(input('불쾌지수: '))\n",
    "SI = int(input('졸림지수: '))\n",
    "\n",
    "if THI >= 5:\n",
    "    if SI >= 5:\n",
    "        print(\"Home\")\n",
    "    else:\n",
    "        print(\"DalDal\")\n",
    "else:\n",
    "    if SI >=5:\n",
    "        print(\"Sleep\")\n",
    "    else:\n",
    "        print(\"Study\")"
   ]
  },
  {
   "cell_type": "markdown",
   "metadata": {},
   "source": [
    "- 위의 코드를 재사용하고 싶다면?  \n",
    "- 드래그? no! 함수? yes!"
   ]
  },
  {
   "cell_type": "code",
   "execution_count": 3,
   "metadata": {},
   "outputs": [],
   "source": [
    "def sample_1():         #함수정의: sample_1 이라는 함수 \n",
    "    THI = int(input('불쾌지수: '))\n",
    "    SI = int(input('졸림지수: '))\n",
    "\n",
    "    if THI >= 5:\n",
    "        if SI >= 5:\n",
    "            print(\"Home\")\n",
    "        else:\n",
    "            print(\"DalDal\")\n",
    "    else:\n",
    "        if SI >=5:\n",
    "            print(\"Sleep\")\n",
    "        else:\n",
    "            print(\"Study\")"
   ]
  },
  {
   "cell_type": "code",
   "execution_count": 4,
   "metadata": {},
   "outputs": [
    {
     "name": "stdout",
     "output_type": "stream",
     "text": [
      "불쾌지수: 1\n",
      "졸림지수: 5\n",
      "Sleep\n"
     ]
    }
   ],
   "source": [
    "sample_1()  #함수 호출"
   ]
  },
  {
   "cell_type": "code",
   "execution_count": null,
   "metadata": {},
   "outputs": [],
   "source": [
    "print()  #사실 print도 함수였다."
   ]
  },
  {
   "cell_type": "markdown",
   "metadata": {},
   "source": [
    "### 함수의 종류 (4종류)"
   ]
  },
  {
   "cell_type": "markdown",
   "metadata": {},
   "source": [
    "1. input x, output x : sample_1()\n",
    "2. input o, output x : sample_2(), print()\n",
    "3. input x, output o : sample_3()\n",
    "4. input o, output o : sample_4()"
   ]
  },
  {
   "cell_type": "code",
   "execution_count": 15,
   "metadata": {},
   "outputs": [],
   "source": [
    "def sample_2(num1,num2): #함수 안에서 사용하는 변수(지역변수)는 '명시적'으로 사용할 것!\n",
    "    add = num1 + num2 \n",
    "    print('{0} + {1} = {2}'.format(num1,num2,add))"
   ]
  },
  {
   "cell_type": "code",
   "execution_count": 16,
   "metadata": {},
   "outputs": [
    {
     "name": "stdout",
     "output_type": "stream",
     "text": [
      "1 + 2 = 3\n"
     ]
    }
   ],
   "source": [
    "a = 1\n",
    "b = 2\n",
    "sample_2(a,b)"
   ]
  },
  {
   "cell_type": "code",
   "execution_count": 20,
   "metadata": {},
   "outputs": [],
   "source": [
    "def sample_3():\n",
    "    name = input('너 이름이 뭐니? ')\n",
    "    return name"
   ]
  },
  {
   "cell_type": "code",
   "execution_count": 19,
   "metadata": {},
   "outputs": [
    {
     "name": "stdout",
     "output_type": "stream",
     "text": [
      "너 이름이 뭐니?dino\n"
     ]
    },
    {
     "data": {
      "text/plain": [
       "'dino'"
      ]
     },
     "execution_count": 19,
     "metadata": {},
     "output_type": "execute_result"
    }
   ],
   "source": [
    "data = sample_3()\n",
    "data"
   ]
  },
  {
   "cell_type": "code",
   "execution_count": 24,
   "metadata": {},
   "outputs": [],
   "source": [
    "def sample_4(name, age):\n",
    "    data = [name, age]\n",
    "    return data"
   ]
  },
  {
   "cell_type": "code",
   "execution_count": 25,
   "metadata": {},
   "outputs": [
    {
     "name": "stdout",
     "output_type": "stream",
     "text": [
      "['dino', '29']\n"
     ]
    }
   ],
   "source": [
    "info = sample_4('dino','29')\n",
    "\n",
    "print(info)"
   ]
  },
  {
   "cell_type": "markdown",
   "metadata": {},
   "source": [
    "### 0529"
   ]
  },
  {
   "cell_type": "markdown",
   "metadata": {},
   "source": [
    "#### lambda 함수  \n",
    "- 함수긴 함수인데 def으로 만들기엔 조촐하면 lambda 이용"
   ]
  },
  {
   "cell_type": "code",
   "execution_count": 7,
   "metadata": {},
   "outputs": [],
   "source": [
    "even = lambda x: x%2 == 0"
   ]
  },
  {
   "cell_type": "code",
   "execution_count": 8,
   "metadata": {},
   "outputs": [
    {
     "data": {
      "text/plain": [
       "False"
      ]
     },
     "execution_count": 8,
     "metadata": {},
     "output_type": "execute_result"
    }
   ],
   "source": [
    "even(3)"
   ]
  },
  {
   "cell_type": "code",
   "execution_count": 10,
   "metadata": {},
   "outputs": [],
   "source": [
    "add_10 = lambda x: x+10 "
   ]
  },
  {
   "cell_type": "code",
   "execution_count": 11,
   "metadata": {},
   "outputs": [
    {
     "data": {
      "text/plain": [
       "20"
      ]
     },
     "execution_count": 11,
     "metadata": {},
     "output_type": "execute_result"
    }
   ],
   "source": [
    "add_10(10)"
   ]
  },
  {
   "cell_type": "code",
   "execution_count": 12,
   "metadata": {},
   "outputs": [],
   "source": [
    "mul_xy = lambda x,y : x*y"
   ]
  },
  {
   "cell_type": "code",
   "execution_count": 13,
   "metadata": {},
   "outputs": [
    {
     "data": {
      "text/plain": [
       "6"
      ]
     },
     "execution_count": 13,
     "metadata": {},
     "output_type": "execute_result"
    }
   ],
   "source": [
    "mul_xy(2,3)"
   ]
  },
  {
   "cell_type": "markdown",
   "metadata": {},
   "source": [
    "Q. a,b,c를 인자로 하는 lambda함수를 만들되, (a * b)의 c 제곱을 리턴하도록 만들어보시오."
   ]
  },
  {
   "cell_type": "code",
   "execution_count": 15,
   "metadata": {},
   "outputs": [],
   "source": [
    "abc = lambda a,b,c : (a*b)**c"
   ]
  },
  {
   "cell_type": "code",
   "execution_count": 16,
   "metadata": {},
   "outputs": [
    {
     "data": {
      "text/plain": [
       "36"
      ]
     },
     "execution_count": 16,
     "metadata": {},
     "output_type": "execute_result"
    }
   ],
   "source": [
    "abc(3,2,2)"
   ]
  },
  {
   "cell_type": "markdown",
   "metadata": {},
   "source": [
    "#### 가변인자 함수 "
   ]
  },
  {
   "cell_type": "code",
   "execution_count": 20,
   "metadata": {},
   "outputs": [
    {
     "name": "stdout",
     "output_type": "stream",
     "text": [
      "dino 29 song\n"
     ]
    }
   ],
   "source": [
    "def func_1(name, age, hobby):\n",
    "    print(name, age, hobby)\n",
    "    \n",
    "func_1('dino', 29, 'song')    "
   ]
  },
  {
   "cell_type": "code",
   "execution_count": 21,
   "metadata": {},
   "outputs": [
    {
     "ename": "TypeError",
     "evalue": "func_1() missing 2 required positional arguments: 'age' and 'hobby'",
     "output_type": "error",
     "traceback": [
      "\u001b[1;31m---------------------------------------------------------------------------\u001b[0m",
      "\u001b[1;31mTypeError\u001b[0m                                 Traceback (most recent call last)",
      "\u001b[1;32m<ipython-input-21-28dbc6e120a5>\u001b[0m in \u001b[0;36m<module>\u001b[1;34m\u001b[0m\n\u001b[0;32m      1\u001b[0m \u001b[0mdata\u001b[0m \u001b[1;33m=\u001b[0m \u001b[1;33m[\u001b[0m\u001b[1;34m'dino'\u001b[0m\u001b[1;33m,\u001b[0m \u001b[1;36m29\u001b[0m\u001b[1;33m,\u001b[0m \u001b[1;34m'song'\u001b[0m\u001b[1;33m,\u001b[0m \u001b[1;34m'skydiving'\u001b[0m\u001b[1;33m]\u001b[0m\u001b[1;33m\u001b[0m\u001b[1;33m\u001b[0m\u001b[0m\n\u001b[0;32m      2\u001b[0m \u001b[1;33m\u001b[0m\u001b[0m\n\u001b[1;32m----> 3\u001b[1;33m \u001b[0mfunc_1\u001b[0m\u001b[1;33m(\u001b[0m\u001b[0mdata\u001b[0m\u001b[1;33m)\u001b[0m\u001b[1;33m\u001b[0m\u001b[1;33m\u001b[0m\u001b[0m\n\u001b[0m",
      "\u001b[1;31mTypeError\u001b[0m: func_1() missing 2 required positional arguments: 'age' and 'hobby'"
     ]
    }
   ],
   "source": [
    "data = ['dino', 29, 'song', 'skydiving']\n",
    "\n",
    "func_1(data)  #정해진 input 개수가 안맞으면 에러-> 가변인자 해결 "
   ]
  },
  {
   "cell_type": "code",
   "execution_count": 34,
   "metadata": {},
   "outputs": [
    {
     "name": "stdout",
     "output_type": "stream",
     "text": [
      "()\n",
      "('dino', 29, 'song', 'skydiving')\n"
     ]
    }
   ],
   "source": [
    "def func_1(*info):  #* 가변인자 받으려면 * 필요 (input 개수 자유로움)\n",
    "    print(info)\n",
    "    \n",
    "func_1()   \n",
    "\n",
    "data = ['dino', 29, 'song', 'skydiving']\n",
    "\n",
    "func_1(*data)  "
   ]
  },
  {
   "cell_type": "code",
   "execution_count": 25,
   "metadata": {},
   "outputs": [
    {
     "name": "stdout",
     "output_type": "stream",
     "text": [
      "('dino', 29, 'song', 'skydiving')\n",
      "dino 29 song skydiving\n"
     ]
    }
   ],
   "source": [
    "data = ['dino', 29, 'song', 'skydiving']\n",
    "\n",
    "def func_2(*data): \n",
    "    print(data)  \n",
    "    print(data[0],data[1],data[2],data[3])  # 대신 여러개를 하나로 인식하는 리스트로 들어감\n",
    "\n",
    "#이렇게 하면 덩어리 하나(list)로 받아들이는 거라 하나하나의 처리가 어려움 => 해결: dict로 선언\n",
    "\n",
    "func_2(*data)    "
   ]
  },
  {
   "cell_type": "code",
   "execution_count": 39,
   "metadata": {},
   "outputs": [
    {
     "name": "stdout",
     "output_type": "stream",
     "text": [
      "name age hobby bucket\n",
      "{'name': 'dino', 'age': 29, 'hobby': 'song', 'bucket': 'skydiving'}\n",
      "dino\n"
     ]
    }
   ],
   "source": [
    "data = {'name': 'dino', 'age':29,       \n",
    "        'hobby':'song', 'bucket':'skydiving'}\n",
    "\n",
    "def func_3(**data):     #단 dict는 key, value 있어서 ** (별 두개) 필요\n",
    "    print(*data)        #*는 key값 뽑음\n",
    "    print(data)         #dict 전체를 뽑음\n",
    "    print(data['name']) # 특정 value값 뽑으려면 key값 명시 (어쩔수없음// dict여서 인덱스 없기때문)\n",
    "    \n",
    "#추가로 dict 활용한 함수들 다 해볼 수 있음    \n",
    "#    print(data.keys())\n",
    "#    print(data.values())   \n",
    "#    print(data.items())\n",
    "\n",
    "func_3(**data)    "
   ]
  },
  {
   "cell_type": "markdown",
   "metadata": {},
   "source": [
    "\n",
    "### 내장 함수  \n",
    "- python안에서 사용할 수 있는 기본적인 함수들"
   ]
  },
  {
   "cell_type": "code",
   "execution_count": 40,
   "metadata": {},
   "outputs": [
    {
     "data": {
      "text/plain": [
       "4"
      ]
     },
     "execution_count": 40,
     "metadata": {},
     "output_type": "execute_result"
    }
   ],
   "source": [
    "a = [1,2,3,4]\n",
    "len(a)"
   ]
  },
  {
   "cell_type": "code",
   "execution_count": 41,
   "metadata": {},
   "outputs": [
    {
     "data": {
      "text/plain": [
       "10"
      ]
     },
     "execution_count": 41,
     "metadata": {},
     "output_type": "execute_result"
    }
   ],
   "source": [
    "sum(a)"
   ]
  },
  {
   "cell_type": "code",
   "execution_count": 44,
   "metadata": {},
   "outputs": [
    {
     "data": {
      "text/plain": [
       "2.5"
      ]
     },
     "execution_count": 44,
     "metadata": {},
     "output_type": "execute_result"
    }
   ],
   "source": [
    "# avg(a)  # 에러-> 내장함수 아님\n",
    "\n",
    "avg = sum(a)/len(a)\n",
    "avg"
   ]
  },
  {
   "cell_type": "code",
   "execution_count": 46,
   "metadata": {},
   "outputs": [
    {
     "data": {
      "text/plain": [
       "4"
      ]
     },
     "execution_count": 46,
     "metadata": {},
     "output_type": "execute_result"
    }
   ],
   "source": [
    "max(a)"
   ]
  },
  {
   "cell_type": "code",
   "execution_count": 47,
   "metadata": {},
   "outputs": [
    {
     "data": {
      "text/plain": [
       "1"
      ]
     },
     "execution_count": 47,
     "metadata": {},
     "output_type": "execute_result"
    }
   ],
   "source": [
    "min(a)"
   ]
  },
  {
   "cell_type": "markdown",
   "metadata": {},
   "source": [
    "#### Strip 과 Split"
   ]
  },
  {
   "cell_type": "markdown",
   "metadata": {},
   "source": [
    "- strip(): 양 옆의 \\n와 ' '를 벗겨냄(default)\n",
    "- strip('ab') : 양 옆의 ab를 벗겨냄(ab 순서 상관없음)\n",
    "- rstrip() : 오른쪽만 벗겨냄\n",
    "- lstrip() : 왼쪽만 벗겨냄\n",
    "  \n",
    "  \n",
    "  - split() : 쪼갬\n",
    "  \n",
    "  + join 함수 (리스트의 내용물을 문자열로 합침)\n",
    "  + replace 함수(가운데 있는 문자를 없애고 싶다면)"
   ]
  },
  {
   "cell_type": "code",
   "execution_count": 100,
   "metadata": {},
   "outputs": [
    {
     "name": "stdout",
     "output_type": "stream",
     "text": [
      "     \n",
      "I am iron-man\n"
     ]
    }
   ],
   "source": [
    "spo = '     \\nI am iron-man'\n",
    "print('{}'.format(spo, spo.strip()))\n"
   ]
  },
  {
   "cell_type": "code",
   "execution_count": 101,
   "metadata": {},
   "outputs": [
    {
     "name": "stdout",
     "output_type": "stream",
     "text": [
      "** ***I am iron-man*** **  ->  ***I am iron-man*** ** \n",
      "** ***I am iron-man*** **  -> I am iron-man\n",
      "** ***I am iron-man*** **  -> I am iron-man\n"
     ]
    }
   ],
   "source": [
    "spo = '** ***I am iron-man*** ** '\n",
    "\n",
    "print('{} -> {}'.format(spo, spo.strip('*'))) #중간의 *은 못없앰 (공백때문에)\n",
    "print('{} -> {}'.format(spo, spo.strip('* '))) #순서 상관 없음\n",
    "print('{} -> {}'.format(spo, spo.strip(' *'))) "
   ]
  },
  {
   "cell_type": "code",
   "execution_count": 103,
   "metadata": {
    "scrolled": true
   },
   "outputs": [
    {
     "data": {
      "text/plain": [
       "['I', 'am', 'iron-man']"
      ]
     },
     "execution_count": 103,
     "metadata": {},
     "output_type": "execute_result"
    }
   ],
   "source": [
    "spo = 'I am iron-man'\n",
    "\n",
    "spo.split() # 스페이스 기준으로 잘라냄"
   ]
  },
  {
   "cell_type": "markdown",
   "metadata": {},
   "source": [
    "Q. '***\\n hulk, thor, iron-man \\n'을  \n",
    "[hulk, thor, iron-man]으로 만들어보세요."
   ]
  },
  {
   "cell_type": "code",
   "execution_count": 141,
   "metadata": {},
   "outputs": [
    {
     "data": {
      "text/plain": [
       "('hulk, thor, iron-man', str)"
      ]
     },
     "execution_count": 141,
     "metadata": {},
     "output_type": "execute_result"
    }
   ],
   "source": [
    "data =  '***\\n hulk, thor, iron-man \\n'\n",
    "\n",
    "data = data.strip('*\\n ') # *, \\n, 공백 -> 3개 벗겨냄\n",
    "data, type(data)"
   ]
  },
  {
   "cell_type": "code",
   "execution_count": 142,
   "metadata": {},
   "outputs": [
    {
     "name": "stdout",
     "output_type": "stream",
     "text": [
      "['hulk', 'thor', 'iron-man']\n",
      "<class 'list'>\n"
     ]
    }
   ],
   "source": [
    "data =data.split(', ') # split(쪼갤 기준)\n",
    "print(data)\n",
    "print(type(data))  # split 하면 list 됨 (하나를 여러개로 쪼개서 가질려는 거니까)"
   ]
  },
  {
   "cell_type": "markdown",
   "metadata": {},
   "source": [
    "- [hulk, thor, iron-man]를 다시 하나의 문자열 'hulk, thor, iron-man'으로 바꾸고 싶다면?"
   ]
  },
  {
   "cell_type": "code",
   "execution_count": 117,
   "metadata": {},
   "outputs": [
    {
     "name": "stdout",
     "output_type": "stream",
     "text": [
      "'hulk', 'thor', 'iron-man'\n",
      "<class 'str'>\n"
     ]
    }
   ],
   "source": [
    "a =['hulk', 'thor', 'iron-man']\n",
    "a = str(a).strip(\"[]\")\n",
    "print(a)\n",
    "print(type(a))"
   ]
  },
  {
   "cell_type": "code",
   "execution_count": 143,
   "metadata": {},
   "outputs": [
    {
     "data": {
      "text/plain": [
       "'hulk,thor,iron-man'"
      ]
     },
     "execution_count": 143,
     "metadata": {},
     "output_type": "execute_result"
    }
   ],
   "source": [
    "# 더 좋은 방법 => join 함수 (리스트의 내용물을 문자열로 합침)\n",
    "\",\".join(data)  # \"구분자\".join( )"
   ]
  },
  {
   "cell_type": "markdown",
   "metadata": {},
   "source": [
    "Q. 가운데 있는 문자를 없애고 싶다면?"
   ]
  },
  {
   "cell_type": "code",
   "execution_count": 144,
   "metadata": {},
   "outputs": [
    {
     "data": {
      "text/plain": [
       "'hulk\\n, t\\nhor, iron-man'"
      ]
     },
     "execution_count": 144,
     "metadata": {},
     "output_type": "execute_result"
    }
   ],
   "source": [
    "data = '***\\n hulk\\n, t\\nhor, iron-man \\n'\n",
    "data = data.strip('*\\n ')  #실패\n",
    "data"
   ]
  },
  {
   "cell_type": "code",
   "execution_count": 145,
   "metadata": {},
   "outputs": [
    {
     "data": {
      "text/plain": [
       "'hulk, thor, iron-man'"
      ]
     },
     "execution_count": 145,
     "metadata": {},
     "output_type": "execute_result"
    }
   ],
   "source": [
    "# 해결 => replace()\n",
    "data = '***\\n hulk\\n, t\\nhor, iron-man \\n'\n",
    "data = data.strip('*\\n ')\n",
    "\n",
    "data.replace(\"\\n\", '') "
   ]
  },
  {
   "cell_type": "code",
   "execution_count": 147,
   "metadata": {},
   "outputs": [
    {
     "data": {
      "text/plain": [
       "'hulk, thor, iron-man \\n'"
      ]
     },
     "execution_count": 147,
     "metadata": {},
     "output_type": "execute_result"
    }
   ],
   "source": [
    "data = '***\\n hulk, thor, iron-man \\n'\n",
    "\n",
    "data = data.lstrip('*\\n ') #왼쪽만 사라짐\n",
    "data"
   ]
  },
  {
   "cell_type": "code",
   "execution_count": 148,
   "metadata": {},
   "outputs": [
    {
     "data": {
      "text/plain": [
       "'***\\n hulk, thor, iron-man'"
      ]
     },
     "execution_count": 148,
     "metadata": {},
     "output_type": "execute_result"
    }
   ],
   "source": [
    "data = '***\\n hulk, thor, iron-man \\n'\n",
    "\n",
    "data = data.rstrip('*\\n ')  # 오른쪽만 사라짐\n",
    "data"
   ]
  },
  {
   "cell_type": "code",
   "execution_count": 179,
   "metadata": {},
   "outputs": [
    {
     "data": {
      "text/plain": [
       "7"
      ]
     },
     "execution_count": 179,
     "metadata": {},
     "output_type": "execute_result"
    }
   ],
   "source": [
    "data = 'multicampus'\n",
    "data.find('m')  #위치를 알려줌 \n",
    "data.find('u') #중복값은 앞에위치 출력\n",
    "data.find('z') # 없는걸 물으면?\n",
    "data.find('m', 1) #"
   ]
  },
  {
   "cell_type": "code",
   "execution_count": 180,
   "metadata": {},
   "outputs": [
    {
     "data": {
      "text/plain": [
       "2"
      ]
     },
     "execution_count": 180,
     "metadata": {},
     "output_type": "execute_result"
    }
   ],
   "source": [
    "data.count('m')"
   ]
  },
  {
   "cell_type": "code",
   "execution_count": 181,
   "metadata": {},
   "outputs": [
    {
     "data": {
      "text/plain": [
       "'MULTICAMPUS'"
      ]
     },
     "execution_count": 181,
     "metadata": {},
     "output_type": "execute_result"
    }
   ],
   "source": [
    "data.upper()  #대문자로 변환"
   ]
  },
  {
   "cell_type": "code",
   "execution_count": 183,
   "metadata": {},
   "outputs": [
    {
     "data": {
      "text/plain": [
       "'multicampus'"
      ]
     },
     "execution_count": 183,
     "metadata": {},
     "output_type": "execute_result"
    }
   ],
   "source": [
    "data.lower() #데이터를 소문자로 변환"
   ]
  },
  {
   "cell_type": "code",
   "execution_count": 184,
   "metadata": {},
   "outputs": [
    {
     "data": {
      "text/plain": [
       "False"
      ]
     },
     "execution_count": 184,
     "metadata": {},
     "output_type": "execute_result"
    }
   ],
   "source": [
    "data.isupper()"
   ]
  },
  {
   "cell_type": "code",
   "execution_count": 186,
   "metadata": {},
   "outputs": [
    {
     "data": {
      "text/plain": [
       "True"
      ]
     },
     "execution_count": 186,
     "metadata": {},
     "output_type": "execute_result"
    }
   ],
   "source": [
    "data.islower() #p.176 더 있음 (코드 친것만 알아도 충분하고 필요하면 구글링)"
   ]
  },
  {
   "cell_type": "markdown",
   "metadata": {},
   "source": [
    "#### 전역변수와 지역변수  \n",
    "  \n",
    "- 전역변수 : 함수 밖의 변수\n",
    "- 지역변수 : 함수 안의 변수 \n",
    "  \n",
    "  둘의 차이는 변수의 유효범위!!\n",
    "  \n",
    "  +Python에서 변수는 세가지 (LG Bulit in -> 로컬, 글로벌, 내장변수// 중복시 우선순위도 그러함) "
   ]
  },
  {
   "cell_type": "code",
   "execution_count": 167,
   "metadata": {},
   "outputs": [],
   "source": [
    "a, b = 5, 10\n",
    "def f_1():\n",
    "    a = 100\n",
    "    print(a)  #100= 지역변수 a \n",
    "    print(b)\n",
    "\n",
    "def f_2():\n",
    "    global a  # 전역변수로 쓰고 싶으면 \n",
    "    a =10      # 전역변수 a 가 변하는 것\n",
    "    print(a)  "
   ]
  },
  {
   "cell_type": "code",
   "execution_count": 164,
   "metadata": {},
   "outputs": [
    {
     "name": "stdout",
     "output_type": "stream",
     "text": [
      "100\n",
      "10\n"
     ]
    }
   ],
   "source": [
    "f_1()"
   ]
  },
  {
   "cell_type": "code",
   "execution_count": 168,
   "metadata": {},
   "outputs": [
    {
     "name": "stdout",
     "output_type": "stream",
     "text": [
      "10\n"
     ]
    }
   ],
   "source": [
    "f_2()"
   ]
  },
  {
   "cell_type": "code",
   "execution_count": 169,
   "metadata": {},
   "outputs": [
    {
     "name": "stdout",
     "output_type": "stream",
     "text": [
      "10\n"
     ]
    }
   ],
   "source": [
    "print(a)  #f_2를 호출한 다음이기 때문에, a =10으로 업데이트 "
   ]
  },
  {
   "cell_type": "code",
   "execution_count": null,
   "metadata": {},
   "outputs": [],
   "source": []
  }
 ],
 "metadata": {
  "kernelspec": {
   "display_name": "Python 3",
   "language": "python",
   "name": "python3"
  },
  "language_info": {
   "codemirror_mode": {
    "name": "ipython",
    "version": 3
   },
   "file_extension": ".py",
   "mimetype": "text/x-python",
   "name": "python",
   "nbconvert_exporter": "python",
   "pygments_lexer": "ipython3",
   "version": "3.7.3"
  }
 },
 "nbformat": 4,
 "nbformat_minor": 2
}
