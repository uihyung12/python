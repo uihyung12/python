{
 "cells": [
  {
   "cell_type": "markdown",
   "metadata": {},
   "source": [
    "### Screen-output (화면출력) "
   ]
  },
  {
   "cell_type": "code",
   "execution_count": 1,
   "metadata": {},
   "outputs": [
    {
     "name": "stdout",
     "output_type": "stream",
     "text": [
      "1\n"
     ]
    }
   ],
   "source": [
    "print(1)"
   ]
  },
  {
   "cell_type": "markdown",
   "metadata": {},
   "source": [
    "Q.  \n",
    "1. print함수 1개를 이용해서, 'hello, multicampus'를 3개를 출력하되, 세줄에 걸쳐 출력해보세요.  \n",
    "2. print함수 3개를 이용해서 'hello, ardino'를 3개를 출력하되, 한줄에 출력해보세요.\n",
    "\n",
    "단, 'campus\\n', for문, while문 사용 금지( hint: shift + tab )"
   ]
  },
  {
   "cell_type": "code",
   "execution_count": 3,
   "metadata": {},
   "outputs": [
    {
     "name": "stdout",
     "output_type": "stream",
     "text": [
      "hello, multicampus!!!!\n",
      "hello, multicampus!!!!\n",
      "hello, multicampus\n"
     ]
    }
   ],
   "source": [
    "#1\n",
    "print('hello, multicampus','hello, multicampus',\n",
    "      'hello, multicampus', sep='!!!!\\n')  # sep: 여러개 출력할때 구분자\n"
   ]
  },
  {
   "cell_type": "code",
   "execution_count": 27,
   "metadata": {},
   "outputs": [
    {
     "name": "stdout",
     "output_type": "stream",
     "text": [
      "hello, ardino hello, ardino hello, ardino "
     ]
    }
   ],
   "source": [
    "#2\n",
    "print('hello, ardino', end=\" \")\n",
    "print('hello, ardino', end=\" \")\n",
    "print('hello, ardino', end=\" \")"
   ]
  },
  {
   "cell_type": "markdown",
   "metadata": {},
   "source": [
    "- '\\n' 문자열 안에 \\n쓰면 출력이 안되고 출바꿈됨\n",
    "- \\n 출력하고 싶으면 ''\\\\n'\n",
    "- 함수에 커서놓고 [Shift]+[Tab] 치면 설명 나옴"
   ]
  },
  {
   "cell_type": "markdown",
   "metadata": {},
   "source": [
    "### format (형식 지정 출력)"
   ]
  },
  {
   "cell_type": "code",
   "execution_count": 36,
   "metadata": {},
   "outputs": [
    {
     "name": "stdout",
     "output_type": "stream",
     "text": [
      "hello multicampus\n",
      "hellomulticampus\n"
     ]
    }
   ],
   "source": [
    "print(\"hello\",'multicampus')\n",
    "print(\"hello\"+'multicampus') #되기는 하지만 좋은코드는 아님(지양)"
   ]
  },
  {
   "cell_type": "code",
   "execution_count": 37,
   "metadata": {},
   "outputs": [
    {
     "name": "stdout",
     "output_type": "stream",
     "text": [
      "hello\n"
     ]
    }
   ],
   "source": [
    "print(\"{}\".format(\"hello\")) \n",
    "#{<data>}.format('data') => data'가 {}로 들어옴"
   ]
  },
  {
   "cell_type": "code",
   "execution_count": null,
   "metadata": {},
   "outputs": [],
   "source": [
    "print(\"{}{}\".format('hello', 'multicampus')) \n",
    "#{<data1>}{<data2>}.format('data1','data2')"
   ]
  },
  {
   "cell_type": "code",
   "execution_count": 41,
   "metadata": {},
   "outputs": [
    {
     "name": "stdout",
     "output_type": "stream",
     "text": [
      "multicampushello\n"
     ]
    }
   ],
   "source": [
    "print(\"{1}{0}\".format('hello','multicampus'))\n",
    "#순서 지정"
   ]
  },
  {
   "cell_type": "code",
   "execution_count": 42,
   "metadata": {},
   "outputs": [
    {
     "name": "stdout",
     "output_type": "stream",
     "text": [
      "multicampushello~!!\n"
     ]
    }
   ],
   "source": [
    "print(\"{1}{0}~!!\".format('hello','multicampus'))\n",
    "#표현의 자유"
   ]
  },
  {
   "cell_type": "code",
   "execution_count": 52,
   "metadata": {
    "scrolled": false
   },
   "outputs": [
    {
     "name": "stdout",
     "output_type": "stream",
     "text": [
      "00\n",
      "01\n",
      "02\n",
      "03\n",
      "04\n",
      "05\n",
      "06\n",
      "07\n",
      "08\n",
      "09\n",
      "10\n",
      "11\n",
      "12\n",
      "13\n",
      "14\n"
     ]
    }
   ],
   "source": [
    "data = [i for i in range(15)]\n",
    "for d in data: \n",
    "    print('{:02}'.format(d)) \n",
    "# :2 의미 ->두자리로 정렬(자릿수) \n",
    "# :02 -> 앞에 0붙이면 0으로 채워라 \n",
    "# :013 해봐라 "
   ]
  },
  {
   "cell_type": "raw",
   "metadata": {},
   "source": [
    "Q.  \n",
    "1 2 3 4 ... 10\n",
    "11 12 13 14 ,,, 20\n",
    "...\n",
    "...\n",
    "91 92 ... 100 \n",
    "을 출력하되 보기 좋게 자리수를 맞춰서 출력해 보세요."
   ]
  },
  {
   "cell_type": "code",
   "execution_count": 61,
   "metadata": {},
   "outputs": [
    {
     "name": "stdout",
     "output_type": "stream",
     "text": [
      "001 002 003 004 005 006 007 008 009 010 \n",
      "011 012 013 014 015 016 017 018 019 020 \n",
      "021 022 023 024 025 026 027 028 029 030 \n",
      "031 032 033 034 035 036 037 038 039 040 \n",
      "041 042 043 044 045 046 047 048 049 050 \n",
      "051 052 053 054 055 056 057 058 059 060 \n",
      "061 062 063 064 065 066 067 068 069 070 \n",
      "071 072 073 074 075 076 077 078 079 080 \n",
      "081 082 083 084 085 086 087 088 089 090 \n",
      "091 092 093 094 095 096 097 098 099 100 \n"
     ]
    }
   ],
   "source": [
    "for i in range(1,101):\n",
    "    print('{:03}'.format(i), end=' ')\n",
    "    if i %10 == 0:\n",
    "        print()"
   ]
  },
  {
   "cell_type": "code",
   "execution_count": 67,
   "metadata": {},
   "outputs": [
    {
     "name": "stdout",
     "output_type": "stream",
     "text": [
      "4.456\n"
     ]
    }
   ],
   "source": [
    "number = 4.45631325\n",
    "print('{:.4}'.format(number)) #소숫점밑 => .4 =>점 밑 3까지"
   ]
  },
  {
   "cell_type": "code",
   "execution_count": 104,
   "metadata": {
    "scrolled": true
   },
   "outputs": [
    {
     "name": "stdout",
     "output_type": "stream",
     "text": [
      "[0.2, 1.001, 2.45645657, 3.46, 4.789, 5.9999779, 6.45, 7.00008, 8.47, 9.654]\n",
      "0.20\n",
      "1.00\n",
      "2.46\n",
      "3.46\n",
      "4.79\n",
      "6.00\n",
      "6.45\n",
      "7.00\n",
      "8.47\n",
      "9.65\n"
     ]
    }
   ],
   "source": [
    "#실수 10개로 이루어진 리스트 \n",
    "data = [0.2, 1.001, 2.45645657, 3.46, 4.789, 5.9999779, 6.45, 7.00008, 8.47, 9.654]\n",
    "print(data)\n",
    "for i in data:\n",
    "    print('{:.2f}'.format(i)) #float(round: 반올림 적용) #p.102(표 6-1)"
   ]
  },
  {
   "cell_type": "markdown",
   "metadata": {},
   "source": [
    "#### keyboard input"
   ]
  },
  {
   "cell_type": "code",
   "execution_count": 105,
   "metadata": {},
   "outputs": [
    {
     "name": "stdout",
     "output_type": "stream",
     "text": [
      "달달쓰?\n"
     ]
    }
   ],
   "source": [
    "THI = 7 #0~10\n",
    "\n",
    "if THI >= 5:\n",
    "    print(\"달달쓰?\")"
   ]
  },
  {
   "cell_type": "code",
   "execution_count": 1,
   "metadata": {
    "scrolled": true
   },
   "outputs": [
    {
     "name": "stdout",
     "output_type": "stream",
     "text": [
      "당신의 불쾌지수는? 1\n",
      "<class 'int'>\n"
     ]
    }
   ],
   "source": [
    "THI = int(input(\"당신의 불쾌지수는? \"))\n",
    "print(type(THI))\n",
    "\n",
    "if THI >= 5: # str과 int는 대소비교 불가=>형변환(1줄에서 감싸자!)\n",
    "    print(THI, \"달달쓰?\")"
   ]
  },
  {
   "cell_type": "code",
   "execution_count": null,
   "metadata": {
    "scrolled": true
   },
   "outputs": [],
   "source": [
    "data =['이름', '성별','별명','연락처'] \n",
    "\n",
    "inform = [] #empty list \n",
    "\n",
    "for i in data:\n",
    "    info = input(\"너 {}이/가 뭐니? \".format(i))\n",
    "    inform.append(info)\n",
    "    print(\"네 {}은/는 {}입니다.\".format(i,info)) #format(,) 쓸수있음\n",
    "print(inform)    "
   ]
  },
  {
   "cell_type": "markdown",
   "metadata": {},
   "source": [
    "### file I/O(파일 입출력)"
   ]
  },
  {
   "cell_type": "code",
   "execution_count": 131,
   "metadata": {},
   "outputs": [
    {
     "name": "stdout",
     "output_type": "stream",
     "text": [
      "가장 보고싶은 영화는 무엇인가요? 기생충\n"
     ]
    },
    {
     "data": {
      "text/plain": [
       "'기생충'"
      ]
     },
     "execution_count": 131,
     "metadata": {},
     "output_type": "execute_result"
    }
   ],
   "source": [
    "data = input(\"가장 보고싶은 영화는 무엇인가요? \")\n",
    "data"
   ]
  },
  {
   "cell_type": "code",
   "execution_count": 133,
   "metadata": {},
   "outputs": [],
   "source": [
    "f = open(\"movie.txt\", 'w',encoding='UTF-8')  #읽기('r') or 쓰기('w')\n",
    "f.write(data)\n",
    "f.close()  #오픈과 클로즈 문법 차이 있음\n",
    "\n",
    "# encoding 해야 메모장 열었을때 한글 나옴\n",
    "# \"movie.txt\"라는 걸 만들어서 'w'쓰겠다"
   ]
  },
  {
   "cell_type": "code",
   "execution_count": 136,
   "metadata": {
    "scrolled": true
   },
   "outputs": [
    {
     "data": {
      "text/plain": [
       "'기생충'"
      ]
     },
     "execution_count": 136,
     "metadata": {},
     "output_type": "execute_result"
    }
   ],
   "source": [
    "f= open(\"movie.txt\", 'r', encoding='UTF-8') #읽기버전으로 열어서\n",
    "movie = f.read()  #읽고 movie에 넣겠다\n",
    "f.close()  #닫아\n",
    "\n",
    "movie  #movie 읽어\n",
    "# \"movie.txt\" 이미 있는걸  'r' 읽겠다."
   ]
  },
  {
   "cell_type": "code",
   "execution_count": 137,
   "metadata": {},
   "outputs": [
    {
     "data": {
      "text/plain": [
       "['Avengers', 'man-in-black']"
      ]
     },
     "execution_count": 137,
     "metadata": {},
     "output_type": "execute_result"
    }
   ],
   "source": [
    "movie_favorite = ['Avengers']\n",
    "\n",
    "#자동완성기능 => 한두글자 치고 tab ★편리\n",
    "movie_favorite.append('man-in-black')\n",
    "\n",
    "movie_favorite"
   ]
  },
  {
   "cell_type": "code",
   "execution_count": 3,
   "metadata": {
    "scrolled": true
   },
   "outputs": [
    {
     "ename": "UnicodeDecodeError",
     "evalue": "'utf-8' codec can't decode byte 0xbe in position 0: invalid start byte",
     "output_type": "error",
     "traceback": [
      "\u001b[1;31m---------------------------------------------------------------------------\u001b[0m",
      "\u001b[1;31mUnicodeDecodeError\u001b[0m                        Traceback (most recent call last)",
      "\u001b[1;32m<ipython-input-3-0a2a6959d480>\u001b[0m in \u001b[0;36m<module>\u001b[1;34m\u001b[0m\n\u001b[0;32m      1\u001b[0m \u001b[1;31m# 먼저  Avengers.txt 업로드 시키고 실행\u001b[0m\u001b[1;33m\u001b[0m\u001b[1;33m\u001b[0m\u001b[1;33m\u001b[0m\u001b[0m\n\u001b[0;32m      2\u001b[0m \u001b[0mf\u001b[0m \u001b[1;33m=\u001b[0m \u001b[0mopen\u001b[0m\u001b[1;33m(\u001b[0m\u001b[1;34m'avengers.txt'\u001b[0m\u001b[1;33m,\u001b[0m \u001b[1;34m'r'\u001b[0m\u001b[1;33m,\u001b[0m\u001b[0mencoding\u001b[0m\u001b[1;33m=\u001b[0m\u001b[1;34m'UTF-8'\u001b[0m\u001b[1;33m)\u001b[0m\u001b[1;33m\u001b[0m\u001b[1;33m\u001b[0m\u001b[0m\n\u001b[1;32m----> 3\u001b[1;33m \u001b[0mavengers\u001b[0m \u001b[1;33m=\u001b[0m \u001b[0mf\u001b[0m\u001b[1;33m.\u001b[0m\u001b[0mread\u001b[0m\u001b[1;33m(\u001b[0m\u001b[1;33m)\u001b[0m\u001b[1;33m\u001b[0m\u001b[1;33m\u001b[0m\u001b[0m\n\u001b[0m\u001b[0;32m      4\u001b[0m \u001b[0mf\u001b[0m\u001b[1;33m.\u001b[0m\u001b[0mclose\u001b[0m\u001b[1;33m(\u001b[0m\u001b[1;33m)\u001b[0m\u001b[1;33m\u001b[0m\u001b[1;33m\u001b[0m\u001b[0m\n\u001b[0;32m      5\u001b[0m \u001b[1;33m\u001b[0m\u001b[0m\n",
      "\u001b[1;32mC:\\ProgramData\\Anaconda3\\envs\\finance\\lib\\codecs.py\u001b[0m in \u001b[0;36mdecode\u001b[1;34m(self, input, final)\u001b[0m\n\u001b[0;32m    320\u001b[0m         \u001b[1;31m# decode input (taking the buffer into account)\u001b[0m\u001b[1;33m\u001b[0m\u001b[1;33m\u001b[0m\u001b[1;33m\u001b[0m\u001b[0m\n\u001b[0;32m    321\u001b[0m         \u001b[0mdata\u001b[0m \u001b[1;33m=\u001b[0m \u001b[0mself\u001b[0m\u001b[1;33m.\u001b[0m\u001b[0mbuffer\u001b[0m \u001b[1;33m+\u001b[0m \u001b[0minput\u001b[0m\u001b[1;33m\u001b[0m\u001b[1;33m\u001b[0m\u001b[0m\n\u001b[1;32m--> 322\u001b[1;33m         \u001b[1;33m(\u001b[0m\u001b[0mresult\u001b[0m\u001b[1;33m,\u001b[0m \u001b[0mconsumed\u001b[0m\u001b[1;33m)\u001b[0m \u001b[1;33m=\u001b[0m \u001b[0mself\u001b[0m\u001b[1;33m.\u001b[0m\u001b[0m_buffer_decode\u001b[0m\u001b[1;33m(\u001b[0m\u001b[0mdata\u001b[0m\u001b[1;33m,\u001b[0m \u001b[0mself\u001b[0m\u001b[1;33m.\u001b[0m\u001b[0merrors\u001b[0m\u001b[1;33m,\u001b[0m \u001b[0mfinal\u001b[0m\u001b[1;33m)\u001b[0m\u001b[1;33m\u001b[0m\u001b[1;33m\u001b[0m\u001b[0m\n\u001b[0m\u001b[0;32m    323\u001b[0m         \u001b[1;31m# keep undecoded input until the next call\u001b[0m\u001b[1;33m\u001b[0m\u001b[1;33m\u001b[0m\u001b[1;33m\u001b[0m\u001b[0m\n\u001b[0;32m    324\u001b[0m         \u001b[0mself\u001b[0m\u001b[1;33m.\u001b[0m\u001b[0mbuffer\u001b[0m \u001b[1;33m=\u001b[0m \u001b[0mdata\u001b[0m\u001b[1;33m[\u001b[0m\u001b[0mconsumed\u001b[0m\u001b[1;33m:\u001b[0m\u001b[1;33m]\u001b[0m\u001b[1;33m\u001b[0m\u001b[1;33m\u001b[0m\u001b[0m\n",
      "\u001b[1;31mUnicodeDecodeError\u001b[0m: 'utf-8' codec can't decode byte 0xbe in position 0: invalid start byte"
     ]
    }
   ],
   "source": [
    "# 먼저  Avengers.txt 업로드 시키고 실행\n",
    "f = open('avengers.txt', 'r',encoding='UTF-8')\n",
    "avengers = f.read()\n",
    "f.close()\n",
    "\n",
    "print(avengers) "
   ]
  },
  {
   "cell_type": "markdown",
   "metadata": {},
   "source": [
    "Q. 맨 윗줄 '제목'만 읽고 싶다면?"
   ]
  },
  {
   "cell_type": "code",
   "execution_count": 139,
   "metadata": {},
   "outputs": [
    {
     "name": "stdout",
     "output_type": "stream",
     "text": [
      "어벤저스 앤드게임\n",
      "\n"
     ]
    }
   ],
   "source": [
    "f = open('avengers.txt', 'r')\n",
    "avengers = f.readline()  #readline 은 한 줄만 가져옴\n",
    "f.close()\n",
    "\n",
    "print(avengers)"
   ]
  },
  {
   "cell_type": "markdown",
   "metadata": {},
   "source": [
    "Q. 한줄 한줄 따로따로 계속 읽어들이고 싶다면?"
   ]
  },
  {
   "cell_type": "code",
   "execution_count": 140,
   "metadata": {
    "scrolled": false
   },
   "outputs": [
    {
     "name": "stdout",
     "output_type": "stream",
     "text": [
      "어벤저스 앤드게임\n",
      "\n",
      "줄거리\n",
      "\n",
      "인피니티 워 이후 절반만 살아남은 지구\n",
      "\n",
      " 마지막 희망이 된 어벤져스\n",
      "\n",
      " 먼저 떠난 그들을 위해 모든 것을 걸었다!\n",
      "\n"
     ]
    }
   ],
   "source": [
    "f = open('avengers.txt', 'r')\n",
    "avengers = f.readline()  #한줄\n",
    "print(avengers)\n",
    "avengers = f.readline()  #한줄\n",
    "print(avengers)\n",
    "avengers = f.readline()  #한줄\n",
    "print(avengers)\n",
    "avengers = f.readline()  #한줄\n",
    "print(avengers)\n",
    "avengers = f.readline()  #한줄\n",
    "print(avengers)\n",
    "\n",
    "\n",
    "f.close()"
   ]
  },
  {
   "cell_type": "code",
   "execution_count": 142,
   "metadata": {
    "scrolled": true
   },
   "outputs": [
    {
     "name": "stdout",
     "output_type": "stream",
     "text": [
      "어벤저스 앤드게임\n",
      "\n",
      "줄거리\n",
      "\n",
      "인피니티 워 이후 절반만 살아남은 지구\n",
      "\n",
      " 마지막 희망이 된 어벤져스\n",
      "\n",
      " 먼저 떠난 그들을 위해 모든 것을 걸었다!\n",
      "\n",
      " \n",
      "\n",
      " 위대한 어벤져스\n",
      "\n",
      " 운명을 바꿀 최후의 전쟁이 펼쳐진다!\n"
     ]
    }
   ],
   "source": [
    "f = open('avengers.txt', 'r')\n",
    "\n",
    "for i in range(8):    #총 몇줄인지 (range 범위) 알아야 하는 단점 있음\n",
    "    avengers = f.readline() #avengers가 덮어쓰기 되면서 update되는 문제\n",
    "    print(avengers)\n",
    "f.close()    "
   ]
  },
  {
   "cell_type": "code",
   "execution_count": 177,
   "metadata": {},
   "outputs": [
    {
     "name": "stdout",
     "output_type": "stream",
     "text": [
      "['어벤저스 앤드게임\\n', '줄거리\\n', '인피니티 워 이후 절반만 살아남은 지구\\n', ' 마지막 희망이 된 어벤져스\\n', ' 먼저 떠난 그들을 위해 모든 것을 걸었다!\\n', ' \\n', ' 위대한 어벤져스\\n', ' 운명을 바꿀 최후의 전쟁이 펼쳐진다!']\n"
     ]
    }
   ],
   "source": [
    "f = open('avengers.txt', 'r')\n",
    "\n",
    "avengers = []\n",
    "for i in range(8):\n",
    "    avenger = f.readline() \n",
    "    avengers.append(avenger)\n",
    "print(avengers)\n",
    "f.close()    "
   ]
  },
  {
   "cell_type": "code",
   "execution_count": 163,
   "metadata": {},
   "outputs": [
    {
     "name": "stdout",
     "output_type": "stream",
     "text": [
      "['어벤저스 앤드게임\\n', '줄거리\\n', '인피니티 워 이후 절반만 살아남은 지구\\n', ' 마지막 희망이 된 어벤져스\\n', ' 먼저 떠난 그들을 위해 모든 것을 걸었다!\\n', ' \\n', ' 위대한 어벤져스\\n', ' 운명을 바꿀 최후의 전쟁이 펼쳐진다!'] <class 'list'>\n"
     ]
    }
   ],
   "source": [
    "#더 간단한 방법! readlines 함수! \n",
    "f = open('avengers.txt', 'r')\n",
    "\n",
    "avenger = f.readlines()  #한줄씩 전부다 => readlines 함수 \n",
    "print(avengers, type(avengers)) # list 형식으로 한줄씩 가져온 것\n",
    "\n",
    "f.close()    "
   ]
  },
  {
   "cell_type": "markdown",
   "metadata": {},
   "source": [
    "- avengers.txt 파일의 복사본 avengers_2.txt를 만들고 싶다면?\n"
   ]
  },
  {
   "cell_type": "code",
   "execution_count": 148,
   "metadata": {},
   "outputs": [],
   "source": [
    "f2 = open('avengers_2.txt', 'w', encoding='UTF-8')\n",
    "\n",
    "f2.writelines(avengers) #그냥 write이라고 하면 안됨. 한줄한줄 쓰도록 해야함 =>  writelines\n",
    "f2.close()"
   ]
  },
  {
   "cell_type": "markdown",
   "metadata": {},
   "source": [
    "Q. avengers_3.txt 를 만들되, 단순히 복사본이 아니라, 결말을 스포하는 내용을 추가해서 저장해보세요."
   ]
  },
  {
   "cell_type": "code",
   "execution_count": 178,
   "metadata": {
    "scrolled": true
   },
   "outputs": [
    {
     "data": {
      "text/plain": [
       "(['어벤저스 앤드게임\\n',\n",
       "  '줄거리\\n',\n",
       "  '인피니티 워 이후 절반만 살아남은 지구\\n',\n",
       "  ' 마지막 희망이 된 어벤져스\\n',\n",
       "  ' 먼저 떠난 그들을 위해 모든 것을 걸었다!\\n',\n",
       "  ' \\n',\n",
       "  ' 위대한 어벤져스\\n',\n",
       "  ' 운명을 바꿀 최후의 전쟁이 펼쳐진다!',\n",
       "  \"\\nI'm iron-man\"],\n",
       " list)"
      ]
     },
     "execution_count": 178,
     "metadata": {},
     "output_type": "execute_result"
    }
   ],
   "source": [
    "final_story = \"\\nI'm iron-man\" \n",
    "\n",
    "f3 = open('avengers_3.txt', 'w', encoding='UTF-8')\n",
    "avengers.append(final_story)\n",
    "f3.writelines(avengers)\n",
    "f3.close()\n",
    "\n",
    "avengers , type(avengers)"
   ]
  },
  {
   "cell_type": "markdown",
   "metadata": {},
   "source": [
    "#### with~ as 용법 : open과 close를 한번에  "
   ]
  },
  {
   "cell_type": "code",
   "execution_count": 182,
   "metadata": {},
   "outputs": [
    {
     "data": {
      "text/plain": [
       "'어벤저스 앤드게임\\n줄거리\\n인피니티 워 이후 절반만 살아남은 지구\\n 마지막 희망이 된 어벤져스\\n 먼저 떠난 그들을 위해 모든 것을 걸었다!\\n \\n 위대한 어벤져스\\n 운명을 바꿀 최후의 전쟁이 펼쳐진다!'"
      ]
     },
     "execution_count": 182,
     "metadata": {},
     "output_type": "execute_result"
    }
   ],
   "source": [
    "#open & close와 비교\n",
    "f = open('avengers_2.txt', 'r', encoding='UTF-8')\n",
    "new_data = f.read()\n",
    "f.close()\n",
    "new_data"
   ]
  },
  {
   "cell_type": "code",
   "execution_count": 186,
   "metadata": {},
   "outputs": [
    {
     "data": {
      "text/plain": [
       "'어벤저스 앤드게임\\n줄거리\\n인피니티 워 이후 절반만 살아남은 지구\\n 마지막 희망이 된 어벤져스\\n 먼저 떠난 그들을 위해 모든 것을 걸었다!\\n \\n 위대한 어벤져스\\n 운명을 바꿀 최후의 전쟁이 펼쳐진다!'"
      ]
     },
     "execution_count": 186,
     "metadata": {},
     "output_type": "execute_result"
    }
   ],
   "source": [
    "#with- as 용법 : 주절- 종속절     ★많이 쓰임 \n",
    "\n",
    "with open('avengers_2.txt', 'r', encoding='UTF-8') as f:   #주절 \n",
    "    new_data = f.read()\n",
    "new_data    "
   ]
  },
  {
   "cell_type": "markdown",
   "metadata": {},
   "source": [
    "- read , readlines\n",
    "- write, writelines"
   ]
  },
  {
   "cell_type": "markdown",
   "metadata": {},
   "source": [
    "#### binary 파일 I/O"
   ]
  },
  {
   "cell_type": "markdown",
   "metadata": {},
   "source": [
    "- with open('파일명',< >) as f:  \n",
    "\n",
    "  < > : 안쓰면 -> 'r'로 간주한다. => 'rt'라고 간주한다.  \n",
    "  'r' -> 'rt'라고 간주한다.  \n",
    "  'w' -> 'wt'라고 간주한다.   \n",
    "    \n",
    "- 파일을 나눠서 읽고 쓰는게 중요하다!  \n",
    "\n",
    "  bufsize : 파일을 한번에 읽어들이는 단위 (우리가 직접 정한다.)"
   ]
  },
  {
   "cell_type": "code",
   "execution_count": null,
   "metadata": {},
   "outputs": [],
   "source": [
    "# 코드(로직) 전체를 외워두면 좋다 ! 자주쓰여서 ★\n",
    "# 이미지, 동영상 용량커서 한번에 읽기 힘드니까 버퍼사이즈 정해서 빠르게 읽을수있음\n",
    "bufsize = 1024 # = 1KB (1 = 1Byte) \n",
    "\n",
    "f_r = open('avengers_image.jpg', 'rb') #'r' 대신 'rb' : binary의 b!\n",
    "f_w = open('image.jpg', 'wb')\n",
    "\n",
    "image = f_r.read(bufsize)\n",
    "while image: #이미지 남아있으면\n",
    "    f_w.write(image)    #이미지에 덧붙여서(덮어씌워서) \n",
    "    image = f_r.read(bufsize) #계속 읽음\n",
    "\n",
    "f_r.close()\n",
    "f_w.close()"
   ]
  },
  {
   "cell_type": "markdown",
   "metadata": {},
   "source": [
    "여기까지 배운걸로(+ 함수)  미니 프로젝트 구상하기 ★  \n",
    "- 콘솔창 입력받아 출력하는 것 \n",
    "- 파일을 입력받아 출력하는 것  \n",
    "- 구글링: 파이썬 프로그래밍 프로젝트"
   ]
  }
 ],
 "metadata": {
  "kernelspec": {
   "display_name": "Python 3",
   "language": "python",
   "name": "python3"
  },
  "language_info": {
   "codemirror_mode": {
    "name": "ipython",
    "version": 3
   },
   "file_extension": ".py",
   "mimetype": "text/x-python",
   "name": "python",
   "nbconvert_exporter": "python",
   "pygments_lexer": "ipython3",
   "version": "3.7.3"
  }
 },
 "nbformat": 4,
 "nbformat_minor": 2
}
