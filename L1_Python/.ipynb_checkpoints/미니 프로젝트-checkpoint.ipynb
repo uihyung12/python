{
 "cells": [
  {
   "cell_type": "code",
   "execution_count": 1,
   "metadata": {},
   "outputs": [],
   "source": [
    "import numpy as np\n",
    "import pandas as pd"
   ]
  },
  {
   "cell_type": "code",
   "execution_count": 2,
   "metadata": {},
   "outputs": [
    {
     "name": "stderr",
     "output_type": "stream",
     "text": [
      "하위 디렉터리 또는 파일 Han이(가) 이미 있습니다.\n"
     ]
    }
   ],
   "source": [
    "mkdir Han"
   ]
  },
  {
   "cell_type": "code",
   "execution_count": 3,
   "metadata": {},
   "outputs": [
    {
     "name": "stdout",
     "output_type": "stream",
     "text": [
      "박물관\n",
      "d\n",
      "NOPE\n",
      "\n",
      "인쇄\n",
      "d\n",
      "NOPE\n",
      "\n",
      "약해지다\n",
      "d\n",
      "NOPE\n",
      "\n",
      "그리로\n",
      "d\n",
      "NOPE\n",
      "\n",
      "쓰다\n",
      "d\n",
      "NOPE\n",
      "\n",
      "최대한\n",
      "d\n",
      "NOPE\n",
      "\n",
      "신문사\n",
      "d\n",
      "NOPE\n",
      "\n",
      "일정\n",
      "d\n",
      "NOPE\n",
      "\n",
      "부정\n",
      "d\n",
      "NOPE\n",
      "\n",
      "길다\n",
      "d\n",
      "NOPE\n",
      "\n"
     ]
    }
   ],
   "source": [
    "\n",
    "data = pd.read_csv('Han/kn.csv', encoding='cp949')\n",
    "\n",
    "data = set(data['단어'])\n",
    "\n",
    "data = list(data)\n",
    "\n",
    "#data = pd.DataFrame(data, columns = ['word'])\n",
    "\n",
    "#data.iloc[:,0]\n",
    "\n",
    " \n",
    "test_num = 10\n",
    "\n",
    "\n",
    "import random\n",
    "\n",
    "for i in range(test_num):\n",
    "\n",
    "    prblm = random.choice(data)\n",
    "    print(prblm)\n",
    "    challange=input()\n",
    "\n",
    "    if prblm == challange:\n",
    "\n",
    "        print('GOOD♥\\n')\n",
    "\n",
    "    else:\n",
    "\n",
    "        print('NOPE\\n')\n",
    "\n",
    " \n"
   ]
  },
  {
   "cell_type": "code",
   "execution_count": null,
   "metadata": {},
   "outputs": [],
   "source": [
    "f = open('어린왕자.txt','r')\n",
    "\n",
    "data_1 = f.readlines()   \n",
    "    \n",
    "f.close()"
   ]
  },
  {
   "cell_type": "code",
   "execution_count": null,
   "metadata": {},
   "outputs": [],
   "source": [
    "data_2 = list(data_1)"
   ]
  },
  {
   "cell_type": "code",
   "execution_count": null,
   "metadata": {},
   "outputs": [
    {
     "name": "stdout",
     "output_type": "stream",
     "text": [
      " 어린 왕자가 말했다.\n",
      "\n",
      "\n",
      "NOPE\n",
      "\n",
      " \"하지만 내겐 시간이 많지 않아. 친구들을 찾아 내야 하고 알아볼 일도 많 아.\"\n",
      "\n",
      "d\n",
      "NOPE\n",
      "\n",
      " \"이 세상에 완전한 데라곤 없군.\"\n",
      "\n",
      "\"이 세상에 완전한 데라곤 없군.\"\n",
      "NOPE\n",
      "\n",
      " \"그래서?\"\n",
      "\n"
     ]
    }
   ],
   "source": [
    "\n",
    " \n",
    "test_num = 10\n",
    "\n",
    "import random\n",
    "\n",
    "for i in range(test_num):\n",
    "\n",
    "    prblm = random.choice(data_2)\n",
    "    print(prblm)\n",
    "    challange=input()\n",
    "\n",
    "    if prblm == challange:\n",
    "\n",
    "        print('GOOD♥\\n')\n",
    "\n",
    "    else:\n",
    "\n",
    "        print('NOPE\\n')\n",
    "\n",
    " \n"
   ]
  },
  {
   "cell_type": "code",
   "execution_count": null,
   "metadata": {},
   "outputs": [],
   "source": []
  }
 ],
 "metadata": {
  "kernelspec": {
   "display_name": "Python 3",
   "language": "python",
   "name": "python3"
  },
  "language_info": {
   "codemirror_mode": {
    "name": "ipython",
    "version": 3
   },
   "file_extension": ".py",
   "mimetype": "text/x-python",
   "name": "python",
   "nbconvert_exporter": "python",
   "pygments_lexer": "ipython3",
   "version": "3.7.3"
  }
 },
 "nbformat": 4,
 "nbformat_minor": 2
}
