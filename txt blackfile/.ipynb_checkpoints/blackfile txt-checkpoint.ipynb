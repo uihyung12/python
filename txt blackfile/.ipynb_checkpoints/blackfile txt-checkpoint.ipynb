{
 "cells": [
  {
   "cell_type": "code",
   "execution_count": 1,
   "metadata": {},
   "outputs": [],
   "source": [
    "import os\n",
    "import re\n",
    "import tempfile"
   ]
  },
  {
   "cell_type": "raw",
   "metadata": {},
   "source": [
    "assert n > 0\n",
    "while True:\n",
    "    chunk = fp.read(n)\n",
    "    if chunk == '':\n",
    "        break\n",
    "    process(chunk)"
   ]
  },
  {
   "cell_type": "raw",
   "metadata": {},
   "source": [
    "f1 = open('D:/회사 업무 일지/어노테이션 완성(휠체어)/37/wheelchair30(3)1444.txt')\n",
    "\n",
    "while True:\n",
    "    line = f1.readline()\n",
    "    print(line)\n",
    "    if(\"\" == line):\n",
    "        print('file finished')\n",
    "        break"
   ]
  },
  {
   "cell_type": "code",
   "execution_count": 63,
   "metadata": {},
   "outputs": [],
   "source": [
    "def list_txt(dirname):\n",
    "    try:\n",
    "        txt_lists = []\n",
    "        jpg_lists = []\n",
    "        txt_jpg_list = []\n",
    "        txt_list = os.listdir(dirname)\n",
    "    \n",
    "        for txt in txt_list:\n",
    "            full_file = os.path.join(dirname, txt)\n",
    "            \n",
    "            if os.path.isdir(full_file):\n",
    "                list_txt(full_file)\n",
    "    \n",
    "            else:\n",
    "                ext = os.path.splitext(full_file)[-1]\n",
    "                \n",
    "                if ext == '.txt':\n",
    "                    file_path = full_file.replace(\"\\\\\",'/')\n",
    "                    \n",
    "                    if os.path.getsize(file_path) > 0: #파일 내용이 있는 경우\n",
    "                        print('confirm file : {}'.format(file_path))\n",
    "                    else:# 파일 내용이 없는 경우\n",
    "                        print('empty file : {}'.format(file_path))\n",
    "                        if os.path.isfile(file_path):\n",
    "                            os.remove(file_path)\n",
    "                    \n",
    "#                     txt_lists.append(file_path)\n",
    "                    \n",
    "#                 elif ext == '.jpg' or ext == '.png':\n",
    "#                     file_path = full_file.replace(\"\\\\\",'/')\n",
    "                    \n",
    "#                     jpg_lists.append(file_path)\n",
    "                    \n",
    "                    \n",
    "#                 for txt in txt_lists:\n",
    "# #                     print(txt.split('.')[0])\n",
    "#                     for pic in jpg_lists:\n",
    "#                         if txt.split('.')[0] == pic.split('.')[0]:\n",
    "#                             txt_jpg_list.append(txt)\n",
    "#                         else:\n",
    "#                             if os.path.isfile(pic):\n",
    "#                                 os.remove(pic)\n",
    "# #                                 os.remove(pic)\n",
    "\n",
    "\n",
    "                    \n",
    "                \n",
    "#         return txt_lists\n",
    "    except PermissionError:\n",
    "        pass\n",
    "    \n",
    "#     return txt_lists\n",
    "\n",
    "\n",
    "\n",
    "def txt_delete(filename):\n",
    "    label = ''\n",
    "    # 입력으로 들어온 파일을 연다.\n",
    "    f1 = open(filename, 'r')\n",
    "    while True:\n",
    "        # 파일의 내용을 한 줄 씩 읽어온다.\n",
    "        line = f1.readline()\n",
    "        if(line == ''):\n",
    "            os.remove(filename)\n",
    "            break\n",
    "            \n",
    "        # '\\n'은 제거하고 공백을 기준으로 내용을 나눠준다.\n",
    "        label_split = line.rstrip('\\n').split(' ')\n",
    "        # 첫 번째 항목은 타입이므로 이것이 1일 경우 0으로 치환한다.\n",
    "#         if label_split[0] == '':\n",
    "#             os.remove('{}'.format(filename))\n",
    "#         if label_split[0] == '7':\n",
    "#             label_split[0] = '6'\n",
    "#         if label_split[0] == '0':\n",
    "#             label_split[0] = '2'\n",
    "#         elif label_split[0] == '1':\n",
    "#             label_split[0] = '5'\n",
    "#         elif label_split[0] == '2':\n",
    "#             label_split[0] = '6'\n",
    "#         elif label_split[0] == '3':\n",
    "#             label_split[0] = '4'\n",
    "#         elif label_split[0] == '4':\n",
    "#             label_split[0] = '3'\n",
    "#         elif label_split[0] == '5':\n",
    "#             label_split[0] = '1'\n",
    "#         elif label_split[0] == '6':\n",
    "#             label_split[0] = '0'    \n",
    "    \n",
    "    \n",
    "        # 치환된 내용을 포함하여 모든 항목들을 모아서 한 줄로 만들어 문자열 변수에 쌓는다.\n",
    "#         label = label + label_split[0] + ' ' + label_split[1] + ' ' + label_split[2] + ' ' + label_split[3] + ' ' + label_split[4]+'\\n'\n",
    "    f1.close();\n",
    "\n",
    "    # 새로 저장될 label 파일의 경로\n",
    "    new_filename = filename.replace('wheelchair_annotation', 'collect')\n",
    "\n",
    "    # 새로운 디렉토리 생성(질문)\n",
    "    dir = new_filename.replace('\\\\', '/').split('/')\n",
    "    new_path = dir[0] + \"/\"\n",
    "    for i in range(1, len(dir)-1):\n",
    "        new_path = os.path.join(new_path, dir[i])\n",
    "        if not os.path.isdir(new_path):\n",
    "            os.makedirs(os.path.join(new_path))\n",
    "\n",
    "    # 새로운 label을 파일에 기록한다.\n",
    "    with open(new_filename, 'w') as f2:\n",
    "        f2.write(label)"
   ]
  },
  {
   "cell_type": "code",
   "execution_count": 62,
   "metadata": {},
   "outputs": [
    {
     "ename": "KeyboardInterrupt",
     "evalue": "",
     "output_type": "error",
     "traceback": [
      "\u001b[1;31m---------------------------------------------------------------------------\u001b[0m",
      "\u001b[1;31mFileNotFoundError\u001b[0m                         Traceback (most recent call last)",
      "\u001b[1;32m~\\Anaconda3\\lib\\genericpath.py\u001b[0m in \u001b[0;36misfile\u001b[1;34m(path)\u001b[0m\n\u001b[0;32m     29\u001b[0m     \u001b[1;32mtry\u001b[0m\u001b[1;33m:\u001b[0m\u001b[1;33m\u001b[0m\u001b[1;33m\u001b[0m\u001b[0m\n\u001b[1;32m---> 30\u001b[1;33m         \u001b[0mst\u001b[0m \u001b[1;33m=\u001b[0m \u001b[0mos\u001b[0m\u001b[1;33m.\u001b[0m\u001b[0mstat\u001b[0m\u001b[1;33m(\u001b[0m\u001b[0mpath\u001b[0m\u001b[1;33m)\u001b[0m\u001b[1;33m\u001b[0m\u001b[1;33m\u001b[0m\u001b[0m\n\u001b[0m\u001b[0;32m     31\u001b[0m     \u001b[1;32mexcept\u001b[0m \u001b[0mOSError\u001b[0m\u001b[1;33m:\u001b[0m\u001b[1;33m\u001b[0m\u001b[1;33m\u001b[0m\u001b[0m\n",
      "\u001b[1;31mFileNotFoundError\u001b[0m: [WinError 2] 지정된 파일을 찾을 수 없습니다: 'D:/Data_collection/wheelchair_annotation/0421/32/wheelchair30(2)1671.jpg'",
      "\nDuring handling of the above exception, another exception occurred:\n",
      "\u001b[1;31mKeyboardInterrupt\u001b[0m                         Traceback (most recent call last)",
      "\u001b[1;32m<ipython-input-62-8fdf0258110e>\u001b[0m in \u001b[0;36m<module>\u001b[1;34m\u001b[0m\n\u001b[1;32m----> 1\u001b[1;33m \u001b[0mlist_txt\u001b[0m\u001b[1;33m(\u001b[0m\u001b[1;34m'D:/Data_collection/wheelchair_annotation/'\u001b[0m\u001b[1;33m)\u001b[0m\u001b[1;33m\u001b[0m\u001b[1;33m\u001b[0m\u001b[0m\n\u001b[0m",
      "\u001b[1;32m<ipython-input-61-aec5f987191c>\u001b[0m in \u001b[0;36mlist_txt\u001b[1;34m(dirname)\u001b[0m\n\u001b[0;32m     10\u001b[0m \u001b[1;33m\u001b[0m\u001b[0m\n\u001b[0;32m     11\u001b[0m             \u001b[1;32mif\u001b[0m \u001b[0mos\u001b[0m\u001b[1;33m.\u001b[0m\u001b[0mpath\u001b[0m\u001b[1;33m.\u001b[0m\u001b[0misdir\u001b[0m\u001b[1;33m(\u001b[0m\u001b[0mfull_file\u001b[0m\u001b[1;33m)\u001b[0m\u001b[1;33m:\u001b[0m\u001b[1;33m\u001b[0m\u001b[1;33m\u001b[0m\u001b[0m\n\u001b[1;32m---> 12\u001b[1;33m                 \u001b[0mlist_txt\u001b[0m\u001b[1;33m(\u001b[0m\u001b[0mfull_file\u001b[0m\u001b[1;33m)\u001b[0m\u001b[1;33m\u001b[0m\u001b[1;33m\u001b[0m\u001b[0m\n\u001b[0m\u001b[0;32m     13\u001b[0m \u001b[1;33m\u001b[0m\u001b[0m\n\u001b[0;32m     14\u001b[0m             \u001b[1;32melse\u001b[0m\u001b[1;33m:\u001b[0m\u001b[1;33m\u001b[0m\u001b[1;33m\u001b[0m\u001b[0m\n",
      "\u001b[1;32m<ipython-input-61-aec5f987191c>\u001b[0m in \u001b[0;36mlist_txt\u001b[1;34m(dirname)\u001b[0m\n\u001b[0;32m     10\u001b[0m \u001b[1;33m\u001b[0m\u001b[0m\n\u001b[0;32m     11\u001b[0m             \u001b[1;32mif\u001b[0m \u001b[0mos\u001b[0m\u001b[1;33m.\u001b[0m\u001b[0mpath\u001b[0m\u001b[1;33m.\u001b[0m\u001b[0misdir\u001b[0m\u001b[1;33m(\u001b[0m\u001b[0mfull_file\u001b[0m\u001b[1;33m)\u001b[0m\u001b[1;33m:\u001b[0m\u001b[1;33m\u001b[0m\u001b[1;33m\u001b[0m\u001b[0m\n\u001b[1;32m---> 12\u001b[1;33m                 \u001b[0mlist_txt\u001b[0m\u001b[1;33m(\u001b[0m\u001b[0mfull_file\u001b[0m\u001b[1;33m)\u001b[0m\u001b[1;33m\u001b[0m\u001b[1;33m\u001b[0m\u001b[0m\n\u001b[0m\u001b[0;32m     13\u001b[0m \u001b[1;33m\u001b[0m\u001b[0m\n\u001b[0;32m     14\u001b[0m             \u001b[1;32melse\u001b[0m\u001b[1;33m:\u001b[0m\u001b[1;33m\u001b[0m\u001b[1;33m\u001b[0m\u001b[0m\n",
      "\u001b[1;32m<ipython-input-61-aec5f987191c>\u001b[0m in \u001b[0;36mlist_txt\u001b[1;34m(dirname)\u001b[0m\n\u001b[0;32m     32\u001b[0m                             \u001b[0mtxt_jpg_list\u001b[0m\u001b[1;33m.\u001b[0m\u001b[0mappend\u001b[0m\u001b[1;33m(\u001b[0m\u001b[0mtxt\u001b[0m\u001b[1;33m)\u001b[0m\u001b[1;33m\u001b[0m\u001b[1;33m\u001b[0m\u001b[0m\n\u001b[0;32m     33\u001b[0m                         \u001b[1;32melse\u001b[0m\u001b[1;33m:\u001b[0m\u001b[1;33m\u001b[0m\u001b[1;33m\u001b[0m\u001b[0m\n\u001b[1;32m---> 34\u001b[1;33m                             \u001b[1;32mif\u001b[0m \u001b[0mos\u001b[0m\u001b[1;33m.\u001b[0m\u001b[0mpath\u001b[0m\u001b[1;33m.\u001b[0m\u001b[0misfile\u001b[0m\u001b[1;33m(\u001b[0m\u001b[0mpic\u001b[0m\u001b[1;33m)\u001b[0m\u001b[1;33m:\u001b[0m\u001b[1;33m\u001b[0m\u001b[1;33m\u001b[0m\u001b[0m\n\u001b[0m\u001b[0;32m     35\u001b[0m                                 \u001b[0mos\u001b[0m\u001b[1;33m.\u001b[0m\u001b[0mremove\u001b[0m\u001b[1;33m(\u001b[0m\u001b[0mpic\u001b[0m\u001b[1;33m)\u001b[0m\u001b[1;33m\u001b[0m\u001b[1;33m\u001b[0m\u001b[0m\n\u001b[0;32m     36\u001b[0m \u001b[1;31m#                                 os.remove(pic)\u001b[0m\u001b[1;33m\u001b[0m\u001b[1;33m\u001b[0m\u001b[1;33m\u001b[0m\u001b[0m\n",
      "\u001b[1;32m~\\Anaconda3\\lib\\genericpath.py\u001b[0m in \u001b[0;36misfile\u001b[1;34m(path)\u001b[0m\n\u001b[0;32m     28\u001b[0m     \u001b[1;34m\"\"\"Test whether a path is a regular file\"\"\"\u001b[0m\u001b[1;33m\u001b[0m\u001b[1;33m\u001b[0m\u001b[0m\n\u001b[0;32m     29\u001b[0m     \u001b[1;32mtry\u001b[0m\u001b[1;33m:\u001b[0m\u001b[1;33m\u001b[0m\u001b[1;33m\u001b[0m\u001b[0m\n\u001b[1;32m---> 30\u001b[1;33m         \u001b[0mst\u001b[0m \u001b[1;33m=\u001b[0m \u001b[0mos\u001b[0m\u001b[1;33m.\u001b[0m\u001b[0mstat\u001b[0m\u001b[1;33m(\u001b[0m\u001b[0mpath\u001b[0m\u001b[1;33m)\u001b[0m\u001b[1;33m\u001b[0m\u001b[1;33m\u001b[0m\u001b[0m\n\u001b[0m\u001b[0;32m     31\u001b[0m     \u001b[1;32mexcept\u001b[0m \u001b[0mOSError\u001b[0m\u001b[1;33m:\u001b[0m\u001b[1;33m\u001b[0m\u001b[1;33m\u001b[0m\u001b[0m\n\u001b[0;32m     32\u001b[0m         \u001b[1;32mreturn\u001b[0m \u001b[1;32mFalse\u001b[0m\u001b[1;33m\u001b[0m\u001b[1;33m\u001b[0m\u001b[0m\n",
      "\u001b[1;31mKeyboardInterrupt\u001b[0m: "
     ]
    }
   ],
   "source": [
    "list_txt('D:/Data_collection/wheelchair_annotation/')"
   ]
  },
  {
   "cell_type": "code",
   "execution_count": 19,
   "metadata": {},
   "outputs": [],
   "source": [
    "with open('D:/Data_collection/wheelchair_annotation/1(2)/2(6).txt', 'r') as f:\n",
    "    for line in f:\n",
    "        if os.stat(line).st_size == 0:\n",
    "            print('none')\n",
    "        else:\n",
    "            print('else')\n",
    "        \n",
    "            \n",
    "            \n",
    "# f1 = open('D:/Data_collection/wheelchair_annotation/1(2)/2(2).txt')\n",
    "# while True:\n",
    "#     line = f1.readline()\n",
    "# #     print(line)\n",
    "#     if not line:\n",
    "#         print(line)\n",
    "#         print('file finished')\n",
    "        \n",
    "#         break\n",
    "#     else:\n",
    "#         print(line)\n",
    "   "
   ]
  },
  {
   "cell_type": "code",
   "execution_count": 30,
   "metadata": {},
   "outputs": [
    {
     "name": "stdout",
     "output_type": "stream",
     "text": [
      "confirm file\n"
     ]
    }
   ],
   "source": [
    "path = 'D:/Data_collection/wheelchair_annotation/1(2)/2(6).txt'\n",
    "\n",
    "\n",
    "if os.path.getsize(path) > 0: #파일 내용이 있는 경우\n",
    "    print('empty file')\n",
    "else:# 파일 내용이 없는 경우\n",
    "    print('confirm file')"
   ]
  },
  {
   "cell_type": "code",
   "execution_count": 28,
   "metadata": {},
   "outputs": [
    {
     "data": {
      "text/plain": [
       "False"
      ]
     },
     "execution_count": 28,
     "metadata": {},
     "output_type": "execute_result"
    }
   ],
   "source": [
    "os.path.isfile('D:/Data_collection/wheelchair_annotation/1(2)')"
   ]
  },
  {
   "cell_type": "code",
   "execution_count": null,
   "metadata": {},
   "outputs": [],
   "source": []
  },
  {
   "cell_type": "code",
   "execution_count": null,
   "metadata": {},
   "outputs": [],
   "source": []
  },
  {
   "cell_type": "code",
   "execution_count": null,
   "metadata": {},
   "outputs": [],
   "source": []
  },
  {
   "cell_type": "code",
   "execution_count": null,
   "metadata": {},
   "outputs": [],
   "source": []
  },
  {
   "cell_type": "code",
   "execution_count": null,
   "metadata": {},
   "outputs": [],
   "source": []
  },
  {
   "cell_type": "code",
   "execution_count": null,
   "metadata": {},
   "outputs": [],
   "source": []
  },
  {
   "cell_type": "code",
   "execution_count": null,
   "metadata": {},
   "outputs": [],
   "source": []
  },
  {
   "cell_type": "code",
   "execution_count": null,
   "metadata": {},
   "outputs": [],
   "source": []
  },
  {
   "cell_type": "code",
   "execution_count": null,
   "metadata": {},
   "outputs": [],
   "source": []
  },
  {
   "cell_type": "code",
   "execution_count": null,
   "metadata": {},
   "outputs": [],
   "source": []
  },
  {
   "cell_type": "code",
   "execution_count": null,
   "metadata": {},
   "outputs": [],
   "source": []
  },
  {
   "cell_type": "code",
   "execution_count": null,
   "metadata": {},
   "outputs": [],
   "source": []
  },
  {
   "cell_type": "code",
   "execution_count": 100,
   "metadata": {},
   "outputs": [
    {
     "name": "stdout",
     "output_type": "stream",
     "text": [
      "\n"
     ]
    }
   ],
   "source": [
    "line = f1.readline()\n",
    "print(line)"
   ]
  },
  {
   "cell_type": "code",
   "execution_count": 105,
   "metadata": {},
   "outputs": [
    {
     "name": "stdout",
     "output_type": "stream",
     "text": [
      "0 0.388240 0.499312 0.404206 0.993122\n",
      "\n",
      "0 0.530374 0.662999 0.271028 0.668501\n",
      "\n",
      "\n",
      "file finished\n"
     ]
    }
   ],
   "source": [
    "f1 = open('D:/Data collection/wheelchair_annotation/0421/31/wheelchair30(2)1007.txt')\n",
    "while True:\n",
    "    line = f1.readline()\n",
    "    print(line)\n",
    "    if not line:\n",
    "        print(line)\n",
    "        print('file finished')\n",
    "        break"
   ]
  },
  {
   "cell_type": "code",
   "execution_count": 41,
   "metadata": {},
   "outputs": [],
   "source": [
    "def list_txt_blanck(dirname):\n",
    "    try:\n",
    "        txt_lists = []\n",
    "        jpg_lists = []\n",
    "        \n",
    "        txt_list = os.listdir(dirname)\n",
    "    \n",
    "        for txt in txt_list:\n",
    "            full_file = os.path.join(dirname, txt)\n",
    "            \n",
    "            if os.path.isdir(full_file):\n",
    "                list_txt_blanck(full_file)\n",
    "    \n",
    "            else:\n",
    "                \n",
    "                file_path = full_file.replace(\"\\\\\",'/')\n",
    "                file_replace = replaceRight(file_path,' ','_',3)\n",
    "                os.rename('{}'.format(file_path), '{}'.format(file_replace))\n",
    "                    \n",
    "                \n",
    "                \n",
    "#                 os.rename(file_path, '{}'.format(file_path.replace(' ','')))\n",
    "#                 blanck(full_file)\n",
    "                \n",
    "                \n",
    "                \n",
    "    except PermissionError:\n",
    "        pass\n",
    "    \n",
    "    \n",
    "def blanck(filename):\n",
    "    \n",
    "    new_filename = filename.replace('wheelchair_annotation','chair_wheel')\n",
    "    \n",
    "    dir = new_filename.replace('\\\\','/').split('/')\n",
    "    new_path = dir[0] + '/'\n",
    "    for i in range(1, len(dir)-1):\n",
    "        new_path = os.path.join(new_path, dir[i])\n",
    "        if not os.path.isdir(new_path):\n",
    "            os.makedirs(os.path.join(new_path))\n",
    "            \n",
    "            "
   ]
  },
  {
   "cell_type": "code",
   "execution_count": 42,
   "metadata": {},
   "outputs": [
    {
     "ename": "FileNotFoundError",
     "evalue": "[WinError 3] 지정된 경로를 찾을 수 없습니다: 'D:/Data_collection/wheelchair_annotation/1 (10)/not wheelchair/10 (15).jpg' -> 'D:/Data_collection/wheelchair_annotation/1_(10)/not_wheelchair/10_(15).jpg'",
     "output_type": "error",
     "traceback": [
      "\u001b[1;31m---------------------------------------------------------------------------\u001b[0m",
      "\u001b[1;31mFileNotFoundError\u001b[0m                         Traceback (most recent call last)",
      "\u001b[1;32m<ipython-input-42-cd9e6c81af48>\u001b[0m in \u001b[0;36m<module>\u001b[1;34m\u001b[0m\n\u001b[1;32m----> 1\u001b[1;33m \u001b[0mlist_txt_blanck\u001b[0m\u001b[1;33m(\u001b[0m\u001b[1;34m'D:/Data_collection/wheelchair_annotation'\u001b[0m\u001b[1;33m)\u001b[0m\u001b[1;33m\u001b[0m\u001b[1;33m\u001b[0m\u001b[0m\n\u001b[0m",
      "\u001b[1;32m<ipython-input-41-80fde0845835>\u001b[0m in \u001b[0;36mlist_txt_blanck\u001b[1;34m(dirname)\u001b[0m\n\u001b[0;32m     10\u001b[0m \u001b[1;33m\u001b[0m\u001b[0m\n\u001b[0;32m     11\u001b[0m             \u001b[1;32mif\u001b[0m \u001b[0mos\u001b[0m\u001b[1;33m.\u001b[0m\u001b[0mpath\u001b[0m\u001b[1;33m.\u001b[0m\u001b[0misdir\u001b[0m\u001b[1;33m(\u001b[0m\u001b[0mfull_file\u001b[0m\u001b[1;33m)\u001b[0m\u001b[1;33m:\u001b[0m\u001b[1;33m\u001b[0m\u001b[1;33m\u001b[0m\u001b[0m\n\u001b[1;32m---> 12\u001b[1;33m                 \u001b[0mlist_txt_blanck\u001b[0m\u001b[1;33m(\u001b[0m\u001b[0mfull_file\u001b[0m\u001b[1;33m)\u001b[0m\u001b[1;33m\u001b[0m\u001b[1;33m\u001b[0m\u001b[0m\n\u001b[0m\u001b[0;32m     13\u001b[0m \u001b[1;33m\u001b[0m\u001b[0m\n\u001b[0;32m     14\u001b[0m             \u001b[1;32melse\u001b[0m\u001b[1;33m:\u001b[0m\u001b[1;33m\u001b[0m\u001b[1;33m\u001b[0m\u001b[0m\n",
      "\u001b[1;32m<ipython-input-41-80fde0845835>\u001b[0m in \u001b[0;36mlist_txt_blanck\u001b[1;34m(dirname)\u001b[0m\n\u001b[0;32m     10\u001b[0m \u001b[1;33m\u001b[0m\u001b[0m\n\u001b[0;32m     11\u001b[0m             \u001b[1;32mif\u001b[0m \u001b[0mos\u001b[0m\u001b[1;33m.\u001b[0m\u001b[0mpath\u001b[0m\u001b[1;33m.\u001b[0m\u001b[0misdir\u001b[0m\u001b[1;33m(\u001b[0m\u001b[0mfull_file\u001b[0m\u001b[1;33m)\u001b[0m\u001b[1;33m:\u001b[0m\u001b[1;33m\u001b[0m\u001b[1;33m\u001b[0m\u001b[0m\n\u001b[1;32m---> 12\u001b[1;33m                 \u001b[0mlist_txt_blanck\u001b[0m\u001b[1;33m(\u001b[0m\u001b[0mfull_file\u001b[0m\u001b[1;33m)\u001b[0m\u001b[1;33m\u001b[0m\u001b[1;33m\u001b[0m\u001b[0m\n\u001b[0m\u001b[0;32m     13\u001b[0m \u001b[1;33m\u001b[0m\u001b[0m\n\u001b[0;32m     14\u001b[0m             \u001b[1;32melse\u001b[0m\u001b[1;33m:\u001b[0m\u001b[1;33m\u001b[0m\u001b[1;33m\u001b[0m\u001b[0m\n",
      "\u001b[1;32m<ipython-input-41-80fde0845835>\u001b[0m in \u001b[0;36mlist_txt_blanck\u001b[1;34m(dirname)\u001b[0m\n\u001b[0;32m     16\u001b[0m                 \u001b[0mfile_path\u001b[0m \u001b[1;33m=\u001b[0m \u001b[0mfull_file\u001b[0m\u001b[1;33m.\u001b[0m\u001b[0mreplace\u001b[0m\u001b[1;33m(\u001b[0m\u001b[1;34m\"\\\\\"\u001b[0m\u001b[1;33m,\u001b[0m\u001b[1;34m'/'\u001b[0m\u001b[1;33m)\u001b[0m\u001b[1;33m\u001b[0m\u001b[1;33m\u001b[0m\u001b[0m\n\u001b[0;32m     17\u001b[0m                 \u001b[0mfile_replace\u001b[0m \u001b[1;33m=\u001b[0m \u001b[0mreplaceRight\u001b[0m\u001b[1;33m(\u001b[0m\u001b[0mfile_path\u001b[0m\u001b[1;33m,\u001b[0m\u001b[1;34m' '\u001b[0m\u001b[1;33m,\u001b[0m\u001b[1;34m'_'\u001b[0m\u001b[1;33m,\u001b[0m\u001b[1;36m3\u001b[0m\u001b[1;33m)\u001b[0m\u001b[1;33m\u001b[0m\u001b[1;33m\u001b[0m\u001b[0m\n\u001b[1;32m---> 18\u001b[1;33m                 \u001b[0mos\u001b[0m\u001b[1;33m.\u001b[0m\u001b[0mrename\u001b[0m\u001b[1;33m(\u001b[0m\u001b[1;34m'{}'\u001b[0m\u001b[1;33m.\u001b[0m\u001b[0mformat\u001b[0m\u001b[1;33m(\u001b[0m\u001b[0mfile_path\u001b[0m\u001b[1;33m)\u001b[0m\u001b[1;33m,\u001b[0m \u001b[1;34m'{}'\u001b[0m\u001b[1;33m.\u001b[0m\u001b[0mformat\u001b[0m\u001b[1;33m(\u001b[0m\u001b[0mfile_replace\u001b[0m\u001b[1;33m)\u001b[0m\u001b[1;33m)\u001b[0m\u001b[1;33m\u001b[0m\u001b[1;33m\u001b[0m\u001b[0m\n\u001b[0m\u001b[0;32m     19\u001b[0m \u001b[1;33m\u001b[0m\u001b[0m\n\u001b[0;32m     20\u001b[0m \u001b[1;33m\u001b[0m\u001b[0m\n",
      "\u001b[1;31mFileNotFoundError\u001b[0m: [WinError 3] 지정된 경로를 찾을 수 없습니다: 'D:/Data_collection/wheelchair_annotation/1 (10)/not wheelchair/10 (15).jpg' -> 'D:/Data_collection/wheelchair_annotation/1_(10)/not_wheelchair/10_(15).jpg'"
     ]
    }
   ],
   "source": [
    "list_txt_blanck('D:/Data_collection/wheelchair_annotation')"
   ]
  },
  {
   "cell_type": "code",
   "execution_count": 18,
   "metadata": {},
   "outputs": [],
   "source": [
    "def replaceRight(original, old, new, count_right):\n",
    "    repeat=0\n",
    "    text = original\n",
    "    old_len = len(old)\n",
    "    \n",
    "    count_find = original.count(old)\n",
    "    if count_right > count_find : # 바꿀 횟수가 문자열에 포함된 old보다 많다면\n",
    "        repeat = count_find # 문자열에 포함된 old의 모든 개수(count_find)만큼 교체한다\n",
    "    else :\n",
    "        repeat = count_right # 아니라면 입력받은 개수(count)만큼 교체한다\n",
    "\n",
    "    while(repeat):\n",
    "        find_index = text.rfind(old) # 오른쪽부터 index를 찾기위해 rfind 사용\n",
    "        text = text[:find_index] + new + text[find_index+old_len:]\n",
    "\n",
    "        repeat -= 1\n",
    "      \n",
    "    return text"
   ]
  },
  {
   "cell_type": "code",
   "execution_count": 40,
   "metadata": {},
   "outputs": [
    {
     "ename": "FileNotFoundError",
     "evalue": "[WinError 2] 지정된 파일을 찾을 수 없습니다: '2 (1).jpg' -> '21(1).jpg'",
     "output_type": "error",
     "traceback": [
      "\u001b[1;31m---------------------------------------------------------------------------\u001b[0m",
      "\u001b[1;31mFileNotFoundError\u001b[0m                         Traceback (most recent call last)",
      "\u001b[1;32m<ipython-input-40-cefdfebf5278>\u001b[0m in \u001b[0;36m<module>\u001b[1;34m\u001b[0m\n\u001b[0;32m      3\u001b[0m \u001b[1;32mfor\u001b[0m \u001b[0mname\u001b[0m \u001b[1;32min\u001b[0m \u001b[0mfiles\u001b[0m\u001b[1;33m:\u001b[0m\u001b[1;33m\u001b[0m\u001b[1;33m\u001b[0m\u001b[0m\n\u001b[0;32m      4\u001b[0m     \u001b[0mnewname\u001b[0m \u001b[1;33m=\u001b[0m \u001b[0mname\u001b[0m\u001b[1;33m.\u001b[0m\u001b[0mreplace\u001b[0m\u001b[1;33m(\u001b[0m\u001b[1;34m' '\u001b[0m\u001b[1;33m,\u001b[0m\u001b[1;34m'1'\u001b[0m\u001b[1;33m)\u001b[0m\u001b[1;33m\u001b[0m\u001b[1;33m\u001b[0m\u001b[0m\n\u001b[1;32m----> 5\u001b[1;33m     \u001b[0mos\u001b[0m\u001b[1;33m.\u001b[0m\u001b[0mrename\u001b[0m\u001b[1;33m(\u001b[0m\u001b[0mname\u001b[0m\u001b[1;33m,\u001b[0m \u001b[0mnewname\u001b[0m\u001b[1;33m)\u001b[0m\u001b[1;33m\u001b[0m\u001b[1;33m\u001b[0m\u001b[0m\n\u001b[0m\u001b[0;32m      6\u001b[0m     \u001b[0mprint\u001b[0m\u001b[1;33m(\u001b[0m\u001b[0mnewname\u001b[0m\u001b[1;33m)\u001b[0m\u001b[1;33m\u001b[0m\u001b[1;33m\u001b[0m\u001b[0m\n",
      "\u001b[1;31mFileNotFoundError\u001b[0m: [WinError 2] 지정된 파일을 찾을 수 없습니다: '2 (1).jpg' -> '21(1).jpg'"
     ]
    }
   ],
   "source": [
    "files = os.listdir('D:/Data_collection/wheelchair_annotation/1 (2)')\n",
    "\n",
    "for name in files:\n",
    "    newname = name.replace(' ','1')\n",
    "    os.rename(name, newname)\n",
    "    print(newname)"
   ]
  },
  {
   "cell_type": "code",
   "execution_count": 45,
   "metadata": {},
   "outputs": [
    {
     "ename": "FileNotFoundError",
     "evalue": "[WinError 3] 지정된 경로를 찾을 수 없습니다: 'D:/Data_collection/wheelchair_annotation/1 (2)/2 (1).jpg' -> 'D:/Data_collection/wheelchair_annotation/1(2)/2(1).jpg'",
     "output_type": "error",
     "traceback": [
      "\u001b[1;31m---------------------------------------------------------------------------\u001b[0m",
      "\u001b[1;31mFileNotFoundError\u001b[0m                         Traceback (most recent call last)",
      "\u001b[1;32m<ipython-input-45-40b445798e01>\u001b[0m in \u001b[0;36m<module>\u001b[1;34m\u001b[0m\n\u001b[1;32m----> 1\u001b[1;33m \u001b[0mos\u001b[0m\u001b[1;33m.\u001b[0m\u001b[0mrename\u001b[0m\u001b[1;33m(\u001b[0m\u001b[1;34m'D:/Data_collection/wheelchair_annotation/1 (2)/'\u001b[0m\u001b[1;33m+\u001b[0m\u001b[1;34m'2 (1).jpg'\u001b[0m\u001b[1;33m,\u001b[0m \u001b[1;34m'D:/Data_collection/wheelchair_annotation/1(2)/'\u001b[0m\u001b[1;33m+\u001b[0m\u001b[1;34m'2(1).jpg'\u001b[0m\u001b[1;33m)\u001b[0m\u001b[1;33m\u001b[0m\u001b[1;33m\u001b[0m\u001b[0m\n\u001b[0m",
      "\u001b[1;31mFileNotFoundError\u001b[0m: [WinError 3] 지정된 경로를 찾을 수 없습니다: 'D:/Data_collection/wheelchair_annotation/1 (2)/2 (1).jpg' -> 'D:/Data_collection/wheelchair_annotation/1(2)/2(1).jpg'"
     ]
    }
   ],
   "source": [
    "os.rename('D:/Data_collection/wheelchair_annotation/1 (2)/'+'2 (1).jpg', 'D:/Data_collection/wheelchair_annotation/1(2)/'+'2(1).jpg')"
   ]
  },
  {
   "cell_type": "code",
   "execution_count": 73,
   "metadata": {},
   "outputs": [],
   "source": [
    "def blanck_strip(dirname):\n",
    "    try:\n",
    "        txt_lists = []\n",
    "        jpg_lists = []\n",
    "        \n",
    "        txt_list = os.listdir(dirname)\n",
    "    \n",
    "        for txt in txt_list:\n",
    "            full_file = os.path.join(dirname, txt)\n",
    "            \n",
    "            if os.path.isdir(full_file):\n",
    "                blanck_strip(full_file)\n",
    "    \n",
    "            else:\n",
    "#                 file_strip = txt.replace(\"\\\\\",'/')\n",
    "#                 print(txt.replace(\" \",''))\n",
    "#                 print(file_strip.replace(\"\\\\\",'/'))\n",
    "                os.rename(dirname+'/'+txt, dirname+'/'+txt.replace(\" \",\"\"))\n",
    "                \n",
    "                    \n",
    "                \n",
    "                \n",
    "#                 os.rename(file_path, '{}'.format(file_path.replace(' ','')))\n",
    "#                 blanck(full_file)\n",
    "                \n",
    "                \n",
    "                \n",
    "    except PermissionError:\n",
    "        pass"
   ]
  },
  {
   "cell_type": "code",
   "execution_count": 164,
   "metadata": {},
   "outputs": [],
   "source": [
    "blanck_strip('D:/Data_collection/wheelchair_annotation/24/not_wheelchair')"
   ]
  },
  {
   "cell_type": "code",
   "execution_count": 169,
   "metadata": {},
   "outputs": [
    {
     "ename": "FileNotFoundError",
     "evalue": "[WinError 3] 지정된 경로를 찾을 수 없습니다: 'D:/Data_collection/wheelchair_annotation/24(21)/wheelchair'",
     "output_type": "error",
     "traceback": [
      "\u001b[1;31m---------------------------------------------------------------------------\u001b[0m",
      "\u001b[1;31mFileNotFoundError\u001b[0m                         Traceback (most recent call last)",
      "\u001b[1;32m<ipython-input-169-0c6ce21d9b88>\u001b[0m in \u001b[0;36m<module>\u001b[1;34m\u001b[0m\n\u001b[1;32m----> 1\u001b[1;33m \u001b[0mblanck_strip\u001b[0m\u001b[1;33m(\u001b[0m\u001b[1;34m'D:/Data_collection/wheelchair_annotation/24(21)/wheelchair'\u001b[0m\u001b[1;33m)\u001b[0m\u001b[1;33m\u001b[0m\u001b[1;33m\u001b[0m\u001b[0m\n\u001b[0m",
      "\u001b[1;32m<ipython-input-73-68f0d0a9a3ae>\u001b[0m in \u001b[0;36mblanck_strip\u001b[1;34m(dirname)\u001b[0m\n\u001b[0;32m      4\u001b[0m         \u001b[0mjpg_lists\u001b[0m \u001b[1;33m=\u001b[0m \u001b[1;33m[\u001b[0m\u001b[1;33m]\u001b[0m\u001b[1;33m\u001b[0m\u001b[1;33m\u001b[0m\u001b[0m\n\u001b[0;32m      5\u001b[0m \u001b[1;33m\u001b[0m\u001b[0m\n\u001b[1;32m----> 6\u001b[1;33m         \u001b[0mtxt_list\u001b[0m \u001b[1;33m=\u001b[0m \u001b[0mos\u001b[0m\u001b[1;33m.\u001b[0m\u001b[0mlistdir\u001b[0m\u001b[1;33m(\u001b[0m\u001b[0mdirname\u001b[0m\u001b[1;33m)\u001b[0m\u001b[1;33m\u001b[0m\u001b[1;33m\u001b[0m\u001b[0m\n\u001b[0m\u001b[0;32m      7\u001b[0m \u001b[1;33m\u001b[0m\u001b[0m\n\u001b[0;32m      8\u001b[0m         \u001b[1;32mfor\u001b[0m \u001b[0mtxt\u001b[0m \u001b[1;32min\u001b[0m \u001b[0mtxt_list\u001b[0m\u001b[1;33m:\u001b[0m\u001b[1;33m\u001b[0m\u001b[1;33m\u001b[0m\u001b[0m\n",
      "\u001b[1;31mFileNotFoundError\u001b[0m: [WinError 3] 지정된 경로를 찾을 수 없습니다: 'D:/Data_collection/wheelchair_annotation/24(21)/wheelchair'"
     ]
    }
   ],
   "source": [
    "blanck_strip('D:/Data_collection/wheelchair_annotation/24(21)/wheelchair')"
   ]
  },
  {
   "cell_type": "code",
   "execution_count": 170,
   "metadata": {},
   "outputs": [],
   "source": [
    "blanck_strip('D:/Data_collection/wheelchair_annotation/24(21)')"
   ]
  },
  {
   "cell_type": "code",
   "execution_count": null,
   "metadata": {},
   "outputs": [],
   "source": []
  }
 ],
 "metadata": {
  "kernelspec": {
   "display_name": "Python 3",
   "language": "python",
   "name": "python3"
  },
  "language_info": {
   "codemirror_mode": {
    "name": "ipython",
    "version": 3
   },
   "file_extension": ".py",
   "mimetype": "text/x-python",
   "name": "python",
   "nbconvert_exporter": "python",
   "pygments_lexer": "ipython3",
   "version": "3.7.6"
  }
 },
 "nbformat": 4,
 "nbformat_minor": 4
}
