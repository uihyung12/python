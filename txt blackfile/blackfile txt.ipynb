{
 "cells": [
  {
   "cell_type": "code",
   "execution_count": 1,
   "metadata": {},
   "outputs": [],
   "source": [
    "import os\n",
    "import re\n",
    "import tempfile"
   ]
  },
  {
   "cell_type": "raw",
   "metadata": {},
   "source": [
    "assert n > 0\n",
    "while True:\n",
    "    chunk = fp.read(n)\n",
    "    if chunk == '':\n",
    "        break\n",
    "    process(chunk)"
   ]
  },
  {
   "cell_type": "raw",
   "metadata": {},
   "source": [
    "f1 = open('D:/회사 업무 일지/어노테이션 완성(휠체어)/37/wheelchair30(3)1444.txt')\n",
    "\n",
    "while True:\n",
    "    line = f1.readline()\n",
    "    print(line)\n",
    "    if(\"\" == line):\n",
    "        print('file finished')\n",
    "        break"
   ]
  },
  {
   "cell_type": "code",
   "execution_count": null,
   "metadata": {},
   "outputs": [],
   "source": [
    "def list_txt(dirname):\n",
    "    try:\n",
    "        txt_lists = []\n",
    "        jpg_lists = []\n",
    "        txt_jpg_list = []\n",
    "        txt_list = os.listdir(dirname)\n",
    "    \n",
    "        for txt in txt_list:\n",
    "            full_file = os.path.join(dirname, txt)\n",
    "            \n",
    "            if os.path.isdir(full_file):\n",
    "                list_txt(full_file)\n",
    "    \n",
    "            else:\n",
    "                ext = os.path.splitext(full_file)[-1]\n",
    "                \n",
    "                if ext == '.txt':\n",
    "                    file_path = full_file.replace(\"\\\\\",'/')\n",
    "                    \n",
    "                    if os.path.getsize(file_path) > 0: #파일 내용이 있는 경우\n",
    "                        print('confirm file : {}'.format(file_path))\n",
    "                    else:# 파일 내용이 없는 경우\n",
    "                        print('empty file : {}'.format(file_path))\n",
    "                        if os.path.isfile(file_path):\n",
    "                            os.remove(file_path)\n",
    "                    \n",
    "#                     txt_lists.append(file_path)\n",
    "                    \n",
    "#                 elif ext == '.jpg' or ext == '.png':\n",
    "#                     file_path = full_file.replace(\"\\\\\",'/')\n",
    "                    \n",
    "#                     jpg_lists.append(file_path)\n",
    "                    \n",
    "                    \n",
    "#                 for txt in txt_lists:\n",
    "# #                     print(txt.split('.')[0])\n",
    "#                     for pic in jpg_lists:\n",
    "#                         if txt.split('.')[0] == pic.split('.')[0]:\n",
    "#                             txt_jpg_list.append(txt)\n",
    "#                         else:\n",
    "#                             if os.path.isfile(pic):\n",
    "#                                 os.remove(pic)\n",
    "# #                                 os.remove(pic)\n",
    "\n",
    "\n",
    "                    \n",
    "                \n",
    "#         return txt_lists\n",
    "    except PermissionError:\n",
    "        pass\n",
    "    \n",
    "#     return txt_lists\n",
    "\n",
    "\n",
    "\n",
    "def txt_delete(filename):\n",
    "    label = ''\n",
    "    # 입력으로 들어온 파일을 연다.\n",
    "    f1 = open(filename, 'r')\n",
    "    while True:\n",
    "        # 파일의 내용을 한 줄 씩 읽어온다.\n",
    "        line = f1.readline()\n",
    "        if(line == ''):\n",
    "            os.remove(filename)\n",
    "            break\n",
    "            \n",
    "        # '\\n'은 제거하고 공백을 기준으로 내용을 나눠준다.\n",
    "        label_split = line.rstrip('\\n').split(' ')\n",
    "        # 첫 번째 항목은 타입이므로 이것이 1일 경우 0으로 치환한다.\n",
    "#         if label_split[0] == '':\n",
    "#             os.remove('{}'.format(filename))\n",
    "#         if label_split[0] == '7':\n",
    "#             label_split[0] = '6'\n",
    "#         if label_split[0] == '0':\n",
    "#             label_split[0] = '2'\n",
    "#         elif label_split[0] == '1':\n",
    "#             label_split[0] = '5'\n",
    "#         elif label_split[0] == '2':\n",
    "#             label_split[0] = '6'\n",
    "#         elif label_split[0] == '3':\n",
    "#             label_split[0] = '4'\n",
    "#         elif label_split[0] == '4':\n",
    "#             label_split[0] = '3'\n",
    "#         elif label_split[0] == '5':\n",
    "#             label_split[0] = '1'\n",
    "#         elif label_split[0] == '6':\n",
    "#             label_split[0] = '0'    \n",
    "    \n",
    "    \n",
    "        # 치환된 내용을 포함하여 모든 항목들을 모아서 한 줄로 만들어 문자열 변수에 쌓는다.\n",
    "#         label = label + label_split[0] + ' ' + label_split[1] + ' ' + label_split[2] + ' ' + label_split[3] + ' ' + label_split[4]+'\\n'\n",
    "    f1.close();\n",
    "\n",
    "    # 새로 저장될 label 파일의 경로\n",
    "    new_filename = filename.replace('wheelchair_annotation', 'collect')\n",
    "\n",
    "    # 새로운 디렉토리 생성(질문)\n",
    "    dir = new_filename.replace('\\\\', '/').split('/')\n",
    "    new_path = dir[0] + \"/\"\n",
    "    for i in range(1, len(dir)-1):\n",
    "        new_path = os.path.join(new_path, dir[i])\n",
    "        if not os.path.isdir(new_path):\n",
    "            os.makedirs(os.path.join(new_path))\n",
    "\n",
    "    # 새로운 label을 파일에 기록한다.\n",
    "    with open(new_filename, 'w') as f2:\n",
    "        f2.write(label)"
   ]
  },
  {
   "cell_type": "code",
   "execution_count": null,
   "metadata": {},
   "outputs": [],
   "source": [
    "list_txt('D:/Data_collection/wheelchair_annotation/')"
   ]
  },
  {
   "cell_type": "code",
   "execution_count": null,
   "metadata": {},
   "outputs": [],
   "source": [
    "file = os.listdir('D:/Data_collection/31')\n",
    "photo_list = []\n",
    "txt_list = []\n",
    "for i in file:\n",
    "    ext = os.path.splitext(i)[-1]\n",
    "    \n",
    "    if ext == '.txt':\n",
    "        txt_list.append(i)\n",
    "    elif ext == '.png' or ext == '.jpg':\n",
    "        photo_list.append(i)\n",
    "        "
   ]
  },
  {
   "cell_type": "code",
   "execution_count": null,
   "metadata": {},
   "outputs": [],
   "source": [
    "del_photo = []\n",
    "for i in txt_list:\n",
    "    for j in photo_list:\n",
    "        if i.split('.')[0] != j.split('.')[0]:\n",
    "            del_photo.append(j)\n",
    "            \n"
   ]
  },
  {
   "cell_type": "code",
   "execution_count": null,
   "metadata": {},
   "outputs": [],
   "source": [
    "for i in del_photo:\n",
    "      \n",
    "    os.remove(\"./{}\".format(i))"
   ]
  },
  {
   "cell_type": "code",
   "execution_count": null,
   "metadata": {},
   "outputs": [],
   "source": [
    "def del_picture(dirname):\n",
    "    try:\n",
    "        txt_lists = []\n",
    "        jpg_lists = []\n",
    "        txt_jpg_list = []\n",
    "        txt_list = os.listdir(dirname)\n",
    "    \n",
    "        for txt in txt_list:\n",
    "            full_file = os.path.join(dirname, txt)\n",
    "            \n",
    "            if os.path.isdir(full_file):\n",
    "                del_picture(full_file)\n",
    "    \n",
    "            else:\n",
    "                ext = os.path.splitext(full_file)[-1]\n",
    "                \n",
    "                if ext == '.txt':\n",
    "                    file_path = full_file.replace(\"\\\\\",'/')\n",
    "                    txt_lists.append(file_path)\n",
    "                elif ext == '.jpg':\n",
    "                    file_path = full_file.replace('\\\\','/')\n",
    "                    jpg_lists.append(file_path)\n",
    "                    \n",
    "                for txt in txt_lists:\n",
    "                    for jpg in jpg_lists:\n",
    "                        if txt.split('.')[0] == jpg.split('.')[0]:\n",
    "                            jpg_lists.remove(jpg)                          \n",
    "    \n",
    "                            break\n",
    "        \n",
    "                            #txt_jpg_list.append(jpg)\n",
    "        for i in jpg_lists:\n",
    "            print(i)\n",
    "            os.remove(i)\n",
    "#         print(len(jpg_lists))\n",
    "#         return jpg_lists\n",
    "                    \n",
    "#                     txt_lists.append(file_path)\n",
    "                    \n",
    "#                 elif ext == '.jpg' or ext == '.png':\n",
    "#                     file_path = full_file.replace(\"\\\\\",'/')\n",
    "                    \n",
    "#                     jpg_lists.append(file_path)\n",
    "                    \n",
    "                    \n",
    "#                 for txt in txt_lists:\n",
    "# #                     print(txt.split('.')[0])\n",
    "#                     for pic in jpg_lists:\n",
    "#                         if txt.split('.')[0] == pic.split('.')[0]:\n",
    "#                             txt_jpg_list.append(txt)\n",
    "#                         else:\n",
    "#                             if os.path.isfile(pic):\n",
    "#                                 os.remove(pic)\n",
    "# #                                 os.remove(pic)\n",
    "\n",
    "\n",
    "                    \n",
    "                \n",
    "#         return txt_lists\n",
    "    except PermissionError:\n",
    "        pass"
   ]
  },
  {
   "cell_type": "code",
   "execution_count": null,
   "metadata": {},
   "outputs": [],
   "source": [
    "del_picture('D:/Data_collection/wheelchair_annotation')\n",
    "# print(len(a))"
   ]
  },
  {
   "cell_type": "code",
   "execution_count": null,
   "metadata": {},
   "outputs": [],
   "source": [
    "for i in a:\n",
    "    print(i)\n",
    "#     os.remove(i)"
   ]
  },
  {
   "cell_type": "code",
   "execution_count": null,
   "metadata": {},
   "outputs": [],
   "source": [
    "for i in range(100):\n",
    "    for j in range(10):\n",
    "        if i == j:\n",
    "            print('i 의 값 = {}'.format(i))\n",
    "            print('j 의 값 = {}'.format(j))"
   ]
  },
  {
   "cell_type": "code",
   "execution_count": null,
   "metadata": {},
   "outputs": [],
   "source": [
    "with open('D:/Data_collection/wheelchair_annotation/1(2)/2(6).txt', 'r') as f:\n",
    "    for line in f:\n",
    "        if os.stat(line).st_size == 0:\n",
    "            print('none')\n",
    "        else:\n",
    "            print('else')\n",
    "        \n",
    "            \n",
    "            \n",
    "# f1 = open('D:/Data_collection/wheelchair_annotation/1(2)/2(2).txt')\n",
    "# while True:\n",
    "#     line = f1.readline()\n",
    "# #     print(line)\n",
    "#     if not line:\n",
    "#         print(line)\n",
    "#         print('file finished')\n",
    "        \n",
    "#         break\n",
    "#     else:\n",
    "#         print(line)\n",
    "   "
   ]
  },
  {
   "cell_type": "code",
   "execution_count": 2,
   "metadata": {},
   "outputs": [
    {
     "ename": "FileNotFoundError",
     "evalue": "[WinError 3] 지정된 경로를 찾을 수 없습니다: 'D:/Data_collection/wheelchair_annotation/1(2)/2(6).txt'",
     "output_type": "error",
     "traceback": [
      "\u001b[1;31m---------------------------------------------------------------------------\u001b[0m",
      "\u001b[1;31mFileNotFoundError\u001b[0m                         Traceback (most recent call last)",
      "\u001b[1;32m<ipython-input-2-4c3f64a7f592>\u001b[0m in \u001b[0;36m<module>\u001b[1;34m\u001b[0m\n\u001b[0;32m      2\u001b[0m \u001b[1;33m\u001b[0m\u001b[0m\n\u001b[0;32m      3\u001b[0m \u001b[1;33m\u001b[0m\u001b[0m\n\u001b[1;32m----> 4\u001b[1;33m \u001b[1;32mif\u001b[0m \u001b[0mos\u001b[0m\u001b[1;33m.\u001b[0m\u001b[0mpath\u001b[0m\u001b[1;33m.\u001b[0m\u001b[0mgetsize\u001b[0m\u001b[1;33m(\u001b[0m\u001b[0mpath\u001b[0m\u001b[1;33m)\u001b[0m \u001b[1;33m>\u001b[0m \u001b[1;36m0\u001b[0m\u001b[1;33m:\u001b[0m \u001b[1;31m#파일 내용이 있는 경우\u001b[0m\u001b[1;33m\u001b[0m\u001b[1;33m\u001b[0m\u001b[0m\n\u001b[0m\u001b[0;32m      5\u001b[0m     \u001b[0mprint\u001b[0m\u001b[1;33m(\u001b[0m\u001b[1;34m'empty file'\u001b[0m\u001b[1;33m)\u001b[0m\u001b[1;33m\u001b[0m\u001b[1;33m\u001b[0m\u001b[0m\n\u001b[0;32m      6\u001b[0m \u001b[1;32melse\u001b[0m\u001b[1;33m:\u001b[0m\u001b[1;31m# 파일 내용이 없는 경우\u001b[0m\u001b[1;33m\u001b[0m\u001b[1;33m\u001b[0m\u001b[0m\n",
      "\u001b[1;32m~\\Anaconda3\\lib\\genericpath.py\u001b[0m in \u001b[0;36mgetsize\u001b[1;34m(filename)\u001b[0m\n\u001b[0;32m     48\u001b[0m \u001b[1;32mdef\u001b[0m \u001b[0mgetsize\u001b[0m\u001b[1;33m(\u001b[0m\u001b[0mfilename\u001b[0m\u001b[1;33m)\u001b[0m\u001b[1;33m:\u001b[0m\u001b[1;33m\u001b[0m\u001b[1;33m\u001b[0m\u001b[0m\n\u001b[0;32m     49\u001b[0m     \u001b[1;34m\"\"\"Return the size of a file, reported by os.stat().\"\"\"\u001b[0m\u001b[1;33m\u001b[0m\u001b[1;33m\u001b[0m\u001b[0m\n\u001b[1;32m---> 50\u001b[1;33m     \u001b[1;32mreturn\u001b[0m \u001b[0mos\u001b[0m\u001b[1;33m.\u001b[0m\u001b[0mstat\u001b[0m\u001b[1;33m(\u001b[0m\u001b[0mfilename\u001b[0m\u001b[1;33m)\u001b[0m\u001b[1;33m.\u001b[0m\u001b[0mst_size\u001b[0m\u001b[1;33m\u001b[0m\u001b[1;33m\u001b[0m\u001b[0m\n\u001b[0m\u001b[0;32m     51\u001b[0m \u001b[1;33m\u001b[0m\u001b[0m\n\u001b[0;32m     52\u001b[0m \u001b[1;33m\u001b[0m\u001b[0m\n",
      "\u001b[1;31mFileNotFoundError\u001b[0m: [WinError 3] 지정된 경로를 찾을 수 없습니다: 'D:/Data_collection/wheelchair_annotation/1(2)/2(6).txt'"
     ]
    }
   ],
   "source": [
    "path = 'D:/Data_collection/wheelchair_annotation/1(2)/2(6).txt'\n",
    "\n",
    "\n",
    "if os.path.getsize(path) > 0: #파일 내용이 있는 경우\n",
    "    print('empty file')\n",
    "else:# 파일 내용이 없는 경우\n",
    "    print('confirm file')"
   ]
  },
  {
   "cell_type": "code",
   "execution_count": 3,
   "metadata": {},
   "outputs": [
    {
     "data": {
      "text/plain": [
       "False"
      ]
     },
     "execution_count": 3,
     "metadata": {},
     "output_type": "execute_result"
    }
   ],
   "source": [
    "os.path.isfile('D:/Data_collection/wheelchair_annotation/1(2)')"
   ]
  },
  {
   "cell_type": "code",
   "execution_count": 4,
   "metadata": {},
   "outputs": [
    {
     "data": {
      "text/plain": [
       "False"
      ]
     },
     "execution_count": 4,
     "metadata": {},
     "output_type": "execute_result"
    }
   ],
   "source": [
    "os.path.isfile('D:/차량데이터영상_두원시스템/동영상 변환\\night/ night (1) (4-6-2020 11-06-06 AM)')"
   ]
  },
  {
   "cell_type": "code",
   "execution_count": 23,
   "metadata": {},
   "outputs": [],
   "source": [
    "def black_txt(dirname):\n",
    "    txt_list = os.listdir(dirname)\n",
    "    jpg_list = []\n",
    "    txt_list = []\n",
    "    for i in txt_list:\n",
    "        full_path = os.path.join(dirname, i)\n",
    "        \n",
    "        if os.path.isdir(full_path):\n",
    "            black_txt(full_path)\n",
    "            \n",
    "        else:\n",
    "            \n",
    "            ext = os.path.splitext(full_path)[-1]\n",
    "            \n",
    "            if ext == '.txt':\n",
    "                txt_list.append(full_path)\n",
    "#                 print(full_path)\n",
    "            elif ext == '.jpg':\n",
    "                jpg_list.append(full_path)\n",
    "            \n",
    "            print(txt_list)\n",
    "                    "
   ]
  },
  {
   "cell_type": "code",
   "execution_count": 24,
   "metadata": {},
   "outputs": [
    {
     "name": "stdout",
     "output_type": "stream",
     "text": [
      "None\n"
     ]
    }
   ],
   "source": [
    "print(black_txt('D:/차량데이터영상_두원시스템/동영상 변환/night/ night (1) (4-6-2020 11-06-06 AM)'))"
   ]
  },
  {
   "cell_type": "code",
   "execution_count": null,
   "metadata": {},
   "outputs": [],
   "source": []
  },
  {
   "cell_type": "code",
   "execution_count": null,
   "metadata": {},
   "outputs": [],
   "source": []
  },
  {
   "cell_type": "code",
   "execution_count": null,
   "metadata": {},
   "outputs": [],
   "source": []
  },
  {
   "cell_type": "code",
   "execution_count": null,
   "metadata": {},
   "outputs": [],
   "source": []
  },
  {
   "cell_type": "code",
   "execution_count": null,
   "metadata": {},
   "outputs": [],
   "source": []
  },
  {
   "cell_type": "code",
   "execution_count": null,
   "metadata": {},
   "outputs": [],
   "source": []
  },
  {
   "cell_type": "code",
   "execution_count": null,
   "metadata": {},
   "outputs": [],
   "source": []
  },
  {
   "cell_type": "code",
   "execution_count": null,
   "metadata": {},
   "outputs": [],
   "source": []
  },
  {
   "cell_type": "code",
   "execution_count": null,
   "metadata": {},
   "outputs": [],
   "source": []
  },
  {
   "cell_type": "code",
   "execution_count": null,
   "metadata": {},
   "outputs": [],
   "source": [
    "line = f1.readline()\n",
    "print(line)"
   ]
  },
  {
   "cell_type": "code",
   "execution_count": null,
   "metadata": {},
   "outputs": [],
   "source": [
    "f1 = open('D:/Data collection/wheelchair_annotation/0421/31/wheelchair30(2)1007.txt')\n",
    "while True:\n",
    "    line = f1.readline()\n",
    "    print(line)\n",
    "    if not line:\n",
    "        print(line)\n",
    "        print('file finished')\n",
    "        break"
   ]
  },
  {
   "cell_type": "code",
   "execution_count": null,
   "metadata": {},
   "outputs": [],
   "source": [
    "def list_txt_blanck(dirname):\n",
    "    try:\n",
    "        txt_lists = []\n",
    "        jpg_lists = []\n",
    "        \n",
    "        txt_list = os.listdir(dirname)\n",
    "    \n",
    "        for txt in txt_list:\n",
    "            full_file = os.path.join(dirname, txt)\n",
    "            \n",
    "            if os.path.isdir(full_file):\n",
    "                list_txt_blanck(full_file)\n",
    "    \n",
    "            else:\n",
    "                \n",
    "                file_path = full_file.replace(\"\\\\\",'/')\n",
    "                file_replace = replaceRight(file_path,' ','_',3)\n",
    "                os.rename('{}'.format(file_path), '{}'.format(file_replace))\n",
    "                    \n",
    "                \n",
    "                \n",
    "#                 os.rename(file_path, '{}'.format(file_path.replace(' ','')))\n",
    "#                 blanck(full_file)\n",
    "                \n",
    "                \n",
    "                \n",
    "    except PermissionError:\n",
    "        pass\n",
    "    \n",
    "    \n",
    "def blanck(filename):\n",
    "    \n",
    "    new_filename = filename.replace('wheelchair_annotation','chair_wheel')\n",
    "    \n",
    "    dir = new_filename.replace('\\\\','/').split('/')\n",
    "    new_path = dir[0] + '/'\n",
    "    for i in range(1, len(dir)-1):\n",
    "        new_path = os.path.join(new_path, dir[i])\n",
    "        if not os.path.isdir(new_path):\n",
    "            os.makedirs(os.path.join(new_path))\n",
    "            \n",
    "            "
   ]
  },
  {
   "cell_type": "code",
   "execution_count": null,
   "metadata": {},
   "outputs": [],
   "source": [
    "list_txt_blanck('D:/Data_collection/wheelchair_annotation')"
   ]
  },
  {
   "cell_type": "code",
   "execution_count": null,
   "metadata": {},
   "outputs": [],
   "source": [
    "def replaceRight(original, old, new, count_right):\n",
    "    repeat=0\n",
    "    text = original\n",
    "    old_len = len(old)\n",
    "    \n",
    "    count_find = original.count(old)\n",
    "    if count_right > count_find : # 바꿀 횟수가 문자열에 포함된 old보다 많다면\n",
    "        repeat = count_find # 문자열에 포함된 old의 모든 개수(count_find)만큼 교체한다\n",
    "    else :\n",
    "        repeat = count_right # 아니라면 입력받은 개수(count)만큼 교체한다\n",
    "\n",
    "    while(repeat):\n",
    "        find_index = text.rfind(old) # 오른쪽부터 index를 찾기위해 rfind 사용\n",
    "        text = text[:find_index] + new + text[find_index+old_len:]\n",
    "\n",
    "        repeat -= 1\n",
    "      \n",
    "    return text"
   ]
  },
  {
   "cell_type": "code",
   "execution_count": null,
   "metadata": {},
   "outputs": [],
   "source": [
    "files = os.listdir('D:/Data_collection/wheelchair_annotation/1 (2)')\n",
    "\n",
    "for name in files:\n",
    "    newname = name.replace(' ','1')\n",
    "    os.rename(name, newname)\n",
    "    print(newname)"
   ]
  },
  {
   "cell_type": "code",
   "execution_count": null,
   "metadata": {},
   "outputs": [],
   "source": [
    "os.rename('D:/Data_collection/wheelchair_annotation/1 (2)/'+'2 (1).jpg', 'D:/Data_collection/wheelchair_annotation/1(2)/'+'2(1).jpg')"
   ]
  },
  {
   "cell_type": "code",
   "execution_count": null,
   "metadata": {},
   "outputs": [],
   "source": [
    "def blanck_strip(dirname):\n",
    "    try:\n",
    "        txt_lists = []\n",
    "        jpg_lists = []\n",
    "        \n",
    "        txt_list = os.listdir(dirname)\n",
    "    \n",
    "        for txt in txt_list:\n",
    "            full_file = os.path.join(dirname, txt)\n",
    "            \n",
    "            if os.path.isdir(full_file):\n",
    "                blanck_strip(full_file)\n",
    "    \n",
    "            else:\n",
    "#                 file_strip = txt.replace(\"\\\\\",'/')\n",
    "#                 print(txt.replace(\" \",''))\n",
    "#                 print(file_strip.replace(\"\\\\\",'/'))\n",
    "                os.rename(dirname+'/'+txt, dirname+'/'+txt.replace(\" \",\"\"))\n",
    "                \n",
    "                    \n",
    "                \n",
    "                \n",
    "#                 os.rename(file_path, '{}'.format(file_path.replace(' ','')))\n",
    "#                 blanck(full_file)\n",
    "                \n",
    "                \n",
    "                \n",
    "    except PermissionError:\n",
    "        pass"
   ]
  },
  {
   "cell_type": "code",
   "execution_count": null,
   "metadata": {},
   "outputs": [],
   "source": [
    "blanck_strip('D:/Data_collection/wheelchair_annotation/24/not_wheelchair')"
   ]
  },
  {
   "cell_type": "code",
   "execution_count": null,
   "metadata": {},
   "outputs": [],
   "source": [
    "blanck_strip('D:/Data_collection/wheelchair_annotation/24(21)/wheelchair')"
   ]
  },
  {
   "cell_type": "code",
   "execution_count": null,
   "metadata": {},
   "outputs": [],
   "source": [
    "blanck_strip('D:/Data_collection/wheelchair_annotation/24(21)')"
   ]
  },
  {
   "cell_type": "code",
   "execution_count": null,
   "metadata": {},
   "outputs": [],
   "source": []
  }
 ],
 "metadata": {
  "kernelspec": {
   "display_name": "Python 3",
   "language": "python",
   "name": "python3"
  },
  "language_info": {
   "codemirror_mode": {
    "name": "ipython",
    "version": 3
   },
   "file_extension": ".py",
   "mimetype": "text/x-python",
   "name": "python",
   "nbconvert_exporter": "python",
   "pygments_lexer": "ipython3",
   "version": "3.7.6"
  }
 },
 "nbformat": 4,
 "nbformat_minor": 4
}
